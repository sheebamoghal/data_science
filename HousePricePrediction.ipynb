{
 "cells": [
  {
   "cell_type": "markdown",
   "id": "b3194bec",
   "metadata": {},
   "source": [
    "### IMPORT MODULES & LOAD DATA\n"
   ]
  },
  {
   "cell_type": "markdown",
   "id": "a9ac673c",
   "metadata": {},
   "source": []
  },
  {
   "cell_type": "code",
   "execution_count": 1,
   "id": "f5e61b58",
   "metadata": {},
   "outputs": [],
   "source": [
    "#Importing Libraries \n",
    "\n",
    "import os \n",
    "import numpy \n",
    "import pandas as pd\n",
    "import seaborn as sns "
   ]
  },
  {
   "cell_type": "code",
   "execution_count": 2,
   "id": "8d1b754e",
   "metadata": {},
   "outputs": [],
   "source": [
    "#Set working directory\n",
    "\n",
    "os.getcwd()\n",
    "os.chdir(\"/Users/sheeba/Desktop/data_science /python/Project8-PropertyPricePrediction/Dataset\")\n"
   ]
  },
  {
   "cell_type": "code",
   "execution_count": 3,
   "id": "797c4d9e",
   "metadata": {},
   "outputs": [],
   "source": [
    "#Reading the data \n",
    "\n",
    "predictionDf=pd.read_csv(\"Property_Price_Prediction.csv\") # This is the prediction data\n",
    "\n",
    "sourceDf=pd.read_csv(\"Property_Price_Train.csv\") # Contains the Train Data + Test Data\n"
   ]
  },
  {
   "cell_type": "code",
   "execution_count": 4,
   "id": "b2d46f77",
   "metadata": {},
   "outputs": [],
   "source": [
    "#To see the print output properly\n",
    "\n",
    "pd.set_option('display.max_rows', 500)\n",
    "pd.set_option('display.max_columns', 500)\n",
    "pd.set_option('display.width', 500)"
   ]
  },
  {
   "cell_type": "code",
   "execution_count": 5,
   "id": "a328174b",
   "metadata": {},
   "outputs": [],
   "source": [
    "#Splitting the RawDf data into train and test with 80-20 ratio (80% training and 20% testing)\n",
    "from sklearn.model_selection import train_test_split\n",
    "trainDf, testDf= train_test_split(sourceDf, random_state=7, shuffle=True)"
   ]
  },
  {
   "cell_type": "markdown",
   "id": "676bd4c2",
   "metadata": {},
   "source": [
    "### Data Preprocessing "
   ]
  },
  {
   "cell_type": "markdown",
   "id": "f0c637d1",
   "metadata": {},
   "source": [
    "Splitting the 'RawDf data' into train and test with 80-20 ratio. Here, 80% is the training data used to train the model and another 20% is the testing data"
   ]
  },
  {
   "cell_type": "code",
   "execution_count": 6,
   "id": "2fc50701",
   "metadata": {},
   "outputs": [],
   "source": [
    "from sklearn.model_selection import train_test_split\n",
    "trainDf, testDf= train_test_split(sourceDf, random_state=7, shuffle=True)"
   ]
  },
  {
   "cell_type": "code",
   "execution_count": 7,
   "id": "da09857d",
   "metadata": {},
   "outputs": [
    {
     "name": "stderr",
     "output_type": "stream",
     "text": [
      "<ipython-input-7-376a966c6f2a>:3: SettingWithCopyWarning: \n",
      "A value is trying to be set on a copy of a slice from a DataFrame.\n",
      "Try using .loc[row_indexer,col_indexer] = value instead\n",
      "\n",
      "See the caveats in the documentation: https://pandas.pydata.org/pandas-docs/stable/user_guide/indexing.html#returning-a-view-versus-a-copy\n",
      "  trainDf['Source']=\"Train\"\n",
      "<ipython-input-7-376a966c6f2a>:4: SettingWithCopyWarning: \n",
      "A value is trying to be set on a copy of a slice from a DataFrame.\n",
      "Try using .loc[row_indexer,col_indexer] = value instead\n",
      "\n",
      "See the caveats in the documentation: https://pandas.pydata.org/pandas-docs/stable/user_guide/indexing.html#returning-a-view-versus-a-copy\n",
      "  testDf['Source']=\"Test\"\n"
     ]
    }
   ],
   "source": [
    "# For easy identification, we categorise the data\n",
    "\n",
    "trainDf['Source']=\"Train\"\n",
    "testDf['Source']=\"Test\"\n",
    "predictionDf['Source']=\"Prediction\""
   ]
  },
  {
   "cell_type": "code",
   "execution_count": 8,
   "id": "5e3cd542",
   "metadata": {},
   "outputs": [
    {
     "data": {
      "text/plain": [
       "(2918, 82)"
      ]
     },
     "execution_count": 8,
     "metadata": {},
     "output_type": "execute_result"
    }
   ],
   "source": [
    "# Combining the test+train+prediction data for easier identification & easy pre-processing\n",
    "sourceDf=pd.concat([trainDf,testDf,predictionDf], axis=0)\n",
    "sourceDf.shape"
   ]
  },
  {
   "cell_type": "code",
   "execution_count": 9,
   "id": "434b6f78",
   "metadata": {},
   "outputs": [],
   "source": [
    "#Dropping 'ID' column that is useless for our analysis\n",
    "sourceDf=sourceDf.drop(['Id'], axis=1)"
   ]
  },
  {
   "cell_type": "markdown",
   "id": "5c4f42c5",
   "metadata": {},
   "source": [
    "Univariate Analysis = \n",
    "Null Values and Missing Value Imputation "
   ]
  },
  {
   "cell_type": "code",
   "execution_count": 10,
   "id": "fa0b9e46",
   "metadata": {},
   "outputs": [
    {
     "data": {
      "text/plain": [
       "Building_Class                 int64\n",
       "Zoning_Class                  object\n",
       "Lot_Extent                   float64\n",
       "Lot_Size                     float64\n",
       "Road_Type                     object\n",
       "Lane_Type                     object\n",
       "Property_Shape                object\n",
       "Land_Outline                  object\n",
       "Utility_Type                  object\n",
       "Lot_Configuration             object\n",
       "Property_Slope                object\n",
       "Neighborhood                  object\n",
       "Condition1                    object\n",
       "Condition2                    object\n",
       "House_Type                    object\n",
       "House_Design                  object\n",
       "Overall_Material               int64\n",
       "House_Condition                int64\n",
       "Construction_Year              int64\n",
       "Remodel_Year                   int64\n",
       "Roof_Design                   object\n",
       "Roof_Quality                  object\n",
       "Exterior1st                   object\n",
       "Exterior2nd                   object\n",
       "Brick_Veneer_Type             object\n",
       "Brick_Veneer_Area            float64\n",
       "Exterior_Material             object\n",
       "Exterior_Condition            object\n",
       "Foundation_Type               object\n",
       "Basement_Height               object\n",
       "Basement_Condition            object\n",
       "Exposure_Level                object\n",
       "BsmtFinType1                  object\n",
       "BsmtFinSF1                   float64\n",
       "BsmtFinType2                  object\n",
       "BsmtFinSF2                   float64\n",
       "BsmtUnfSF                    float64\n",
       "Total_Basement_Area          float64\n",
       "Heating_Type                  object\n",
       "Heating_Quality               object\n",
       "Air_Conditioning              object\n",
       "Electrical_System             object\n",
       "First_Floor_Area               int64\n",
       "Second_Floor_Area              int64\n",
       "LowQualFinSF                   int64\n",
       "Grade_Living_Area              int64\n",
       "Underground_Full_Bathroom    float64\n",
       "Underground_Half_Bathroom    float64\n",
       "Full_Bathroom_Above_Grade      int64\n",
       "Half_Bathroom_Above_Grade      int64\n",
       "Bedroom_Above_Grade            int64\n",
       "Kitchen_Above_Grade            int64\n",
       "Kitchen_Quality               object\n",
       "Rooms_Above_Grade              int64\n",
       "Functional_Rate               object\n",
       "Fireplaces                     int64\n",
       "Fireplace_Quality             object\n",
       "Garage                        object\n",
       "Garage_Built_Year            float64\n",
       "Garage_Finish_Year            object\n",
       "Garage_Size                  float64\n",
       "Garage_Area                  float64\n",
       "Garage_Quality                object\n",
       "Garage_Condition              object\n",
       "Pavedd_Drive                  object\n",
       "W_Deck_Area                  float64\n",
       "Open_Lobby_Area              float64\n",
       "Enclosed_Lobby_Area          float64\n",
       "Three_Season_Lobby_Area        int64\n",
       "Screen_Lobby_Area              int64\n",
       "Pool_Area                      int64\n",
       "Pool_Quality                  object\n",
       "Fence_Quality                 object\n",
       "Miscellaneous_Feature         object\n",
       "Miscellaneous_Value            int64\n",
       "Month_Sold                     int64\n",
       "Year_Sold                      int64\n",
       "Sale_Type                     object\n",
       "Sale_Condition                object\n",
       "Sale_Price                   float64\n",
       "Source                        object\n",
       "dtype: object"
      ]
     },
     "execution_count": 10,
     "metadata": {},
     "output_type": "execute_result"
    }
   ],
   "source": [
    "sourceDf.dtypes #checking the data type for missing value treatment"
   ]
  },
  {
   "cell_type": "code",
   "execution_count": 11,
   "id": "16db385f",
   "metadata": {},
   "outputs": [
    {
     "data": {
      "text/plain": [
       "Building_Class                  0\n",
       "Zoning_Class                    4\n",
       "Lot_Extent                    486\n",
       "Lot_Size                        0\n",
       "Road_Type                       0\n",
       "Lane_Type                    2720\n",
       "Property_Shape                  0\n",
       "Land_Outline                    0\n",
       "Utility_Type                    2\n",
       "Lot_Configuration               0\n",
       "Property_Slope                  0\n",
       "Neighborhood                    0\n",
       "Condition1                      0\n",
       "Condition2                      0\n",
       "House_Type                      0\n",
       "House_Design                    0\n",
       "Overall_Material                0\n",
       "House_Condition                 0\n",
       "Construction_Year               0\n",
       "Remodel_Year                    0\n",
       "Roof_Design                     0\n",
       "Roof_Quality                    0\n",
       "Exterior1st                     1\n",
       "Exterior2nd                     1\n",
       "Brick_Veneer_Type              24\n",
       "Brick_Veneer_Area              23\n",
       "Exterior_Material               0\n",
       "Exterior_Condition              0\n",
       "Foundation_Type                 0\n",
       "Basement_Height                81\n",
       "Basement_Condition             82\n",
       "Exposure_Level                 82\n",
       "BsmtFinType1                   79\n",
       "BsmtFinSF1                      1\n",
       "BsmtFinType2                   80\n",
       "BsmtFinSF2                      1\n",
       "BsmtUnfSF                       1\n",
       "Total_Basement_Area             1\n",
       "Heating_Type                    0\n",
       "Heating_Quality                 0\n",
       "Air_Conditioning                0\n",
       "Electrical_System               1\n",
       "First_Floor_Area                0\n",
       "Second_Floor_Area               0\n",
       "LowQualFinSF                    0\n",
       "Grade_Living_Area               0\n",
       "Underground_Full_Bathroom       2\n",
       "Underground_Half_Bathroom       2\n",
       "Full_Bathroom_Above_Grade       0\n",
       "Half_Bathroom_Above_Grade       0\n",
       "Bedroom_Above_Grade             0\n",
       "Kitchen_Above_Grade             0\n",
       "Kitchen_Quality                 1\n",
       "Rooms_Above_Grade               0\n",
       "Functional_Rate                 2\n",
       "Fireplaces                      0\n",
       "Fireplace_Quality            1419\n",
       "Garage                        157\n",
       "Garage_Built_Year             159\n",
       "Garage_Finish_Year            159\n",
       "Garage_Size                     1\n",
       "Garage_Area                     1\n",
       "Garage_Quality                159\n",
       "Garage_Condition              159\n",
       "Pavedd_Drive                    0\n",
       "W_Deck_Area                     0\n",
       "Open_Lobby_Area                 0\n",
       "Enclosed_Lobby_Area             0\n",
       "Three_Season_Lobby_Area         0\n",
       "Screen_Lobby_Area               0\n",
       "Pool_Area                       0\n",
       "Pool_Quality                 2908\n",
       "Fence_Quality                2347\n",
       "Miscellaneous_Feature        2813\n",
       "Miscellaneous_Value             0\n",
       "Month_Sold                      0\n",
       "Year_Sold                       0\n",
       "Sale_Type                       1\n",
       "Sale_Condition                  0\n",
       "Sale_Price                   1459\n",
       "Source                          0\n",
       "dtype: int64"
      ]
     },
     "execution_count": 11,
     "metadata": {},
     "output_type": "execute_result"
    }
   ],
   "source": [
    "#loop method for missing value imputation [univariate analysis] \n",
    "sourceDf.isnull().sum()  "
   ]
  },
  {
   "cell_type": "code",
   "execution_count": 12,
   "id": "41fa51e1",
   "metadata": {},
   "outputs": [
    {
     "name": "stdout",
     "output_type": "stream",
     "text": [
      "Index(['Building_Class', 'Zoning_Class', 'Lot_Extent', 'Lot_Size', 'Road_Type', 'Lane_Type', 'Property_Shape', 'Land_Outline', 'Utility_Type', 'Lot_Configuration', 'Property_Slope', 'Neighborhood', 'Condition1', 'Condition2', 'House_Type', 'House_Design', 'Overall_Material', 'House_Condition', 'Construction_Year', 'Remodel_Year', 'Roof_Design', 'Roof_Quality', 'Exterior1st', 'Exterior2nd', 'Brick_Veneer_Type', 'Brick_Veneer_Area', 'Exterior_Material', 'Exterior_Condition', 'Foundation_Type',\n",
      "       'Basement_Height', 'Basement_Condition', 'Exposure_Level', 'BsmtFinType1', 'BsmtFinSF1', 'BsmtFinType2', 'BsmtFinSF2', 'BsmtUnfSF', 'Total_Basement_Area', 'Heating_Type', 'Heating_Quality', 'Air_Conditioning', 'Electrical_System', 'First_Floor_Area', 'Second_Floor_Area', 'LowQualFinSF', 'Grade_Living_Area', 'Underground_Full_Bathroom', 'Underground_Half_Bathroom', 'Full_Bathroom_Above_Grade', 'Half_Bathroom_Above_Grade', 'Bedroom_Above_Grade', 'Kitchen_Above_Grade', 'Kitchen_Quality',\n",
      "       'Rooms_Above_Grade', 'Functional_Rate', 'Fireplaces', 'Fireplace_Quality', 'Garage', 'Garage_Built_Year', 'Garage_Finish_Year', 'Garage_Size', 'Garage_Area', 'Garage_Quality', 'Garage_Condition', 'Pavedd_Drive', 'W_Deck_Area', 'Open_Lobby_Area', 'Enclosed_Lobby_Area', 'Three_Season_Lobby_Area', 'Screen_Lobby_Area', 'Pool_Area', 'Pool_Quality', 'Fence_Quality', 'Miscellaneous_Feature', 'Miscellaneous_Value', 'Month_Sold', 'Year_Sold', 'Sale_Type', 'Sale_Condition', 'Sale_Price',\n",
      "       'Source'],\n",
      "      dtype='object')\n",
      "Cont:  Building_Class\n",
      "Cat:  Zoning_Class\n",
      "Cont:  Lot_Extent\n",
      "Cont:  Lot_Size\n",
      "Cat:  Road_Type\n",
      "Cat:  Lane_Type\n",
      "Cat:  Property_Shape\n",
      "Cat:  Land_Outline\n",
      "Cat:  Utility_Type\n",
      "Cat:  Lot_Configuration\n",
      "Cat:  Property_Slope\n",
      "Cat:  Neighborhood\n",
      "Cat:  Condition1\n",
      "Cat:  Condition2\n",
      "Cat:  House_Type\n",
      "Cat:  House_Design\n",
      "Cont:  Overall_Material\n",
      "Cont:  House_Condition\n",
      "Cont:  Construction_Year\n",
      "Cont:  Remodel_Year\n",
      "Cat:  Roof_Design\n",
      "Cat:  Roof_Quality\n",
      "Cat:  Exterior1st\n",
      "Cat:  Exterior2nd\n",
      "Cat:  Brick_Veneer_Type\n",
      "Cont:  Brick_Veneer_Area\n",
      "Cat:  Exterior_Material\n",
      "Cat:  Exterior_Condition\n",
      "Cat:  Foundation_Type\n",
      "Cat:  Basement_Height\n",
      "Cat:  Basement_Condition\n",
      "Cat:  Exposure_Level\n",
      "Cat:  BsmtFinType1\n",
      "Cont:  BsmtFinSF1\n",
      "Cat:  BsmtFinType2\n",
      "Cont:  BsmtFinSF2\n",
      "Cont:  BsmtUnfSF\n",
      "Cont:  Total_Basement_Area\n",
      "Cat:  Heating_Type\n",
      "Cat:  Heating_Quality\n",
      "Cat:  Air_Conditioning\n",
      "Cat:  Electrical_System\n",
      "Cont:  First_Floor_Area\n",
      "Cont:  Second_Floor_Area\n",
      "Cont:  LowQualFinSF\n",
      "Cont:  Grade_Living_Area\n",
      "Cont:  Underground_Full_Bathroom\n",
      "Cont:  Underground_Half_Bathroom\n",
      "Cont:  Full_Bathroom_Above_Grade\n",
      "Cont:  Half_Bathroom_Above_Grade\n",
      "Cont:  Bedroom_Above_Grade\n",
      "Cont:  Kitchen_Above_Grade\n",
      "Cat:  Kitchen_Quality\n",
      "Cont:  Rooms_Above_Grade\n",
      "Cat:  Functional_Rate\n",
      "Cont:  Fireplaces\n",
      "Cat:  Fireplace_Quality\n",
      "Cat:  Garage\n",
      "Cont:  Garage_Built_Year\n",
      "Cat:  Garage_Finish_Year\n",
      "Cont:  Garage_Size\n",
      "Cont:  Garage_Area\n",
      "Cat:  Garage_Quality\n",
      "Cat:  Garage_Condition\n",
      "Cat:  Pavedd_Drive\n",
      "Cont:  W_Deck_Area\n",
      "Cont:  Open_Lobby_Area\n",
      "Cont:  Enclosed_Lobby_Area\n",
      "Cont:  Three_Season_Lobby_Area\n",
      "Cont:  Screen_Lobby_Area\n",
      "Cont:  Pool_Area\n",
      "Cat:  Pool_Quality\n",
      "Cat:  Fence_Quality\n",
      "Cat:  Miscellaneous_Feature\n",
      "Cont:  Miscellaneous_Value\n",
      "Cont:  Month_Sold\n",
      "Cont:  Year_Sold\n",
      "Cat:  Sale_Type\n",
      "Cat:  Sale_Condition\n"
     ]
    }
   ],
   "source": [
    "# Loop method for missing value imputation \n",
    "sourceDf.isnull().sum()     \n",
    "\n",
    "sourceDf_columns=sourceDf.columns\n",
    "print(sourceDf_columns)\n",
    "for i in (sourceDf_columns):\n",
    "    \n",
    "    if (i in [\"Sale_Price\", \"Source\"]):\n",
    "        continue\n",
    "    \n",
    "    if trainDf[i].dtype == object:\n",
    "        print(\"Cat: \", i)\n",
    "        tempMode = sourceDf.loc[sourceDf[\"Source\"] == \"Train\", i].mode()[0]\n",
    "        sourceDf[i].fillna(tempMode, inplace = True)\n",
    "    else:\n",
    "        print(\"Cont: \", i)\n",
    "        tempMedian = trainDf[i].median()\n",
    "        sourceDf[i] = sourceDf[i].fillna(tempMedian)"
   ]
  },
  {
   "cell_type": "code",
   "execution_count": 13,
   "id": "ebd9d1d4",
   "metadata": {},
   "outputs": [
    {
     "data": {
      "text/plain": [
       "Building_Class                  0\n",
       "Zoning_Class                    0\n",
       "Lot_Extent                      0\n",
       "Lot_Size                        0\n",
       "Road_Type                       0\n",
       "Lane_Type                       0\n",
       "Property_Shape                  0\n",
       "Land_Outline                    0\n",
       "Utility_Type                    0\n",
       "Lot_Configuration               0\n",
       "Property_Slope                  0\n",
       "Neighborhood                    0\n",
       "Condition1                      0\n",
       "Condition2                      0\n",
       "House_Type                      0\n",
       "House_Design                    0\n",
       "Overall_Material                0\n",
       "House_Condition                 0\n",
       "Construction_Year               0\n",
       "Remodel_Year                    0\n",
       "Roof_Design                     0\n",
       "Roof_Quality                    0\n",
       "Exterior1st                     0\n",
       "Exterior2nd                     0\n",
       "Brick_Veneer_Type               0\n",
       "Brick_Veneer_Area               0\n",
       "Exterior_Material               0\n",
       "Exterior_Condition              0\n",
       "Foundation_Type                 0\n",
       "Basement_Height                 0\n",
       "Basement_Condition              0\n",
       "Exposure_Level                  0\n",
       "BsmtFinType1                    0\n",
       "BsmtFinSF1                      0\n",
       "BsmtFinType2                    0\n",
       "BsmtFinSF2                      0\n",
       "BsmtUnfSF                       0\n",
       "Total_Basement_Area             0\n",
       "Heating_Type                    0\n",
       "Heating_Quality                 0\n",
       "Air_Conditioning                0\n",
       "Electrical_System               0\n",
       "First_Floor_Area                0\n",
       "Second_Floor_Area               0\n",
       "LowQualFinSF                    0\n",
       "Grade_Living_Area               0\n",
       "Underground_Full_Bathroom       0\n",
       "Underground_Half_Bathroom       0\n",
       "Full_Bathroom_Above_Grade       0\n",
       "Half_Bathroom_Above_Grade       0\n",
       "Bedroom_Above_Grade             0\n",
       "Kitchen_Above_Grade             0\n",
       "Kitchen_Quality                 0\n",
       "Rooms_Above_Grade               0\n",
       "Functional_Rate                 0\n",
       "Fireplaces                      0\n",
       "Fireplace_Quality               0\n",
       "Garage                          0\n",
       "Garage_Built_Year               0\n",
       "Garage_Finish_Year              0\n",
       "Garage_Size                     0\n",
       "Garage_Area                     0\n",
       "Garage_Quality                  0\n",
       "Garage_Condition                0\n",
       "Pavedd_Drive                    0\n",
       "W_Deck_Area                     0\n",
       "Open_Lobby_Area                 0\n",
       "Enclosed_Lobby_Area             0\n",
       "Three_Season_Lobby_Area         0\n",
       "Screen_Lobby_Area               0\n",
       "Pool_Area                       0\n",
       "Pool_Quality                    0\n",
       "Fence_Quality                   0\n",
       "Miscellaneous_Feature           0\n",
       "Miscellaneous_Value             0\n",
       "Month_Sold                      0\n",
       "Year_Sold                       0\n",
       "Sale_Type                       0\n",
       "Sale_Condition                  0\n",
       "Sale_Price                   1459\n",
       "Source                          0\n",
       "dtype: int64"
      ]
     },
     "execution_count": 13,
     "metadata": {},
     "output_type": "execute_result"
    }
   ],
   "source": [
    "sourceDf.isnull().sum()  #for checking "
   ]
  },
  {
   "cell_type": "markdown",
   "id": "1189bc4d",
   "metadata": {},
   "source": [
    "Bivariate analysis for continusous variables = Scatterplot"
   ]
  },
  {
   "cell_type": "code",
   "execution_count": 14,
   "id": "7ca1c859",
   "metadata": {},
   "outputs": [],
   "source": [
    "corrDf=sourceDf[sourceDf[\"Source\"]==\"Train\"].corr() #shows numbers"
   ]
  },
  {
   "cell_type": "code",
   "execution_count": 15,
   "id": "133f2a10",
   "metadata": {},
   "outputs": [
    {
     "data": {
      "text/html": [
       "<div>\n",
       "<style scoped>\n",
       "    .dataframe tbody tr th:only-of-type {\n",
       "        vertical-align: middle;\n",
       "    }\n",
       "\n",
       "    .dataframe tbody tr th {\n",
       "        vertical-align: top;\n",
       "    }\n",
       "\n",
       "    .dataframe thead th {\n",
       "        text-align: right;\n",
       "    }\n",
       "</style>\n",
       "<table border=\"1\" class=\"dataframe\">\n",
       "  <thead>\n",
       "    <tr style=\"text-align: right;\">\n",
       "      <th></th>\n",
       "      <th>Building_Class</th>\n",
       "      <th>Lot_Extent</th>\n",
       "      <th>Lot_Size</th>\n",
       "      <th>Overall_Material</th>\n",
       "      <th>House_Condition</th>\n",
       "      <th>Construction_Year</th>\n",
       "      <th>Remodel_Year</th>\n",
       "      <th>Brick_Veneer_Area</th>\n",
       "      <th>BsmtFinSF1</th>\n",
       "      <th>BsmtFinSF2</th>\n",
       "      <th>BsmtUnfSF</th>\n",
       "      <th>Total_Basement_Area</th>\n",
       "      <th>First_Floor_Area</th>\n",
       "      <th>Second_Floor_Area</th>\n",
       "      <th>LowQualFinSF</th>\n",
       "      <th>Grade_Living_Area</th>\n",
       "      <th>Underground_Full_Bathroom</th>\n",
       "      <th>Underground_Half_Bathroom</th>\n",
       "      <th>Full_Bathroom_Above_Grade</th>\n",
       "      <th>Half_Bathroom_Above_Grade</th>\n",
       "      <th>Bedroom_Above_Grade</th>\n",
       "      <th>Kitchen_Above_Grade</th>\n",
       "      <th>Rooms_Above_Grade</th>\n",
       "      <th>Fireplaces</th>\n",
       "      <th>Garage_Built_Year</th>\n",
       "      <th>Garage_Size</th>\n",
       "      <th>Garage_Area</th>\n",
       "      <th>W_Deck_Area</th>\n",
       "      <th>Open_Lobby_Area</th>\n",
       "      <th>Enclosed_Lobby_Area</th>\n",
       "      <th>Three_Season_Lobby_Area</th>\n",
       "      <th>Screen_Lobby_Area</th>\n",
       "      <th>Pool_Area</th>\n",
       "      <th>Miscellaneous_Value</th>\n",
       "      <th>Month_Sold</th>\n",
       "      <th>Year_Sold</th>\n",
       "      <th>Sale_Price</th>\n",
       "    </tr>\n",
       "  </thead>\n",
       "  <tbody>\n",
       "    <tr>\n",
       "      <th>Building_Class</th>\n",
       "      <td>1.000000</td>\n",
       "      <td>-0.375204</td>\n",
       "      <td>-0.151415</td>\n",
       "      <td>0.015161</td>\n",
       "      <td>-0.035973</td>\n",
       "      <td>0.027752</td>\n",
       "      <td>0.051120</td>\n",
       "      <td>0.002755</td>\n",
       "      <td>-0.073192</td>\n",
       "      <td>-0.050067</td>\n",
       "      <td>-0.152653</td>\n",
       "      <td>-0.258716</td>\n",
       "      <td>-0.281221</td>\n",
       "      <td>0.303251</td>\n",
       "      <td>0.046070</td>\n",
       "      <td>0.060282</td>\n",
       "      <td>0.021708</td>\n",
       "      <td>-0.020101</td>\n",
       "      <td>0.125435</td>\n",
       "      <td>0.149208</td>\n",
       "      <td>-0.023698</td>\n",
       "      <td>0.266982</td>\n",
       "      <td>0.031109</td>\n",
       "      <td>-0.059634</td>\n",
       "      <td>0.083416</td>\n",
       "      <td>-0.062429</td>\n",
       "      <td>-0.025106</td>\n",
       "      <td>-0.008221</td>\n",
       "      <td>-0.045115</td>\n",
       "      <td>0.004460</td>\n",
       "      <td>-0.051776</td>\n",
       "      <td>-0.023596</td>\n",
       "      <td>0.009560</td>\n",
       "      <td>0.032598</td>\n",
       "      <td>-0.015512</td>\n",
       "      <td>0.007136</td>\n",
       "      <td>-0.095911</td>\n",
       "    </tr>\n",
       "    <tr>\n",
       "      <th>Lot_Extent</th>\n",
       "      <td>-0.375204</td>\n",
       "      <td>1.000000</td>\n",
       "      <td>0.306817</td>\n",
       "      <td>0.233116</td>\n",
       "      <td>-0.050668</td>\n",
       "      <td>0.120995</td>\n",
       "      <td>0.085383</td>\n",
       "      <td>0.162307</td>\n",
       "      <td>0.142675</td>\n",
       "      <td>0.050178</td>\n",
       "      <td>0.123415</td>\n",
       "      <td>0.298256</td>\n",
       "      <td>0.362875</td>\n",
       "      <td>0.066019</td>\n",
       "      <td>0.056650</td>\n",
       "      <td>0.328375</td>\n",
       "      <td>0.079018</td>\n",
       "      <td>-0.002738</td>\n",
       "      <td>0.167212</td>\n",
       "      <td>0.080822</td>\n",
       "      <td>0.236189</td>\n",
       "      <td>-0.018868</td>\n",
       "      <td>0.303066</td>\n",
       "      <td>0.211664</td>\n",
       "      <td>0.053627</td>\n",
       "      <td>0.289793</td>\n",
       "      <td>-0.037035</td>\n",
       "      <td>0.063076</td>\n",
       "      <td>-0.018549</td>\n",
       "      <td>-0.016178</td>\n",
       "      <td>0.080557</td>\n",
       "      <td>0.034496</td>\n",
       "      <td>0.111550</td>\n",
       "      <td>-0.004415</td>\n",
       "      <td>0.028559</td>\n",
       "      <td>-0.003466</td>\n",
       "      <td>0.361367</td>\n",
       "    </tr>\n",
       "    <tr>\n",
       "      <th>Lot_Size</th>\n",
       "      <td>-0.151415</td>\n",
       "      <td>0.306817</td>\n",
       "      <td>1.000000</td>\n",
       "      <td>0.088221</td>\n",
       "      <td>-0.006862</td>\n",
       "      <td>0.017351</td>\n",
       "      <td>0.012509</td>\n",
       "      <td>0.088823</td>\n",
       "      <td>0.201497</td>\n",
       "      <td>0.070644</td>\n",
       "      <td>0.004329</td>\n",
       "      <td>0.238081</td>\n",
       "      <td>0.300943</td>\n",
       "      <td>0.034762</td>\n",
       "      <td>0.004506</td>\n",
       "      <td>0.251057</td>\n",
       "      <td>0.156744</td>\n",
       "      <td>0.013689</td>\n",
       "      <td>0.117687</td>\n",
       "      <td>0.033701</td>\n",
       "      <td>0.128479</td>\n",
       "      <td>-0.022732</td>\n",
       "      <td>0.184455</td>\n",
       "      <td>0.268986</td>\n",
       "      <td>-0.027109</td>\n",
       "      <td>0.179479</td>\n",
       "      <td>0.016968</td>\n",
       "      <td>0.019731</td>\n",
       "      <td>-0.026450</td>\n",
       "      <td>0.016032</td>\n",
       "      <td>0.040606</td>\n",
       "      <td>0.037673</td>\n",
       "      <td>0.055606</td>\n",
       "      <td>0.059318</td>\n",
       "      <td>-0.001625</td>\n",
       "      <td>-0.016179</td>\n",
       "      <td>0.250241</td>\n",
       "    </tr>\n",
       "    <tr>\n",
       "      <th>Overall_Material</th>\n",
       "      <td>0.015161</td>\n",
       "      <td>0.233116</td>\n",
       "      <td>0.088221</td>\n",
       "      <td>1.000000</td>\n",
       "      <td>-0.062036</td>\n",
       "      <td>0.567331</td>\n",
       "      <td>0.558930</td>\n",
       "      <td>0.404310</td>\n",
       "      <td>0.187164</td>\n",
       "      <td>-0.044146</td>\n",
       "      <td>0.331709</td>\n",
       "      <td>0.531238</td>\n",
       "      <td>0.460448</td>\n",
       "      <td>0.301096</td>\n",
       "      <td>-0.052198</td>\n",
       "      <td>0.592809</td>\n",
       "      <td>0.085659</td>\n",
       "      <td>-0.051198</td>\n",
       "      <td>0.559881</td>\n",
       "      <td>0.270291</td>\n",
       "      <td>0.117905</td>\n",
       "      <td>-0.181552</td>\n",
       "      <td>0.439539</td>\n",
       "      <td>0.395858</td>\n",
       "      <td>0.495025</td>\n",
       "      <td>0.592777</td>\n",
       "      <td>0.029648</td>\n",
       "      <td>0.070115</td>\n",
       "      <td>-0.081231</td>\n",
       "      <td>-0.013245</td>\n",
       "      <td>0.031315</td>\n",
       "      <td>0.051906</td>\n",
       "      <td>0.053054</td>\n",
       "      <td>-0.034537</td>\n",
       "      <td>0.080517</td>\n",
       "      <td>-0.003374</td>\n",
       "      <td>0.792778</td>\n",
       "    </tr>\n",
       "    <tr>\n",
       "      <th>House_Condition</th>\n",
       "      <td>-0.035973</td>\n",
       "      <td>-0.050668</td>\n",
       "      <td>-0.006862</td>\n",
       "      <td>-0.062036</td>\n",
       "      <td>1.000000</td>\n",
       "      <td>-0.355308</td>\n",
       "      <td>0.067585</td>\n",
       "      <td>-0.130786</td>\n",
       "      <td>-0.023514</td>\n",
       "      <td>0.027071</td>\n",
       "      <td>-0.135621</td>\n",
       "      <td>-0.159525</td>\n",
       "      <td>-0.135043</td>\n",
       "      <td>0.031009</td>\n",
       "      <td>-0.026553</td>\n",
       "      <td>-0.074687</td>\n",
       "      <td>-0.040920</td>\n",
       "      <td>0.151001</td>\n",
       "      <td>-0.201142</td>\n",
       "      <td>-0.053301</td>\n",
       "      <td>0.026608</td>\n",
       "      <td>-0.082079</td>\n",
       "      <td>-0.045098</td>\n",
       "      <td>-0.015728</td>\n",
       "      <td>-0.304559</td>\n",
       "      <td>-0.160127</td>\n",
       "      <td>-0.012056</td>\n",
       "      <td>0.054183</td>\n",
       "      <td>-0.003101</td>\n",
       "      <td>-0.021282</td>\n",
       "      <td>0.017203</td>\n",
       "      <td>0.026751</td>\n",
       "      <td>0.003813</td>\n",
       "      <td>0.066592</td>\n",
       "      <td>0.005658</td>\n",
       "      <td>0.052853</td>\n",
       "      <td>-0.063978</td>\n",
       "    </tr>\n",
       "  </tbody>\n",
       "</table>\n",
       "</div>"
      ],
      "text/plain": [
       "                  Building_Class  Lot_Extent  Lot_Size  Overall_Material  House_Condition  Construction_Year  Remodel_Year  Brick_Veneer_Area  BsmtFinSF1  BsmtFinSF2  BsmtUnfSF  Total_Basement_Area  First_Floor_Area  Second_Floor_Area  LowQualFinSF  Grade_Living_Area  Underground_Full_Bathroom  Underground_Half_Bathroom  Full_Bathroom_Above_Grade  Half_Bathroom_Above_Grade  Bedroom_Above_Grade  Kitchen_Above_Grade  Rooms_Above_Grade  Fireplaces  Garage_Built_Year  Garage_Size  Garage_Area  \\\n",
       "Building_Class          1.000000   -0.375204 -0.151415          0.015161        -0.035973           0.027752      0.051120           0.002755   -0.073192   -0.050067  -0.152653            -0.258716         -0.281221           0.303251      0.046070           0.060282                   0.021708                  -0.020101                   0.125435                   0.149208            -0.023698             0.266982           0.031109   -0.059634           0.083416    -0.062429    -0.025106   \n",
       "Lot_Extent             -0.375204    1.000000  0.306817          0.233116        -0.050668           0.120995      0.085383           0.162307    0.142675    0.050178   0.123415             0.298256          0.362875           0.066019      0.056650           0.328375                   0.079018                  -0.002738                   0.167212                   0.080822             0.236189            -0.018868           0.303066    0.211664           0.053627     0.289793    -0.037035   \n",
       "Lot_Size               -0.151415    0.306817  1.000000          0.088221        -0.006862           0.017351      0.012509           0.088823    0.201497    0.070644   0.004329             0.238081          0.300943           0.034762      0.004506           0.251057                   0.156744                   0.013689                   0.117687                   0.033701             0.128479            -0.022732           0.184455    0.268986          -0.027109     0.179479     0.016968   \n",
       "Overall_Material        0.015161    0.233116  0.088221          1.000000        -0.062036           0.567331      0.558930           0.404310    0.187164   -0.044146   0.331709             0.531238          0.460448           0.301096     -0.052198           0.592809                   0.085659                  -0.051198                   0.559881                   0.270291             0.117905            -0.181552           0.439539    0.395858           0.495025     0.592777     0.029648   \n",
       "House_Condition        -0.035973   -0.050668 -0.006862         -0.062036         1.000000          -0.355308      0.067585          -0.130786   -0.023514    0.027071  -0.135621            -0.159525         -0.135043           0.031009     -0.026553          -0.074687                  -0.040920                   0.151001                  -0.201142                  -0.053301             0.026608            -0.082079          -0.045098   -0.015728          -0.304559    -0.160127    -0.012056   \n",
       "\n",
       "                  W_Deck_Area  Open_Lobby_Area  Enclosed_Lobby_Area  Three_Season_Lobby_Area  Screen_Lobby_Area  Pool_Area  Miscellaneous_Value  Month_Sold  Year_Sold  Sale_Price  \n",
       "Building_Class      -0.008221        -0.045115             0.004460                -0.051776          -0.023596   0.009560             0.032598   -0.015512   0.007136   -0.095911  \n",
       "Lot_Extent           0.063076        -0.018549            -0.016178                 0.080557           0.034496   0.111550            -0.004415    0.028559  -0.003466    0.361367  \n",
       "Lot_Size             0.019731        -0.026450             0.016032                 0.040606           0.037673   0.055606             0.059318   -0.001625  -0.016179    0.250241  \n",
       "Overall_Material     0.070115        -0.081231            -0.013245                 0.031315           0.051906   0.053054            -0.034537    0.080517  -0.003374    0.792778  \n",
       "House_Condition      0.054183        -0.003101            -0.021282                 0.017203           0.026751   0.003813             0.066592    0.005658   0.052853   -0.063978  "
      ]
     },
     "execution_count": 15,
     "metadata": {},
     "output_type": "execute_result"
    }
   ],
   "source": [
    "corrDf.head() "
   ]
  },
  {
   "cell_type": "code",
   "execution_count": 16,
   "id": "d96ad1f9",
   "metadata": {},
   "outputs": [
    {
     "data": {
      "text/plain": [
       "<AxesSubplot:>"
      ]
     },
     "execution_count": 16,
     "metadata": {},
     "output_type": "execute_result"
    },
    {
     "data": {
      "image/png": "[encoded data removed]",
      "text/plain": [
       "<Figure size 432x288 with 2 Axes>"
      ]
     },
     "metadata": {
      "needs_background": "light"
     },
     "output_type": "display_data"
    }
   ],
   "source": [
    "sns.heatmap(corrDf,linecolor=\"blue\", xticklabels=\"auto\", yticklabels=\"auto\", cmap='winter')"
   ]
  },
  {
   "cell_type": "markdown",
   "id": "77392f22",
   "metadata": {},
   "source": [
    "Bivariate analysis for categorical variables = Boxplot"
   ]
  },
  {
   "cell_type": "code",
   "execution_count": 17,
   "id": "923d5a94",
   "metadata": {},
   "outputs": [
    {
     "name": "stdout",
     "output_type": "stream",
     "text": [
      "Index(['Zoning_Class', 'Road_Type', 'Lane_Type', 'Property_Shape', 'Land_Outline', 'Utility_Type', 'Lot_Configuration', 'Property_Slope', 'Neighborhood', 'Condition1', 'Condition2', 'House_Type', 'House_Design', 'Roof_Design', 'Roof_Quality', 'Exterior1st', 'Exterior2nd', 'Brick_Veneer_Type', 'Exterior_Material', 'Exterior_Condition', 'Foundation_Type', 'Basement_Height', 'Basement_Condition', 'Exposure_Level', 'BsmtFinType1', 'BsmtFinType2', 'Heating_Type', 'Heating_Quality',\n",
      "       'Air_Conditioning', 'Electrical_System', 'Kitchen_Quality', 'Functional_Rate', 'Fireplace_Quality', 'Garage', 'Garage_Finish_Year', 'Garage_Quality', 'Garage_Condition', 'Pavedd_Drive', 'Pool_Quality', 'Fence_Quality', 'Miscellaneous_Feature', 'Sale_Type', 'Sale_Condition', 'Source'],\n",
      "      dtype='object')\n"
     ]
    }
   ],
   "source": [
    "categoricalVars=trainDf.columns[trainDf.dtypes==object]\n",
    "print(categoricalVars)  "
   ]
  },
  {
   "cell_type": "code",
   "execution_count": 18,
   "id": "3bee67df",
   "metadata": {},
   "outputs": [
    {
     "name": "stderr",
     "output_type": "stream",
     "text": [
      "<ipython-input-18-d62603df7c3b>:3: RuntimeWarning: More than 20 figures have been opened. Figures created through the pyplot interface (`matplotlib.pyplot.figure`) are retained until explicitly closed and may consume too much memory. (To control this warning, see the rcParam `figure.max_open_warning`).\n",
      "  figure()\n"
     ]
    },
    {
     "data": {
      "image/png": "[encoded data removed]",
      "text/plain": [
       "<Figure size 432x288 with 1 Axes>"
      ]
     },
     "metadata": {
      "needs_background": "light"
     },
     "output_type": "display_data"
    },
    {
     "data": {
      "image/png": "[encoded data removed]",
      "text/plain": [
       "<Figure size 432x288 with 1 Axes>"
      ]
     },
     "metadata": {
      "needs_background": "light"
     },
     "output_type": "display_data"
    },
    {
     "data": {
      "image/png": "[encoded data removed]",
      "text/plain": [
       "<Figure size 432x288 with 1 Axes>"
      ]
     },
     "metadata": {
      "needs_background": "light"
     },
     "output_type": "display_data"
    },
    {
     "data": {
      "image/png": "[encoded data removed]",
      "text/plain": [
       "<Figure size 432x288 with 1 Axes>"
      ]
     },
     "metadata": {
      "needs_background": "light"
     },
     "output_type": "display_data"
    },
    {
     "data": {
      "image/png": "[encoded data removed]",
      "text/plain": [
       "<Figure size 432x288 with 1 Axes>"
      ]
     },
     "metadata": {
      "needs_background": "light"
     },
     "output_type": "display_data"
    },
    {
     "data": {
      "image/png": "[encoded data removed]",
      "text/plain": [
       "<Figure size 432x288 with 1 Axes>"
      ]
     },
     "metadata": {
      "needs_background": "light"
     },
     "output_type": "display_data"
    },
    {
     "data": {
      "image/png": "[encoded data removed]",
      "text/plain": [
       "<Figure size 432x288 with 1 Axes>"
      ]
     },
     "metadata": {
      "needs_background": "light"
     },
     "output_type": "display_data"
    },
    {
     "data": {
      "image/png": "[encoded data removed]",
      "text/plain": [
       "<Figure size 432x288 with 1 Axes>"
      ]
     },
     "metadata": {
      "needs_background": "light"
     },
     "output_type": "display_data"
    },
    {
     "data": {
      "image/png": "[encoded data removed]",
      "text/plain": [
       "<Figure size 432x288 with 1 Axes>"
      ]
     },
     "metadata": {
      "needs_background": "light"
     },
     "output_type": "display_data"
    },
    {
     "data": {
      "image/png": "[encoded data removed]",
      "text/plain": [
       "<Figure size 432x288 with 1 Axes>"
      ]
     },
     "metadata": {
      "needs_background": "light"
     },
     "output_type": "display_data"
    },
    {
     "data": {
      "image/png": "[encoded data removed]",
      "text/plain": [
       "<Figure size 432x288 with 1 Axes>"
      ]
     },
     "metadata": {
      "needs_background": "light"
     },
     "output_type": "display_data"
    },
    {
     "data": {
      "image/png": "[encoded data removed]",
      "text/plain": [
       "<Figure size 432x288 with 1 Axes>"
      ]
     },
     "metadata": {
      "needs_background": "light"
     },
     "output_type": "display_data"
    },
    {
     "data": {
      "image/png": "[encoded data removed]",
      "text/plain": [
       "<Figure size 432x288 with 1 Axes>"
      ]
     },
     "metadata": {
      "needs_background": "light"
     },
     "output_type": "display_data"
    },
    {
     "data": {
      "image/png": "[encoded data removed]",
      "text/plain": [
       "<Figure size 432x288 with 1 Axes>"
      ]
     },
     "metadata": {
      "needs_background": "light"
     },
     "output_type": "display_data"
    },
    {
     "data": {
      "image/png": "[encoded data removed]",
      "text/plain": [
       "<Figure size 432x288 with 1 Axes>"
      ]
     },
     "metadata": {
      "needs_background": "light"
     },
     "output_type": "display_data"
    },
    {
     "data": {
      "image/png": "[encoded data removed]",
      "text/plain": [
       "<Figure size 432x288 with 1 Axes>"
      ]
     },
     "metadata": {
      "needs_background": "light"
     },
     "output_type": "display_data"
    },
    {
     "data": {
      "image/png": "[encoded data removed]",
      "text/plain": [
       "<Figure size 432x288 with 1 Axes>"
      ]
     },
     "metadata": {
      "needs_background": "light"
     },
     "output_type": "display_data"
    },
    {
     "data": {
      "image/png": "[encoded data removed]",
      "text/plain": [
       "<Figure size 432x288 with 1 Axes>"
      ]
     },
     "metadata": {
      "needs_background": "light"
     },
     "output_type": "display_data"
    },
    {
     "data": {
      "image/png": "[encoded data removed]",
      "text/plain": [
       "<Figure size 432x288 with 1 Axes>"
      ]
     },
     "metadata": {
      "needs_background": "light"
     },
     "output_type": "display_data"
    },
    {
     "data": {
      "image/png": "[encoded data removed]",
      "text/plain": [
       "<Figure size 432x288 with 1 Axes>"
      ]
     },
     "metadata": {
      "needs_background": "light"
     },
     "output_type": "display_data"
    },
    {
     "data": {
      "image/png": "[encoded data removed]",
      "text/plain": [
       "<Figure size 432x288 with 1 Axes>"
      ]
     },
     "metadata": {
      "needs_background": "light"
     },
     "output_type": "display_data"
    },
    {
     "data": {
      "image/png": "[encoded data removed]",
      "text/plain": [
       "<Figure size 432x288 with 1 Axes>"
      ]
     },
     "metadata": {
      "needs_background": "light"
     },
     "output_type": "display_data"
    },
    {
     "data": {
      "image/png": "[encoded data removed]",
      "text/plain": [
       "<Figure size 432x288 with 1 Axes>"
      ]
     },
     "metadata": {
      "needs_background": "light"
     },
     "output_type": "display_data"
    },
    {
     "data": {
      "image/png": "[encoded data removed]",
      "text/plain": [
       "<Figure size 432x288 with 1 Axes>"
      ]
     },
     "metadata": {
      "needs_background": "light"
     },
     "output_type": "display_data"
    },
    {
     "data": {
      "image/png": "[encoded data removed]",
      "text/plain": [
       "<Figure size 432x288 with 1 Axes>"
      ]
     },
     "metadata": {
      "needs_background": "light"
     },
     "output_type": "display_data"
    },
    {
     "data": {
      "image/png": "[encoded data removed]",
      "text/plain": [
       "<Figure size 432x288 with 1 Axes>"
      ]
     },
     "metadata": {
      "needs_background": "light"
     },
     "output_type": "display_data"
    },
    {
     "data": {
      "image/png": "[encoded data removed]",
      "text/plain": [
       "<Figure size 432x288 with 1 Axes>"
      ]
     },
     "metadata": {
      "needs_background": "light"
     },
     "output_type": "display_data"
    },
    {
     "data": {
      "image/png": "[encoded data removed]",
      "text/plain": [
       "<Figure size 432x288 with 1 Axes>"
      ]
     },
     "metadata": {
      "needs_background": "light"
     },
     "output_type": "display_data"
    },
    {
     "data": {
      "image/png": "[encoded data removed]",
      "text/plain": [
       "<Figure size 432x288 with 1 Axes>"
      ]
     },
     "metadata": {
      "needs_background": "light"
     },
     "output_type": "display_data"
    },
    {
     "data": {
      "image/png": "[encoded data removed]",
      "text/plain": [
       "<Figure size 432x288 with 1 Axes>"
      ]
     },
     "metadata": {
      "needs_background": "light"
     },
     "output_type": "display_data"
    },
    {
     "data": {
      "image/png": "[encoded data removed]",
      "text/plain": [
       "<Figure size 432x288 with 1 Axes>"
      ]
     },
     "metadata": {
      "needs_background": "light"
     },
     "output_type": "display_data"
    },
    {
     "data": {
      "image/png": "[encoded data removed]",
      "text/plain": [
       "<Figure size 432x288 with 1 Axes>"
      ]
     },
     "metadata": {
      "needs_background": "light"
     },
     "output_type": "display_data"
    },
    {
     "data": {
      "image/png": "[encoded data removed]",
      "text/plain": [
       "<Figure size 432x288 with 1 Axes>"
      ]
     },
     "metadata": {
      "needs_background": "light"
     },
     "output_type": "display_data"
    },
    {
     "data": {
      "image/png": "[encoded data removed]",
      "text/plain": [
       "<Figure size 432x288 with 1 Axes>"
      ]
     },
     "metadata": {
      "needs_background": "light"
     },
     "output_type": "display_data"
    },
    {
     "data": {
      "image/png": "[encoded data removed]",
      "text/plain": [
       "<Figure size 432x288 with 1 Axes>"
      ]
     },
     "metadata": {
      "needs_background": "light"
     },
     "output_type": "display_data"
    },
    {
     "data": {
      "image/png": "[encoded data removed]",
      "text/plain": [
       "<Figure size 432x288 with 1 Axes>"
      ]
     },
     "metadata": {
      "needs_background": "light"
     },
     "output_type": "display_data"
    },
    {
     "data": {
      "image/png": "[encoded data removed]",
      "text/plain": [
       "<Figure size 432x288 with 1 Axes>"
      ]
     },
     "metadata": {
      "needs_background": "light"
     },
     "output_type": "display_data"
    },
    {
     "data": {
      "image/png": "[encoded data removed]",
      "text/plain": [
       "<Figure size 432x288 with 1 Axes>"
      ]
     },
     "metadata": {
      "needs_background": "light"
     },
     "output_type": "display_data"
    },
    {
     "data": {
      "image/png": "[encoded data removed]",
      "text/plain": [
       "<Figure size 432x288 with 1 Axes>"
      ]
     },
     "metadata": {
      "needs_background": "light"
     },
     "output_type": "display_data"
    },
    {
     "data": {
      "image/png": "[encoded data removed]",
      "text/plain": [
       "<Figure size 432x288 with 1 Axes>"
      ]
     },
     "metadata": {
      "needs_background": "light"
     },
     "output_type": "display_data"
    },
    {
     "data": {
      "image/png": "[encoded data removed]",
      "text/plain": [
       "<Figure size 432x288 with 1 Axes>"
      ]
     },
     "metadata": {
      "needs_background": "light"
     },
     "output_type": "display_data"
    },
    {
     "data": {
      "image/png": "[encoded data removed]",
      "text/plain": [
       "<Figure size 432x288 with 1 Axes>"
      ]
     },
     "metadata": {
      "needs_background": "light"
     },
     "output_type": "display_data"
    },
    {
     "data": {
      "image/png": "[encoded data removed]",
      "text/plain": [
       "<Figure size 432x288 with 1 Axes>"
      ]
     },
     "metadata": {
      "needs_background": "light"
     },
     "output_type": "display_data"
    },
    {
     "data": {
      "image/png": "[encoded data removed]",
      "text/plain": [
       "<Figure size 432x288 with 1 Axes>"
      ]
     },
     "metadata": {
      "needs_background": "light"
     },
     "output_type": "display_data"
    }
   ],
   "source": [
    "from matplotlib.pyplot import figure\n",
    "for colName in categoricalVars:\n",
    "    figure()    \n",
    "    sns.boxplot(y = trainDf[\"Sale_Price\"], x = trainDf[colName])\n",
    "     "
   ]
  },
  {
   "cell_type": "markdown",
   "id": "e2445671",
   "metadata": {},
   "source": [
    "Dummy Variable Creation"
   ]
  },
  {
   "cell_type": "code",
   "execution_count": 19,
   "id": "97189268",
   "metadata": {},
   "outputs": [],
   "source": [
    "sourceDf2=pd.get_dummies(sourceDf, drop_first=True) #drop_first for avoid perfect heteroscadicity"
   ]
  },
  {
   "cell_type": "code",
   "execution_count": 20,
   "id": "e99d63c7",
   "metadata": {},
   "outputs": [
    {
     "data": {
      "text/plain": [
       "(2918, 81)"
      ]
     },
     "execution_count": 20,
     "metadata": {},
     "output_type": "execute_result"
    }
   ],
   "source": [
    "sourceDf.shape #Before Dummy Variable Coding"
   ]
  },
  {
   "cell_type": "code",
   "execution_count": 21,
   "id": "cd44711b",
   "metadata": {},
   "outputs": [
    {
     "data": {
      "text/plain": [
       "(2918, 257)"
      ]
     },
     "execution_count": 21,
     "metadata": {},
     "output_type": "execute_result"
    }
   ],
   "source": [
    "sourceDf2.shape # Post Dummy Variable Coding"
   ]
  },
  {
   "cell_type": "code",
   "execution_count": 22,
   "id": "ebc12d4e",
   "metadata": {},
   "outputs": [
    {
     "data": {
      "text/plain": [
       "(2918, 258)"
      ]
     },
     "execution_count": 22,
     "metadata": {},
     "output_type": "execute_result"
    }
   ],
   "source": [
    "# Adding the beta(0) or the intercept\n",
    "from statsmodels.api import add_constant\n",
    "sourceDf2=add_constant(sourceDf2)\n",
    "sourceDf2.shape"
   ]
  },
  {
   "cell_type": "markdown",
   "id": "7baf1e30",
   "metadata": {},
   "source": [
    "Sampling"
   ]
  },
  {
   "cell_type": "code",
   "execution_count": 23,
   "id": "f92416d4",
   "metadata": {},
   "outputs": [],
   "source": [
    "\n",
    "# dividing sourceDf into train, test, and prediction\n",
    "trainDf=sourceDf2[sourceDf2['Source_Train']==1].drop(['Source_Train', 'Source_Test'], axis=1).copy()\n",
    "testDf=sourceDf2[sourceDf2['Source_Test']==1].drop(['Source_Train', 'Source_Test'], axis=1).copy()\n",
    "predictionDf=sourceDf2[(sourceDf2['Source_Test']==0) & (sourceDf2['Source_Train']==0)].drop(['Source_Train', 'Source_Test'], axis=1).copy()"
   ]
  },
  {
   "cell_type": "code",
   "execution_count": 24,
   "id": "6d9824ba",
   "metadata": {},
   "outputs": [
    {
     "data": {
      "text/plain": [
       "(1094, 256)"
      ]
     },
     "execution_count": 24,
     "metadata": {},
     "output_type": "execute_result"
    }
   ],
   "source": [
    "trainDf.shape"
   ]
  },
  {
   "cell_type": "code",
   "execution_count": 25,
   "id": "043c776e",
   "metadata": {},
   "outputs": [
    {
     "data": {
      "text/plain": [
       "(365, 256)"
      ]
     },
     "execution_count": 25,
     "metadata": {},
     "output_type": "execute_result"
    }
   ],
   "source": [
    "testDf.shape"
   ]
  },
  {
   "cell_type": "code",
   "execution_count": 26,
   "id": "c3452fef",
   "metadata": {},
   "outputs": [
    {
     "data": {
      "text/plain": [
       "(1459, 256)"
      ]
     },
     "execution_count": 26,
     "metadata": {},
     "output_type": "execute_result"
    }
   ],
   "source": [
    "predictionDf.shape"
   ]
  },
  {
   "cell_type": "code",
   "execution_count": 27,
   "id": "fec20b68",
   "metadata": {},
   "outputs": [],
   "source": [
    "#separating the independant variables (X[i])) and dependant variables (Y[i])\n",
    "trainX=trainDf.drop(['Sale_Price'], axis=1).copy()\n",
    "trainY=trainDf['Sale_Price'].copy()\n",
    "testX=testDf.drop(['Sale_Price'], axis=1).copy()\n",
    "testY=testDf['Sale_Price'].copy()"
   ]
  },
  {
   "cell_type": "code",
   "execution_count": 28,
   "id": "61813dfe",
   "metadata": {},
   "outputs": [
    {
     "data": {
      "text/plain": [
       "(1094, 255)"
      ]
     },
     "execution_count": 28,
     "metadata": {},
     "output_type": "execute_result"
    }
   ],
   "source": [
    "trainX.shape"
   ]
  },
  {
   "cell_type": "code",
   "execution_count": 29,
   "id": "f673c83b",
   "metadata": {},
   "outputs": [
    {
     "data": {
      "text/plain": [
       "(1094,)"
      ]
     },
     "execution_count": 29,
     "metadata": {},
     "output_type": "execute_result"
    }
   ],
   "source": [
    "trainY.shape"
   ]
  },
  {
   "cell_type": "code",
   "execution_count": 30,
   "id": "3bb5ae13",
   "metadata": {},
   "outputs": [
    {
     "data": {
      "text/plain": [
       "(365, 255)"
      ]
     },
     "execution_count": 30,
     "metadata": {},
     "output_type": "execute_result"
    }
   ],
   "source": [
    "testX.shape"
   ]
  },
  {
   "cell_type": "code",
   "execution_count": 31,
   "id": "6311d0a6",
   "metadata": {},
   "outputs": [
    {
     "data": {
      "text/plain": [
       "(365,)"
      ]
     },
     "execution_count": 31,
     "metadata": {},
     "output_type": "execute_result"
    }
   ],
   "source": [
    "testY.shape"
   ]
  },
  {
   "cell_type": "markdown",
   "id": "41d6cced",
   "metadata": {},
   "source": [
    "VIF check for multicollinearity"
   ]
  },
  {
   "cell_type": "code",
   "execution_count": 32,
   "id": "4db08714",
   "metadata": {},
   "outputs": [],
   "source": [
    "from statsmodels.stats.outliers_influence import variance_inflation_factor"
   ]
  },
  {
   "cell_type": "code",
   "execution_count": 33,
   "id": "1f112f73",
   "metadata": {},
   "outputs": [],
   "source": [
    "tempMaxVIF = float(5) # The VIF that will be calculated at EVERY iteration in while loop\n",
    "maxVIFCutoff = float(5) # 5 is recommended cutoff value for linear regression\n",
    "trainXCopy = trainX.copy()\n",
    "counter = 1\n",
    "highVIFColumnNames = []"
   ]
  },
  {
   "cell_type": "code",
   "execution_count": 34,
   "id": "b1968242",
   "metadata": {},
   "outputs": [
    {
     "name": "stdout",
     "output_type": "stream",
     "text": [
      "1\n"
     ]
    },
    {
     "name": "stderr",
     "output_type": "stream",
     "text": [
      "/Users/sheeba/opt/anaconda3/lib/python3.8/site-packages/statsmodels/regression/linear_model.py:1715: RuntimeWarning: divide by zero encountered in double_scalars\n",
      "  return 1 - self.ssr/self.centered_tss\n",
      "/Users/sheeba/opt/anaconda3/lib/python3.8/site-packages/statsmodels/stats/outliers_influence.py:193: RuntimeWarning: divide by zero encountered in double_scalars\n",
      "  vif = 1. / (1. - r_squared_i)\n",
      "/Users/sheeba/opt/anaconda3/lib/python3.8/site-packages/statsmodels/regression/linear_model.py:1715: RuntimeWarning: invalid value encountered in double_scalars\n",
      "  return 1 - self.ssr/self.centered_tss\n"
     ]
    },
    {
     "name": "stdout",
     "output_type": "stream",
     "text": [
      "Sale_Condition_Partial\n",
      "2\n"
     ]
    },
    {
     "name": "stderr",
     "output_type": "stream",
     "text": [
      "/Users/sheeba/opt/anaconda3/lib/python3.8/site-packages/statsmodels/regression/linear_model.py:1715: RuntimeWarning: divide by zero encountered in double_scalars\n",
      "  return 1 - self.ssr/self.centered_tss\n",
      "/Users/sheeba/opt/anaconda3/lib/python3.8/site-packages/statsmodels/stats/outliers_influence.py:193: RuntimeWarning: divide by zero encountered in double_scalars\n",
      "  vif = 1. / (1. - r_squared_i)\n",
      "/Users/sheeba/opt/anaconda3/lib/python3.8/site-packages/statsmodels/regression/linear_model.py:1715: RuntimeWarning: invalid value encountered in double_scalars\n",
      "  return 1 - self.ssr/self.centered_tss\n"
     ]
    },
    {
     "name": "stdout",
     "output_type": "stream",
     "text": [
      "Heating_Type_Grav\n",
      "3\n"
     ]
    },
    {
     "name": "stderr",
     "output_type": "stream",
     "text": [
      "/Users/sheeba/opt/anaconda3/lib/python3.8/site-packages/statsmodels/regression/linear_model.py:1715: RuntimeWarning: divide by zero encountered in double_scalars\n",
      "  return 1 - self.ssr/self.centered_tss\n",
      "/Users/sheeba/opt/anaconda3/lib/python3.8/site-packages/statsmodels/stats/outliers_influence.py:193: RuntimeWarning: divide by zero encountered in double_scalars\n",
      "  vif = 1. / (1. - r_squared_i)\n",
      "/Users/sheeba/opt/anaconda3/lib/python3.8/site-packages/statsmodels/regression/linear_model.py:1715: RuntimeWarning: invalid value encountered in double_scalars\n",
      "  return 1 - self.ssr/self.centered_tss\n"
     ]
    },
    {
     "name": "stdout",
     "output_type": "stream",
     "text": [
      "Exterior1st_CBlock\n",
      "4\n"
     ]
    },
    {
     "name": "stderr",
     "output_type": "stream",
     "text": [
      "/Users/sheeba/opt/anaconda3/lib/python3.8/site-packages/statsmodels/regression/linear_model.py:1715: RuntimeWarning: divide by zero encountered in double_scalars\n",
      "  return 1 - self.ssr/self.centered_tss\n",
      "/Users/sheeba/opt/anaconda3/lib/python3.8/site-packages/statsmodels/stats/outliers_influence.py:193: RuntimeWarning: divide by zero encountered in double_scalars\n",
      "  vif = 1. / (1. - r_squared_i)\n",
      "/Users/sheeba/opt/anaconda3/lib/python3.8/site-packages/statsmodels/regression/linear_model.py:1715: RuntimeWarning: invalid value encountered in double_scalars\n",
      "  return 1 - self.ssr/self.centered_tss\n"
     ]
    },
    {
     "name": "stdout",
     "output_type": "stream",
     "text": [
      "Garage_Quality_Fa\n",
      "5\n"
     ]
    },
    {
     "name": "stderr",
     "output_type": "stream",
     "text": [
      "/Users/sheeba/opt/anaconda3/lib/python3.8/site-packages/statsmodels/regression/linear_model.py:1715: RuntimeWarning: divide by zero encountered in double_scalars\n",
      "  return 1 - self.ssr/self.centered_tss\n",
      "/Users/sheeba/opt/anaconda3/lib/python3.8/site-packages/statsmodels/stats/outliers_influence.py:193: RuntimeWarning: divide by zero encountered in double_scalars\n",
      "  vif = 1. / (1. - r_squared_i)\n",
      "/Users/sheeba/opt/anaconda3/lib/python3.8/site-packages/statsmodels/regression/linear_model.py:1715: RuntimeWarning: invalid value encountered in double_scalars\n",
      "  return 1 - self.ssr/self.centered_tss\n"
     ]
    },
    {
     "name": "stdout",
     "output_type": "stream",
     "text": [
      "Condition2_Feedr\n",
      "6\n"
     ]
    },
    {
     "name": "stderr",
     "output_type": "stream",
     "text": [
      "/Users/sheeba/opt/anaconda3/lib/python3.8/site-packages/statsmodels/regression/linear_model.py:1715: RuntimeWarning: divide by zero encountered in double_scalars\n",
      "  return 1 - self.ssr/self.centered_tss\n",
      "/Users/sheeba/opt/anaconda3/lib/python3.8/site-packages/statsmodels/stats/outliers_influence.py:193: RuntimeWarning: divide by zero encountered in double_scalars\n",
      "  vif = 1. / (1. - r_squared_i)\n",
      "/Users/sheeba/opt/anaconda3/lib/python3.8/site-packages/statsmodels/regression/linear_model.py:1715: RuntimeWarning: invalid value encountered in double_scalars\n",
      "  return 1 - self.ssr/self.centered_tss\n"
     ]
    },
    {
     "name": "stdout",
     "output_type": "stream",
     "text": [
      "Second_Floor_Area\n",
      "7\n"
     ]
    },
    {
     "name": "stderr",
     "output_type": "stream",
     "text": [
      "/Users/sheeba/opt/anaconda3/lib/python3.8/site-packages/statsmodels/regression/linear_model.py:1715: RuntimeWarning: divide by zero encountered in double_scalars\n",
      "  return 1 - self.ssr/self.centered_tss\n",
      "/Users/sheeba/opt/anaconda3/lib/python3.8/site-packages/statsmodels/stats/outliers_influence.py:193: RuntimeWarning: divide by zero encountered in double_scalars\n",
      "  vif = 1. / (1. - r_squared_i)\n",
      "/Users/sheeba/opt/anaconda3/lib/python3.8/site-packages/statsmodels/regression/linear_model.py:1715: RuntimeWarning: invalid value encountered in double_scalars\n",
      "  return 1 - self.ssr/self.centered_tss\n"
     ]
    },
    {
     "name": "stdout",
     "output_type": "stream",
     "text": [
      "Total_Basement_Area\n",
      "8\n"
     ]
    },
    {
     "name": "stderr",
     "output_type": "stream",
     "text": [
      "/Users/sheeba/opt/anaconda3/lib/python3.8/site-packages/statsmodels/regression/linear_model.py:1715: RuntimeWarning: divide by zero encountered in double_scalars\n",
      "  return 1 - self.ssr/self.centered_tss\n",
      "/Users/sheeba/opt/anaconda3/lib/python3.8/site-packages/statsmodels/regression/linear_model.py:1715: RuntimeWarning: invalid value encountered in double_scalars\n",
      "  return 1 - self.ssr/self.centered_tss\n",
      "/Users/sheeba/opt/anaconda3/lib/python3.8/site-packages/statsmodels/stats/outliers_influence.py:193: RuntimeWarning: divide by zero encountered in double_scalars\n",
      "  vif = 1. / (1. - r_squared_i)\n"
     ]
    },
    {
     "name": "stdout",
     "output_type": "stream",
     "text": [
      "Roof_Quality_WSh\n",
      "9\n"
     ]
    },
    {
     "name": "stderr",
     "output_type": "stream",
     "text": [
      "/Users/sheeba/opt/anaconda3/lib/python3.8/site-packages/statsmodels/regression/linear_model.py:1715: RuntimeWarning: divide by zero encountered in double_scalars\n",
      "  return 1 - self.ssr/self.centered_tss\n",
      "/Users/sheeba/opt/anaconda3/lib/python3.8/site-packages/statsmodels/regression/linear_model.py:1715: RuntimeWarning: invalid value encountered in double_scalars\n",
      "  return 1 - self.ssr/self.centered_tss\n",
      "/Users/sheeba/opt/anaconda3/lib/python3.8/site-packages/statsmodels/stats/outliers_influence.py:193: RuntimeWarning: divide by zero encountered in double_scalars\n",
      "  vif = 1. / (1. - r_squared_i)\n"
     ]
    },
    {
     "name": "stdout",
     "output_type": "stream",
     "text": [
      "Miscellaneous_Feature_TenC\n",
      "10\n"
     ]
    },
    {
     "name": "stderr",
     "output_type": "stream",
     "text": [
      "/Users/sheeba/opt/anaconda3/lib/python3.8/site-packages/statsmodels/regression/linear_model.py:1715: RuntimeWarning: invalid value encountered in double_scalars\n",
      "  return 1 - self.ssr/self.centered_tss\n",
      "/Users/sheeba/opt/anaconda3/lib/python3.8/site-packages/statsmodels/stats/outliers_influence.py:193: RuntimeWarning: divide by zero encountered in double_scalars\n",
      "  vif = 1. / (1. - r_squared_i)\n"
     ]
    },
    {
     "name": "stdout",
     "output_type": "stream",
     "text": [
      "Garage_Condition_Po\n",
      "11\n"
     ]
    },
    {
     "name": "stderr",
     "output_type": "stream",
     "text": [
      "/Users/sheeba/opt/anaconda3/lib/python3.8/site-packages/statsmodels/regression/linear_model.py:1715: RuntimeWarning: invalid value encountered in double_scalars\n",
      "  return 1 - self.ssr/self.centered_tss\n"
     ]
    },
    {
     "name": "stdout",
     "output_type": "stream",
     "text": [
      "const\n",
      "12\n"
     ]
    },
    {
     "name": "stderr",
     "output_type": "stream",
     "text": [
      "/Users/sheeba/opt/anaconda3/lib/python3.8/site-packages/statsmodels/regression/linear_model.py:1717: RuntimeWarning: invalid value encountered in double_scalars\n",
      "  return 1 - self.ssr/self.uncentered_tss\n"
     ]
    },
    {
     "name": "stdout",
     "output_type": "stream",
     "text": [
      "Year_Sold\n",
      "13\n"
     ]
    },
    {
     "name": "stderr",
     "output_type": "stream",
     "text": [
      "/Users/sheeba/opt/anaconda3/lib/python3.8/site-packages/statsmodels/regression/linear_model.py:1717: RuntimeWarning: invalid value encountered in double_scalars\n",
      "  return 1 - self.ssr/self.uncentered_tss\n"
     ]
    },
    {
     "name": "stdout",
     "output_type": "stream",
     "text": [
      "Construction_Year\n",
      "14\n"
     ]
    },
    {
     "name": "stderr",
     "output_type": "stream",
     "text": [
      "/Users/sheeba/opt/anaconda3/lib/python3.8/site-packages/statsmodels/regression/linear_model.py:1717: RuntimeWarning: invalid value encountered in double_scalars\n",
      "  return 1 - self.ssr/self.uncentered_tss\n"
     ]
    },
    {
     "name": "stdout",
     "output_type": "stream",
     "text": [
      "Remodel_Year\n",
      "15\n"
     ]
    },
    {
     "name": "stderr",
     "output_type": "stream",
     "text": [
      "/Users/sheeba/opt/anaconda3/lib/python3.8/site-packages/statsmodels/regression/linear_model.py:1717: RuntimeWarning: invalid value encountered in double_scalars\n",
      "  return 1 - self.ssr/self.uncentered_tss\n"
     ]
    },
    {
     "name": "stdout",
     "output_type": "stream",
     "text": [
      "Garage_Built_Year\n",
      "16\n"
     ]
    },
    {
     "name": "stderr",
     "output_type": "stream",
     "text": [
      "/Users/sheeba/opt/anaconda3/lib/python3.8/site-packages/statsmodels/regression/linear_model.py:1717: RuntimeWarning: invalid value encountered in double_scalars\n",
      "  return 1 - self.ssr/self.uncentered_tss\n"
     ]
    },
    {
     "name": "stdout",
     "output_type": "stream",
     "text": [
      "Miscellaneous_Feature_Shed\n",
      "17\n"
     ]
    },
    {
     "name": "stderr",
     "output_type": "stream",
     "text": [
      "/Users/sheeba/opt/anaconda3/lib/python3.8/site-packages/statsmodels/regression/linear_model.py:1717: RuntimeWarning: invalid value encountered in double_scalars\n",
      "  return 1 - self.ssr/self.uncentered_tss\n"
     ]
    },
    {
     "name": "stdout",
     "output_type": "stream",
     "text": [
      "Roof_Quality_SS\n",
      "18\n"
     ]
    },
    {
     "name": "stderr",
     "output_type": "stream",
     "text": [
      "/Users/sheeba/opt/anaconda3/lib/python3.8/site-packages/statsmodels/regression/linear_model.py:1717: RuntimeWarning: invalid value encountered in double_scalars\n",
      "  return 1 - self.ssr/self.uncentered_tss\n"
     ]
    },
    {
     "name": "stdout",
     "output_type": "stream",
     "text": [
      "Garage_Condition_TA\n",
      "19\n"
     ]
    },
    {
     "name": "stderr",
     "output_type": "stream",
     "text": [
      "/Users/sheeba/opt/anaconda3/lib/python3.8/site-packages/statsmodels/regression/linear_model.py:1717: RuntimeWarning: invalid value encountered in double_scalars\n",
      "  return 1 - self.ssr/self.uncentered_tss\n"
     ]
    },
    {
     "name": "stdout",
     "output_type": "stream",
     "text": [
      "Roof_Design_Gable\n",
      "20\n"
     ]
    },
    {
     "name": "stderr",
     "output_type": "stream",
     "text": [
      "/Users/sheeba/opt/anaconda3/lib/python3.8/site-packages/statsmodels/regression/linear_model.py:1717: RuntimeWarning: invalid value encountered in double_scalars\n",
      "  return 1 - self.ssr/self.uncentered_tss\n"
     ]
    },
    {
     "name": "stdout",
     "output_type": "stream",
     "text": [
      "Heating_Type_GasA\n",
      "21\n"
     ]
    },
    {
     "name": "stderr",
     "output_type": "stream",
     "text": [
      "/Users/sheeba/opt/anaconda3/lib/python3.8/site-packages/statsmodels/regression/linear_model.py:1717: RuntimeWarning: invalid value encountered in double_scalars\n",
      "  return 1 - self.ssr/self.uncentered_tss\n"
     ]
    },
    {
     "name": "stdout",
     "output_type": "stream",
     "text": [
      "Exterior_Condition_TA\n",
      "22\n"
     ]
    },
    {
     "name": "stderr",
     "output_type": "stream",
     "text": [
      "/Users/sheeba/opt/anaconda3/lib/python3.8/site-packages/statsmodels/regression/linear_model.py:1717: RuntimeWarning: invalid value encountered in double_scalars\n",
      "  return 1 - self.ssr/self.uncentered_tss\n"
     ]
    },
    {
     "name": "stdout",
     "output_type": "stream",
     "text": [
      "Road_Type_Paved\n",
      "23\n"
     ]
    },
    {
     "name": "stderr",
     "output_type": "stream",
     "text": [
      "/Users/sheeba/opt/anaconda3/lib/python3.8/site-packages/statsmodels/regression/linear_model.py:1717: RuntimeWarning: invalid value encountered in double_scalars\n",
      "  return 1 - self.ssr/self.uncentered_tss\n"
     ]
    },
    {
     "name": "stdout",
     "output_type": "stream",
     "text": [
      "Condition2_Norm\n",
      "24\n"
     ]
    },
    {
     "name": "stderr",
     "output_type": "stream",
     "text": [
      "/Users/sheeba/opt/anaconda3/lib/python3.8/site-packages/statsmodels/regression/linear_model.py:1717: RuntimeWarning: invalid value encountered in double_scalars\n",
      "  return 1 - self.ssr/self.uncentered_tss\n"
     ]
    },
    {
     "name": "stdout",
     "output_type": "stream",
     "text": [
      "Sale_Condition_Normal\n",
      "25\n"
     ]
    },
    {
     "name": "stderr",
     "output_type": "stream",
     "text": [
      "/Users/sheeba/opt/anaconda3/lib/python3.8/site-packages/statsmodels/regression/linear_model.py:1717: RuntimeWarning: invalid value encountered in double_scalars\n",
      "  return 1 - self.ssr/self.uncentered_tss\n"
     ]
    },
    {
     "name": "stdout",
     "output_type": "stream",
     "text": [
      "Grade_Living_Area\n",
      "26\n"
     ]
    },
    {
     "name": "stderr",
     "output_type": "stream",
     "text": [
      "/Users/sheeba/opt/anaconda3/lib/python3.8/site-packages/statsmodels/regression/linear_model.py:1717: RuntimeWarning: invalid value encountered in double_scalars\n",
      "  return 1 - self.ssr/self.uncentered_tss\n"
     ]
    },
    {
     "name": "stdout",
     "output_type": "stream",
     "text": [
      "Exterior1st_VinylSd\n",
      "27\n"
     ]
    },
    {
     "name": "stderr",
     "output_type": "stream",
     "text": [
      "/Users/sheeba/opt/anaconda3/lib/python3.8/site-packages/statsmodels/regression/linear_model.py:1717: RuntimeWarning: invalid value encountered in double_scalars\n",
      "  return 1 - self.ssr/self.uncentered_tss\n"
     ]
    },
    {
     "name": "stdout",
     "output_type": "stream",
     "text": [
      "Zoning_Class_RLD\n",
      "28\n"
     ]
    },
    {
     "name": "stderr",
     "output_type": "stream",
     "text": [
      "/Users/sheeba/opt/anaconda3/lib/python3.8/site-packages/statsmodels/regression/linear_model.py:1717: RuntimeWarning: invalid value encountered in double_scalars\n",
      "  return 1 - self.ssr/self.uncentered_tss\n"
     ]
    },
    {
     "name": "stdout",
     "output_type": "stream",
     "text": [
      "Garage_Attchd\n",
      "29\n"
     ]
    },
    {
     "name": "stderr",
     "output_type": "stream",
     "text": [
      "/Users/sheeba/opt/anaconda3/lib/python3.8/site-packages/statsmodels/regression/linear_model.py:1717: RuntimeWarning: invalid value encountered in double_scalars\n",
      "  return 1 - self.ssr/self.uncentered_tss\n"
     ]
    },
    {
     "name": "stdout",
     "output_type": "stream",
     "text": [
      "Functional_Rate_TF\n",
      "30\n"
     ]
    },
    {
     "name": "stderr",
     "output_type": "stream",
     "text": [
      "/Users/sheeba/opt/anaconda3/lib/python3.8/site-packages/statsmodels/regression/linear_model.py:1717: RuntimeWarning: invalid value encountered in double_scalars\n",
      "  return 1 - self.ssr/self.uncentered_tss\n"
     ]
    },
    {
     "name": "stdout",
     "output_type": "stream",
     "text": [
      "BsmtFinType2_Unf\n",
      "31\n"
     ]
    },
    {
     "name": "stderr",
     "output_type": "stream",
     "text": [
      "/Users/sheeba/opt/anaconda3/lib/python3.8/site-packages/statsmodels/regression/linear_model.py:1717: RuntimeWarning: invalid value encountered in double_scalars\n",
      "  return 1 - self.ssr/self.uncentered_tss\n"
     ]
    },
    {
     "name": "stdout",
     "output_type": "stream",
     "text": [
      "Rooms_Above_Grade\n",
      "32\n"
     ]
    },
    {
     "name": "stderr",
     "output_type": "stream",
     "text": [
      "/Users/sheeba/opt/anaconda3/lib/python3.8/site-packages/statsmodels/regression/linear_model.py:1717: RuntimeWarning: invalid value encountered in double_scalars\n",
      "  return 1 - self.ssr/self.uncentered_tss\n"
     ]
    },
    {
     "name": "stdout",
     "output_type": "stream",
     "text": [
      "Overall_Material\n",
      "33\n"
     ]
    },
    {
     "name": "stderr",
     "output_type": "stream",
     "text": [
      "/Users/sheeba/opt/anaconda3/lib/python3.8/site-packages/statsmodels/regression/linear_model.py:1717: RuntimeWarning: invalid value encountered in double_scalars\n",
      "  return 1 - self.ssr/self.uncentered_tss\n"
     ]
    },
    {
     "name": "stdout",
     "output_type": "stream",
     "text": [
      "Building_Class\n",
      "34\n"
     ]
    },
    {
     "name": "stderr",
     "output_type": "stream",
     "text": [
      "/Users/sheeba/opt/anaconda3/lib/python3.8/site-packages/statsmodels/regression/linear_model.py:1717: RuntimeWarning: invalid value encountered in double_scalars\n",
      "  return 1 - self.ssr/self.uncentered_tss\n"
     ]
    },
    {
     "name": "stdout",
     "output_type": "stream",
     "text": [
      "First_Floor_Area\n",
      "35\n"
     ]
    },
    {
     "name": "stderr",
     "output_type": "stream",
     "text": [
      "/Users/sheeba/opt/anaconda3/lib/python3.8/site-packages/statsmodels/regression/linear_model.py:1717: RuntimeWarning: invalid value encountered in double_scalars\n",
      "  return 1 - self.ssr/self.uncentered_tss\n"
     ]
    },
    {
     "name": "stdout",
     "output_type": "stream",
     "text": [
      "Kitchen_Above_Grade\n",
      "36\n"
     ]
    },
    {
     "name": "stderr",
     "output_type": "stream",
     "text": [
      "/Users/sheeba/opt/anaconda3/lib/python3.8/site-packages/statsmodels/regression/linear_model.py:1717: RuntimeWarning: invalid value encountered in double_scalars\n",
      "  return 1 - self.ssr/self.uncentered_tss\n"
     ]
    },
    {
     "name": "stdout",
     "output_type": "stream",
     "text": [
      "Exterior2nd_CmentBd\n",
      "37\n"
     ]
    },
    {
     "name": "stderr",
     "output_type": "stream",
     "text": [
      "/Users/sheeba/opt/anaconda3/lib/python3.8/site-packages/statsmodels/regression/linear_model.py:1717: RuntimeWarning: invalid value encountered in double_scalars\n",
      "  return 1 - self.ssr/self.uncentered_tss\n"
     ]
    },
    {
     "name": "stdout",
     "output_type": "stream",
     "text": [
      "Brick_Veneer_Type_None\n",
      "38\n"
     ]
    },
    {
     "name": "stderr",
     "output_type": "stream",
     "text": [
      "/Users/sheeba/opt/anaconda3/lib/python3.8/site-packages/statsmodels/regression/linear_model.py:1717: RuntimeWarning: invalid value encountered in double_scalars\n",
      "  return 1 - self.ssr/self.uncentered_tss\n"
     ]
    },
    {
     "name": "stdout",
     "output_type": "stream",
     "text": [
      "Garage_Quality_TA\n",
      "39\n"
     ]
    },
    {
     "name": "stderr",
     "output_type": "stream",
     "text": [
      "/Users/sheeba/opt/anaconda3/lib/python3.8/site-packages/statsmodels/regression/linear_model.py:1717: RuntimeWarning: invalid value encountered in double_scalars\n",
      "  return 1 - self.ssr/self.uncentered_tss\n"
     ]
    },
    {
     "name": "stdout",
     "output_type": "stream",
     "text": [
      "Fireplace_Quality_Gd\n",
      "40\n"
     ]
    },
    {
     "name": "stderr",
     "output_type": "stream",
     "text": [
      "/Users/sheeba/opt/anaconda3/lib/python3.8/site-packages/statsmodels/regression/linear_model.py:1717: RuntimeWarning: invalid value encountered in double_scalars\n",
      "  return 1 - self.ssr/self.uncentered_tss\n"
     ]
    },
    {
     "name": "stdout",
     "output_type": "stream",
     "text": [
      "Exterior2nd_MetalSd\n",
      "41\n"
     ]
    },
    {
     "name": "stderr",
     "output_type": "stream",
     "text": [
      "/Users/sheeba/opt/anaconda3/lib/python3.8/site-packages/statsmodels/regression/linear_model.py:1717: RuntimeWarning: invalid value encountered in double_scalars\n",
      "  return 1 - self.ssr/self.uncentered_tss\n"
     ]
    },
    {
     "name": "stdout",
     "output_type": "stream",
     "text": [
      "House_Condition\n",
      "42\n"
     ]
    },
    {
     "name": "stderr",
     "output_type": "stream",
     "text": [
      "/Users/sheeba/opt/anaconda3/lib/python3.8/site-packages/statsmodels/regression/linear_model.py:1717: RuntimeWarning: invalid value encountered in double_scalars\n",
      "  return 1 - self.ssr/self.uncentered_tss\n"
     ]
    },
    {
     "name": "stdout",
     "output_type": "stream",
     "text": [
      "Exterior_Material_TA\n",
      "43\n"
     ]
    },
    {
     "name": "stderr",
     "output_type": "stream",
     "text": [
      "/Users/sheeba/opt/anaconda3/lib/python3.8/site-packages/statsmodels/regression/linear_model.py:1717: RuntimeWarning: invalid value encountered in double_scalars\n",
      "  return 1 - self.ssr/self.uncentered_tss\n"
     ]
    },
    {
     "name": "stdout",
     "output_type": "stream",
     "text": [
      "Basement_Condition_TA\n",
      "44\n"
     ]
    },
    {
     "name": "stderr",
     "output_type": "stream",
     "text": [
      "/Users/sheeba/opt/anaconda3/lib/python3.8/site-packages/statsmodels/regression/linear_model.py:1717: RuntimeWarning: invalid value encountered in double_scalars\n",
      "  return 1 - self.ssr/self.uncentered_tss\n"
     ]
    },
    {
     "name": "stdout",
     "output_type": "stream",
     "text": [
      "Land_Outline_Lvl\n",
      "45\n"
     ]
    },
    {
     "name": "stderr",
     "output_type": "stream",
     "text": [
      "/Users/sheeba/opt/anaconda3/lib/python3.8/site-packages/statsmodels/regression/linear_model.py:1717: RuntimeWarning: invalid value encountered in double_scalars\n",
      "  return 1 - self.ssr/self.uncentered_tss\n"
     ]
    },
    {
     "name": "stdout",
     "output_type": "stream",
     "text": [
      "Condition1_Norm\n",
      "46\n"
     ]
    },
    {
     "name": "stderr",
     "output_type": "stream",
     "text": [
      "/Users/sheeba/opt/anaconda3/lib/python3.8/site-packages/statsmodels/regression/linear_model.py:1717: RuntimeWarning: invalid value encountered in double_scalars\n",
      "  return 1 - self.ssr/self.uncentered_tss\n"
     ]
    },
    {
     "name": "stdout",
     "output_type": "stream",
     "text": [
      "Sale_Type_WD\n",
      "47\n"
     ]
    },
    {
     "name": "stderr",
     "output_type": "stream",
     "text": [
      "/Users/sheeba/opt/anaconda3/lib/python3.8/site-packages/statsmodels/regression/linear_model.py:1717: RuntimeWarning: invalid value encountered in double_scalars\n",
      "  return 1 - self.ssr/self.uncentered_tss\n"
     ]
    },
    {
     "name": "stdout",
     "output_type": "stream",
     "text": [
      "Bedroom_Above_Grade\n",
      "48\n"
     ]
    },
    {
     "name": "stderr",
     "output_type": "stream",
     "text": [
      "/Users/sheeba/opt/anaconda3/lib/python3.8/site-packages/statsmodels/regression/linear_model.py:1717: RuntimeWarning: invalid value encountered in double_scalars\n",
      "  return 1 - self.ssr/self.uncentered_tss\n"
     ]
    },
    {
     "name": "stdout",
     "output_type": "stream",
     "text": [
      "Air_Conditioning_Y\n",
      "49\n"
     ]
    },
    {
     "name": "stderr",
     "output_type": "stream",
     "text": [
      "/Users/sheeba/opt/anaconda3/lib/python3.8/site-packages/statsmodels/regression/linear_model.py:1717: RuntimeWarning: invalid value encountered in double_scalars\n",
      "  return 1 - self.ssr/self.uncentered_tss\n"
     ]
    },
    {
     "name": "stdout",
     "output_type": "stream",
     "text": [
      "Full_Bathroom_Above_Grade\n",
      "50\n"
     ]
    },
    {
     "name": "stderr",
     "output_type": "stream",
     "text": [
      "/Users/sheeba/opt/anaconda3/lib/python3.8/site-packages/statsmodels/regression/linear_model.py:1717: RuntimeWarning: invalid value encountered in double_scalars\n",
      "  return 1 - self.ssr/self.uncentered_tss\n"
     ]
    },
    {
     "name": "stdout",
     "output_type": "stream",
     "text": [
      "Fence_Quality_MnPrv\n",
      "51\n"
     ]
    },
    {
     "name": "stderr",
     "output_type": "stream",
     "text": [
      "/Users/sheeba/opt/anaconda3/lib/python3.8/site-packages/statsmodels/regression/linear_model.py:1717: RuntimeWarning: invalid value encountered in double_scalars\n",
      "  return 1 - self.ssr/self.uncentered_tss\n"
     ]
    },
    {
     "name": "stdout",
     "output_type": "stream",
     "text": [
      "Pavedd_Drive_Y\n",
      "52\n"
     ]
    },
    {
     "name": "stderr",
     "output_type": "stream",
     "text": [
      "/Users/sheeba/opt/anaconda3/lib/python3.8/site-packages/statsmodels/regression/linear_model.py:1717: RuntimeWarning: invalid value encountered in double_scalars\n",
      "  return 1 - self.ssr/self.uncentered_tss\n"
     ]
    },
    {
     "name": "stdout",
     "output_type": "stream",
     "text": [
      "Exterior2nd_VinylSd\n",
      "53\n"
     ]
    },
    {
     "name": "stderr",
     "output_type": "stream",
     "text": [
      "/Users/sheeba/opt/anaconda3/lib/python3.8/site-packages/statsmodels/regression/linear_model.py:1717: RuntimeWarning: invalid value encountered in double_scalars\n",
      "  return 1 - self.ssr/self.uncentered_tss\n"
     ]
    },
    {
     "name": "stdout",
     "output_type": "stream",
     "text": [
      "Lot_Extent\n",
      "54\n"
     ]
    },
    {
     "name": "stderr",
     "output_type": "stream",
     "text": [
      "/Users/sheeba/opt/anaconda3/lib/python3.8/site-packages/statsmodels/regression/linear_model.py:1717: RuntimeWarning: invalid value encountered in double_scalars\n",
      "  return 1 - self.ssr/self.uncentered_tss\n"
     ]
    },
    {
     "name": "stdout",
     "output_type": "stream",
     "text": [
      "Electrical_System_SBrkr\n",
      "55\n"
     ]
    },
    {
     "name": "stderr",
     "output_type": "stream",
     "text": [
      "/Users/sheeba/opt/anaconda3/lib/python3.8/site-packages/statsmodels/regression/linear_model.py:1717: RuntimeWarning: invalid value encountered in double_scalars\n",
      "  return 1 - self.ssr/self.uncentered_tss\n"
     ]
    },
    {
     "name": "stdout",
     "output_type": "stream",
     "text": [
      "Basement_Height_TA\n",
      "56\n"
     ]
    },
    {
     "name": "stderr",
     "output_type": "stream",
     "text": [
      "/Users/sheeba/opt/anaconda3/lib/python3.8/site-packages/statsmodels/regression/linear_model.py:1717: RuntimeWarning: invalid value encountered in double_scalars\n",
      "  return 1 - self.ssr/self.uncentered_tss\n"
     ]
    },
    {
     "name": "stdout",
     "output_type": "stream",
     "text": [
      "Exterior1st_HdBoard\n",
      "57\n"
     ]
    },
    {
     "name": "stderr",
     "output_type": "stream",
     "text": [
      "/Users/sheeba/opt/anaconda3/lib/python3.8/site-packages/statsmodels/regression/linear_model.py:1717: RuntimeWarning: invalid value encountered in double_scalars\n",
      "  return 1 - self.ssr/self.uncentered_tss\n"
     ]
    },
    {
     "name": "stdout",
     "output_type": "stream",
     "text": [
      "Garage_Size\n",
      "58\n"
     ]
    },
    {
     "name": "stderr",
     "output_type": "stream",
     "text": [
      "/Users/sheeba/opt/anaconda3/lib/python3.8/site-packages/statsmodels/regression/linear_model.py:1717: RuntimeWarning: invalid value encountered in double_scalars\n",
      "  return 1 - self.ssr/self.uncentered_tss\n"
     ]
    },
    {
     "name": "stdout",
     "output_type": "stream",
     "text": [
      "Kitchen_Quality_TA\n",
      "59\n"
     ]
    },
    {
     "name": "stderr",
     "output_type": "stream",
     "text": [
      "/Users/sheeba/opt/anaconda3/lib/python3.8/site-packages/statsmodels/regression/linear_model.py:1717: RuntimeWarning: invalid value encountered in double_scalars\n",
      "  return 1 - self.ssr/self.uncentered_tss\n"
     ]
    },
    {
     "name": "stdout",
     "output_type": "stream",
     "text": [
      "BsmtFinSF1\n",
      "60\n"
     ]
    },
    {
     "name": "stderr",
     "output_type": "stream",
     "text": [
      "/Users/sheeba/opt/anaconda3/lib/python3.8/site-packages/statsmodels/regression/linear_model.py:1717: RuntimeWarning: invalid value encountered in double_scalars\n",
      "  return 1 - self.ssr/self.uncentered_tss\n"
     ]
    },
    {
     "name": "stdout",
     "output_type": "stream",
     "text": [
      "Neighborhood_NAmes\n",
      "61\n"
     ]
    },
    {
     "name": "stderr",
     "output_type": "stream",
     "text": [
      "/Users/sheeba/opt/anaconda3/lib/python3.8/site-packages/statsmodels/regression/linear_model.py:1717: RuntimeWarning: invalid value encountered in double_scalars\n",
      "  return 1 - self.ssr/self.uncentered_tss\n"
     ]
    },
    {
     "name": "stdout",
     "output_type": "stream",
     "text": [
      "Foundation_Type_PC\n",
      "62\n"
     ]
    },
    {
     "name": "stderr",
     "output_type": "stream",
     "text": [
      "/Users/sheeba/opt/anaconda3/lib/python3.8/site-packages/statsmodels/regression/linear_model.py:1717: RuntimeWarning: invalid value encountered in double_scalars\n",
      "  return 1 - self.ssr/self.uncentered_tss\n"
     ]
    },
    {
     "name": "stdout",
     "output_type": "stream",
     "text": [
      "Exterior1st_Wd Sdng\n",
      "63\n"
     ]
    },
    {
     "name": "stderr",
     "output_type": "stream",
     "text": [
      "/Users/sheeba/opt/anaconda3/lib/python3.8/site-packages/statsmodels/regression/linear_model.py:1717: RuntimeWarning: invalid value encountered in double_scalars\n",
      "  return 1 - self.ssr/self.uncentered_tss\n"
     ]
    },
    {
     "name": "stdout",
     "output_type": "stream",
     "text": [
      "House_Design_1Story\n",
      "64\n"
     ]
    },
    {
     "name": "stderr",
     "output_type": "stream",
     "text": [
      "/Users/sheeba/opt/anaconda3/lib/python3.8/site-packages/statsmodels/regression/linear_model.py:1717: RuntimeWarning: invalid value encountered in double_scalars\n",
      "  return 1 - self.ssr/self.uncentered_tss\n"
     ]
    },
    {
     "name": "stdout",
     "output_type": "stream",
     "text": [
      "Exposure_Level_No\n",
      "65\n"
     ]
    },
    {
     "name": "stderr",
     "output_type": "stream",
     "text": [
      "/Users/sheeba/opt/anaconda3/lib/python3.8/site-packages/statsmodels/regression/linear_model.py:1717: RuntimeWarning: invalid value encountered in double_scalars\n",
      "  return 1 - self.ssr/self.uncentered_tss\n"
     ]
    },
    {
     "name": "stdout",
     "output_type": "stream",
     "text": [
      "Month_Sold\n",
      "66\n"
     ]
    },
    {
     "name": "stderr",
     "output_type": "stream",
     "text": [
      "/Users/sheeba/opt/anaconda3/lib/python3.8/site-packages/statsmodels/regression/linear_model.py:1717: RuntimeWarning: invalid value encountered in double_scalars\n",
      "  return 1 - self.ssr/self.uncentered_tss\n"
     ]
    },
    {
     "name": "stdout",
     "output_type": "stream",
     "text": [
      "Lot_Size\n",
      "67\n"
     ]
    },
    {
     "name": "stderr",
     "output_type": "stream",
     "text": [
      "/Users/sheeba/opt/anaconda3/lib/python3.8/site-packages/statsmodels/regression/linear_model.py:1717: RuntimeWarning: invalid value encountered in double_scalars\n",
      "  return 1 - self.ssr/self.uncentered_tss\n"
     ]
    },
    {
     "name": "stdout",
     "output_type": "stream",
     "text": [
      "BsmtUnfSF\n",
      "68\n"
     ]
    },
    {
     "name": "stderr",
     "output_type": "stream",
     "text": [
      "/Users/sheeba/opt/anaconda3/lib/python3.8/site-packages/statsmodels/regression/linear_model.py:1717: RuntimeWarning: invalid value encountered in double_scalars\n",
      "  return 1 - self.ssr/self.uncentered_tss\n"
     ]
    },
    {
     "name": "stdout",
     "output_type": "stream",
     "text": [
      "Garage_Area\n",
      "69\n"
     ]
    },
    {
     "name": "stderr",
     "output_type": "stream",
     "text": [
      "/Users/sheeba/opt/anaconda3/lib/python3.8/site-packages/statsmodels/regression/linear_model.py:1717: RuntimeWarning: invalid value encountered in double_scalars\n",
      "  return 1 - self.ssr/self.uncentered_tss\n"
     ]
    },
    {
     "name": "stdout",
     "output_type": "stream",
     "text": [
      "Neighborhood_Somerst\n",
      "70\n"
     ]
    },
    {
     "name": "stderr",
     "output_type": "stream",
     "text": [
      "/Users/sheeba/opt/anaconda3/lib/python3.8/site-packages/statsmodels/regression/linear_model.py:1717: RuntimeWarning: invalid value encountered in double_scalars\n",
      "  return 1 - self.ssr/self.uncentered_tss\n"
     ]
    },
    {
     "name": "stdout",
     "output_type": "stream",
     "text": [
      "Garage_Finish_Year_Unf\n",
      "71\n"
     ]
    },
    {
     "name": "stderr",
     "output_type": "stream",
     "text": [
      "/Users/sheeba/opt/anaconda3/lib/python3.8/site-packages/statsmodels/regression/linear_model.py:1717: RuntimeWarning: invalid value encountered in double_scalars\n",
      "  return 1 - self.ssr/self.uncentered_tss\n"
     ]
    },
    {
     "name": "stdout",
     "output_type": "stream",
     "text": [
      "Lot_Configuration_I\n",
      "72\n"
     ]
    },
    {
     "name": "stderr",
     "output_type": "stream",
     "text": [
      "/Users/sheeba/opt/anaconda3/lib/python3.8/site-packages/statsmodels/regression/linear_model.py:1717: RuntimeWarning: invalid value encountered in double_scalars\n",
      "  return 1 - self.ssr/self.uncentered_tss\n"
     ]
    },
    {
     "name": "stdout",
     "output_type": "stream",
     "text": [
      "Zoning_Class_RMD\n",
      "73\n"
     ]
    },
    {
     "name": "stderr",
     "output_type": "stream",
     "text": [
      "/Users/sheeba/opt/anaconda3/lib/python3.8/site-packages/statsmodels/regression/linear_model.py:1717: RuntimeWarning: invalid value encountered in double_scalars\n",
      "  return 1 - self.ssr/self.uncentered_tss\n"
     ]
    },
    {
     "name": "stdout",
     "output_type": "stream",
     "text": [
      "Pool_Area\n"
     ]
    },
    {
     "data": {
      "text/plain": [
       "['Sale_Condition_Partial',\n",
       " 'Heating_Type_Grav',\n",
       " 'Exterior1st_CBlock',\n",
       " 'Garage_Quality_Fa',\n",
       " 'Condition2_Feedr',\n",
       " 'Second_Floor_Area',\n",
       " 'Total_Basement_Area',\n",
       " 'Roof_Quality_WSh',\n",
       " 'Miscellaneous_Feature_TenC',\n",
       " 'Garage_Condition_Po',\n",
       " 'const',\n",
       " 'Year_Sold',\n",
       " 'Construction_Year',\n",
       " 'Remodel_Year',\n",
       " 'Garage_Built_Year',\n",
       " 'Miscellaneous_Feature_Shed',\n",
       " 'Roof_Quality_SS',\n",
       " 'Garage_Condition_TA',\n",
       " 'Roof_Design_Gable',\n",
       " 'Heating_Type_GasA',\n",
       " 'Exterior_Condition_TA',\n",
       " 'Road_Type_Paved',\n",
       " 'Condition2_Norm',\n",
       " 'Sale_Condition_Normal',\n",
       " 'Grade_Living_Area',\n",
       " 'Exterior1st_VinylSd',\n",
       " 'Zoning_Class_RLD',\n",
       " 'Garage_Attchd',\n",
       " 'Functional_Rate_TF',\n",
       " 'BsmtFinType2_Unf',\n",
       " 'Rooms_Above_Grade',\n",
       " 'Overall_Material',\n",
       " 'Building_Class',\n",
       " 'First_Floor_Area',\n",
       " 'Kitchen_Above_Grade',\n",
       " 'Exterior2nd_CmentBd',\n",
       " 'Brick_Veneer_Type_None',\n",
       " 'Garage_Quality_TA',\n",
       " 'Fireplace_Quality_Gd',\n",
       " 'Exterior2nd_MetalSd',\n",
       " 'House_Condition',\n",
       " 'Exterior_Material_TA',\n",
       " 'Basement_Condition_TA',\n",
       " 'Land_Outline_Lvl',\n",
       " 'Condition1_Norm',\n",
       " 'Sale_Type_WD',\n",
       " 'Bedroom_Above_Grade',\n",
       " 'Air_Conditioning_Y',\n",
       " 'Full_Bathroom_Above_Grade',\n",
       " 'Fence_Quality_MnPrv',\n",
       " 'Pavedd_Drive_Y',\n",
       " 'Exterior2nd_VinylSd',\n",
       " 'Lot_Extent',\n",
       " 'Electrical_System_SBrkr',\n",
       " 'Basement_Height_TA',\n",
       " 'Exterior1st_HdBoard',\n",
       " 'Garage_Size',\n",
       " 'Kitchen_Quality_TA',\n",
       " 'BsmtFinSF1',\n",
       " 'Neighborhood_NAmes',\n",
       " 'Foundation_Type_PC',\n",
       " 'Exterior1st_Wd Sdng',\n",
       " 'House_Design_1Story',\n",
       " 'Exposure_Level_No',\n",
       " 'Month_Sold',\n",
       " 'Lot_Size',\n",
       " 'BsmtUnfSF',\n",
       " 'Garage_Area',\n",
       " 'Neighborhood_Somerst',\n",
       " 'Garage_Finish_Year_Unf',\n",
       " 'Lot_Configuration_I',\n",
       " 'Zoning_Class_RMD']"
      ]
     },
     "execution_count": 34,
     "metadata": {},
     "output_type": "execute_result"
    }
   ],
   "source": [
    "while (tempMaxVIF >= maxVIFCutoff):\n",
    "    \n",
    "    print(counter)\n",
    "    \n",
    "    # Create an empty temporary df to store VIF values\n",
    "    tempVIFDf = pd.DataFrame()\n",
    "    \n",
    "    # Calculate VIF using list comprehension\n",
    "    tempVIFDf['VIF'] = [variance_inflation_factor(trainXCopy.values, i) for i in range(trainXCopy.shape[1])]\n",
    "    \n",
    "    # Create a new column \"Column_Name\" to store the col names against the VIF values from list comprehension\n",
    "    tempVIFDf['Column_Name'] = trainXCopy.columns\n",
    "    \n",
    "    # Drop NA rows from the df - If there is some calculation error resulting in NAs\n",
    "    tempVIFDf.dropna(inplace=True)\n",
    "    \n",
    "    # Sort the df based on VIF values, then pick the top most column name (which has the highest VIF)\n",
    "    tempColumnName = tempVIFDf.sort_values([\"VIF\"], ascending = False).iloc[0,1]\n",
    "    # tempColumnName = tempVIFDf.sort_values([\"VIF\"], ascending = True)[-1:][\"Column_Name\"].values[0]\n",
    "    \n",
    "    # Store the max VIF value in tempMaxVIF\n",
    "    tempMaxVIF = tempVIFDf.sort_values([\"VIF\"], ascending = False).iloc[0,0]\n",
    "    # tempMaxVIF = tempVIFDf.sort_values([\"VIF\"])[-1:][\"VIF\"].values[0]\n",
    "    \n",
    "    print(tempColumnName)\n",
    "    \n",
    "    if (tempMaxVIF >= maxVIFCutoff): # This condition will ensure that columns having VIF lower than 5 are NOT dropped\n",
    "        \n",
    "        # Remove the highest VIF valued \"Column\" from trainXCopy. As the loop continues this step will keep removing highest VIF columns one by one \n",
    "        trainXCopy = trainXCopy.drop(tempColumnName, axis = 1)    \n",
    "        highVIFColumnNames.append(tempColumnName)\n",
    "    \n",
    "    counter = counter + 1\n",
    "\n",
    "highVIFColumnNames\n"
   ]
  },
  {
   "cell_type": "code",
   "execution_count": 35,
   "id": "163ada36",
   "metadata": {},
   "outputs": [
    {
     "data": {
      "text/plain": [
       "['Sale_Condition_Partial',\n",
       " 'Heating_Type_Grav',\n",
       " 'Exterior1st_CBlock',\n",
       " 'Garage_Quality_Fa',\n",
       " 'Condition2_Feedr',\n",
       " 'Second_Floor_Area',\n",
       " 'Total_Basement_Area',\n",
       " 'Roof_Quality_WSh',\n",
       " 'Miscellaneous_Feature_TenC',\n",
       " 'Garage_Condition_Po',\n",
       " 'Year_Sold',\n",
       " 'Construction_Year',\n",
       " 'Remodel_Year',\n",
       " 'Garage_Built_Year',\n",
       " 'Miscellaneous_Feature_Shed',\n",
       " 'Roof_Quality_SS',\n",
       " 'Garage_Condition_TA',\n",
       " 'Roof_Design_Gable',\n",
       " 'Heating_Type_GasA',\n",
       " 'Exterior_Condition_TA',\n",
       " 'Road_Type_Paved',\n",
       " 'Condition2_Norm',\n",
       " 'Sale_Condition_Normal',\n",
       " 'Grade_Living_Area',\n",
       " 'Exterior1st_VinylSd',\n",
       " 'Zoning_Class_RLD',\n",
       " 'Garage_Attchd',\n",
       " 'Functional_Rate_TF',\n",
       " 'BsmtFinType2_Unf',\n",
       " 'Rooms_Above_Grade',\n",
       " 'Overall_Material',\n",
       " 'Building_Class',\n",
       " 'First_Floor_Area',\n",
       " 'Kitchen_Above_Grade',\n",
       " 'Exterior2nd_CmentBd',\n",
       " 'Brick_Veneer_Type_None',\n",
       " 'Garage_Quality_TA',\n",
       " 'Fireplace_Quality_Gd',\n",
       " 'Exterior2nd_MetalSd',\n",
       " 'House_Condition',\n",
       " 'Exterior_Material_TA',\n",
       " 'Basement_Condition_TA',\n",
       " 'Land_Outline_Lvl',\n",
       " 'Condition1_Norm',\n",
       " 'Sale_Type_WD',\n",
       " 'Bedroom_Above_Grade',\n",
       " 'Air_Conditioning_Y',\n",
       " 'Full_Bathroom_Above_Grade',\n",
       " 'Fence_Quality_MnPrv',\n",
       " 'Pavedd_Drive_Y',\n",
       " 'Exterior2nd_VinylSd',\n",
       " 'Lot_Extent',\n",
       " 'Electrical_System_SBrkr',\n",
       " 'Basement_Height_TA',\n",
       " 'Exterior1st_HdBoard',\n",
       " 'Garage_Size',\n",
       " 'Kitchen_Quality_TA',\n",
       " 'BsmtFinSF1',\n",
       " 'Neighborhood_NAmes',\n",
       " 'Foundation_Type_PC',\n",
       " 'Exterior1st_Wd Sdng',\n",
       " 'House_Design_1Story',\n",
       " 'Exposure_Level_No',\n",
       " 'Month_Sold',\n",
       " 'Lot_Size',\n",
       " 'BsmtUnfSF',\n",
       " 'Garage_Area',\n",
       " 'Neighborhood_Somerst',\n",
       " 'Garage_Finish_Year_Unf',\n",
       " 'Lot_Configuration_I',\n",
       " 'Zoning_Class_RMD']"
      ]
     },
     "execution_count": 35,
     "metadata": {},
     "output_type": "execute_result"
    }
   ],
   "source": [
    "highVIFColumnNames.remove('const') # We need to exclude 'const' column from getting dropped/ removed. This is intercept.\n",
    "highVIFColumnNames"
   ]
  },
  {
   "cell_type": "code",
   "execution_count": 36,
   "id": "830afda8",
   "metadata": {},
   "outputs": [
    {
     "data": {
      "text/plain": [
       "(365, 184)"
      ]
     },
     "execution_count": 36,
     "metadata": {},
     "output_type": "execute_result"
    }
   ],
   "source": [
    "trainX = trainX.drop(highVIFColumnNames, axis = 1)\n",
    "testX = testX.drop(highVIFColumnNames, axis = 1)\n",
    "predictionDf = predictionDf.drop(highVIFColumnNames, axis = 1)\n",
    "\n",
    "trainX.shape\n",
    "testX.shape\n"
   ]
  },
  {
   "cell_type": "markdown",
   "id": "52edac87",
   "metadata": {},
   "source": [
    "### Model Building"
   ]
  },
  {
   "cell_type": "code",
   "execution_count": 37,
   "id": "9ece32a0",
   "metadata": {},
   "outputs": [],
   "source": [
    "# Using Linear Regression\n",
    "from statsmodels.api import OLS"
   ]
  },
  {
   "cell_type": "code",
   "execution_count": 38,
   "id": "e0ac89e6",
   "metadata": {},
   "outputs": [
    {
     "data": {
      "text/html": [
       "<table class=\"simpletable\">\n",
       "<caption>OLS Regression Results</caption>\n",
       "<tr>\n",
       "  <th>Dep. Variable:</th>       <td>Sale_Price</td>    <th>  R-squared:         </th> <td>   0.832</td> \n",
       "</tr>\n",
       "<tr>\n",
       "  <th>Model:</th>                   <td>OLS</td>       <th>  Adj. R-squared:    </th> <td>   0.801</td> \n",
       "</tr>\n",
       "<tr>\n",
       "  <th>Method:</th>             <td>Least Squares</td>  <th>  F-statistic:       </th> <td>   26.71</td> \n",
       "</tr>\n",
       "<tr>\n",
       "  <th>Date:</th>             <td>Wed, 13 Jul 2022</td> <th>  Prob (F-statistic):</th> <td>7.83e-264</td>\n",
       "</tr>\n",
       "<tr>\n",
       "  <th>Time:</th>                 <td>20:07:38</td>     <th>  Log-Likelihood:    </th> <td> -12880.</td> \n",
       "</tr>\n",
       "<tr>\n",
       "  <th>No. Observations:</th>      <td>  1094</td>      <th>  AIC:               </th> <td>2.610e+04</td>\n",
       "</tr>\n",
       "<tr>\n",
       "  <th>Df Residuals:</th>          <td>   922</td>      <th>  BIC:               </th> <td>2.696e+04</td>\n",
       "</tr>\n",
       "<tr>\n",
       "  <th>Df Model:</th>              <td>   171</td>      <th>                     </th>     <td> </td>    \n",
       "</tr>\n",
       "<tr>\n",
       "  <th>Covariance Type:</th>      <td>nonrobust</td>    <th>                     </th>     <td> </td>    \n",
       "</tr>\n",
       "</table>\n",
       "<table class=\"simpletable\">\n",
       "<tr>\n",
       "               <td></td>                 <th>coef</th>     <th>std err</th>      <th>t</th>      <th>P>|t|</th>  <th>[0.025</th>    <th>0.975]</th>  \n",
       "</tr>\n",
       "<tr>\n",
       "  <th>const</th>                      <td> 1.601e+05</td> <td> 6955.941</td> <td>   23.011</td> <td> 0.000</td> <td> 1.46e+05</td> <td> 1.74e+05</td>\n",
       "</tr>\n",
       "<tr>\n",
       "  <th>Brick_Veneer_Area</th>          <td>   38.9405</td> <td>    9.603</td> <td>    4.055</td> <td> 0.000</td> <td>   20.095</td> <td>   57.786</td>\n",
       "</tr>\n",
       "<tr>\n",
       "  <th>BsmtFinSF2</th>                 <td>   18.3042</td> <td>   10.325</td> <td>    1.773</td> <td> 0.077</td> <td>   -1.958</td> <td>   38.567</td>\n",
       "</tr>\n",
       "<tr>\n",
       "  <th>LowQualFinSF</th>               <td>  -55.0019</td> <td>   32.929</td> <td>   -1.670</td> <td> 0.095</td> <td> -119.626</td> <td>    9.623</td>\n",
       "</tr>\n",
       "<tr>\n",
       "  <th>Underground_Full_Bathroom</th>  <td> 2946.2442</td> <td> 3001.562</td> <td>    0.982</td> <td> 0.327</td> <td>-2944.442</td> <td> 8836.930</td>\n",
       "</tr>\n",
       "<tr>\n",
       "  <th>Underground_Half_Bathroom</th>  <td>-1118.4452</td> <td> 5115.925</td> <td>   -0.219</td> <td> 0.827</td> <td>-1.12e+04</td> <td> 8921.764</td>\n",
       "</tr>\n",
       "<tr>\n",
       "  <th>Half_Bathroom_Above_Grade</th>  <td> 1.189e+04</td> <td> 3175.850</td> <td>    3.745</td> <td> 0.000</td> <td> 5660.048</td> <td> 1.81e+04</td>\n",
       "</tr>\n",
       "<tr>\n",
       "  <th>Fireplaces</th>                 <td> 1.874e+04</td> <td> 2434.424</td> <td>    7.700</td> <td> 0.000</td> <td>  1.4e+04</td> <td> 2.35e+04</td>\n",
       "</tr>\n",
       "<tr>\n",
       "  <th>W_Deck_Area</th>                <td>    7.8051</td> <td>    8.998</td> <td>    0.867</td> <td> 0.386</td> <td>   -9.854</td> <td>   25.464</td>\n",
       "</tr>\n",
       "<tr>\n",
       "  <th>Open_Lobby_Area</th>            <td>  -17.8244</td> <td>   16.735</td> <td>   -1.065</td> <td> 0.287</td> <td>  -50.668</td> <td>   15.019</td>\n",
       "</tr>\n",
       "<tr>\n",
       "  <th>Enclosed_Lobby_Area</th>        <td>   30.4854</td> <td>   18.188</td> <td>    1.676</td> <td> 0.094</td> <td>   -5.210</td> <td>   66.181</td>\n",
       "</tr>\n",
       "<tr>\n",
       "  <th>Three_Season_Lobby_Area</th>    <td>   93.2162</td> <td>   37.922</td> <td>    2.458</td> <td> 0.014</td> <td>   18.793</td> <td>  167.640</td>\n",
       "</tr>\n",
       "<tr>\n",
       "  <th>Screen_Lobby_Area</th>          <td>   32.2010</td> <td>   21.708</td> <td>    1.483</td> <td> 0.138</td> <td>  -10.401</td> <td>   74.803</td>\n",
       "</tr>\n",
       "<tr>\n",
       "  <th>Pool_Area</th>                  <td>  505.0782</td> <td>   52.001</td> <td>    9.713</td> <td> 0.000</td> <td>  403.023</td> <td>  607.133</td>\n",
       "</tr>\n",
       "<tr>\n",
       "  <th>Miscellaneous_Value</th>        <td>    8.6789</td> <td>    6.534</td> <td>    1.328</td> <td> 0.184</td> <td>   -4.144</td> <td>   21.502</td>\n",
       "</tr>\n",
       "<tr>\n",
       "  <th>Zoning_Class_FVR</th>           <td> 2.567e+04</td> <td> 7711.391</td> <td>    3.329</td> <td> 0.001</td> <td> 1.05e+04</td> <td> 4.08e+04</td>\n",
       "</tr>\n",
       "<tr>\n",
       "  <th>Zoning_Class_RHD</th>           <td> 3188.7225</td> <td> 1.14e+04</td> <td>    0.281</td> <td> 0.779</td> <td>-1.91e+04</td> <td> 2.55e+04</td>\n",
       "</tr>\n",
       "<tr>\n",
       "  <th>Lane_Type_Paved</th>            <td> 2774.1687</td> <td> 8592.997</td> <td>    0.323</td> <td> 0.747</td> <td>-1.41e+04</td> <td> 1.96e+04</td>\n",
       "</tr>\n",
       "<tr>\n",
       "  <th>Property_Shape_IR2</th>         <td> 9274.8849</td> <td> 7838.030</td> <td>    1.183</td> <td> 0.237</td> <td>-6107.565</td> <td> 2.47e+04</td>\n",
       "</tr>\n",
       "<tr>\n",
       "  <th>Property_Shape_IR3</th>         <td> 1.436e+04</td> <td> 1.42e+04</td> <td>    1.013</td> <td> 0.311</td> <td>-1.35e+04</td> <td> 4.22e+04</td>\n",
       "</tr>\n",
       "<tr>\n",
       "  <th>Property_Shape_Reg</th>         <td> -987.7025</td> <td> 2790.838</td> <td>   -0.354</td> <td> 0.723</td> <td>-6464.835</td> <td> 4489.430</td>\n",
       "</tr>\n",
       "<tr>\n",
       "  <th>Land_Outline_HLS</th>           <td> 1.075e+04</td> <td> 7119.379</td> <td>    1.510</td> <td> 0.131</td> <td>-3222.501</td> <td> 2.47e+04</td>\n",
       "</tr>\n",
       "<tr>\n",
       "  <th>Land_Outline_Low</th>           <td>  921.3965</td> <td> 1.01e+04</td> <td>    0.091</td> <td> 0.927</td> <td>-1.89e+04</td> <td> 2.07e+04</td>\n",
       "</tr>\n",
       "<tr>\n",
       "  <th>Utility_Type_NoSeWa</th>        <td>-5.628e+04</td> <td> 3.98e+04</td> <td>   -1.415</td> <td> 0.157</td> <td>-1.34e+05</td> <td> 2.18e+04</td>\n",
       "</tr>\n",
       "<tr>\n",
       "  <th>Lot_Configuration_CulDSac</th>  <td> 1.293e+04</td> <td> 5125.257</td> <td>    2.523</td> <td> 0.012</td> <td> 2870.121</td> <td>  2.3e+04</td>\n",
       "</tr>\n",
       "<tr>\n",
       "  <th>Lot_Configuration_FR2P</th>     <td>-1.011e+04</td> <td> 5914.433</td> <td>   -1.710</td> <td> 0.088</td> <td>-2.17e+04</td> <td> 1495.387</td>\n",
       "</tr>\n",
       "<tr>\n",
       "  <th>Lot_Configuration_FR3P</th>     <td>-1.897e+04</td> <td> 2.15e+04</td> <td>   -0.881</td> <td> 0.379</td> <td>-6.12e+04</td> <td> 2.33e+04</td>\n",
       "</tr>\n",
       "<tr>\n",
       "  <th>Property_Slope_MS</th>          <td>  236.3213</td> <td> 6878.369</td> <td>    0.034</td> <td> 0.973</td> <td>-1.33e+04</td> <td> 1.37e+04</td>\n",
       "</tr>\n",
       "<tr>\n",
       "  <th>Property_Slope_SS</th>          <td>-3.921e+04</td> <td> 1.71e+04</td> <td>   -2.289</td> <td> 0.022</td> <td>-7.28e+04</td> <td>-5599.017</td>\n",
       "</tr>\n",
       "<tr>\n",
       "  <th>Neighborhood_Blueste</th>       <td> 2.261e+04</td> <td> 2.65e+04</td> <td>    0.853</td> <td> 0.394</td> <td>-2.94e+04</td> <td> 7.46e+04</td>\n",
       "</tr>\n",
       "<tr>\n",
       "  <th>Neighborhood_BrDale</th>        <td> 3895.3595</td> <td> 1.41e+04</td> <td>    0.276</td> <td> 0.783</td> <td>-2.38e+04</td> <td> 3.16e+04</td>\n",
       "</tr>\n",
       "<tr>\n",
       "  <th>Neighborhood_BrkSide</th>       <td>-1.195e+04</td> <td> 7321.703</td> <td>   -1.632</td> <td> 0.103</td> <td>-2.63e+04</td> <td> 2419.101</td>\n",
       "</tr>\n",
       "<tr>\n",
       "  <th>Neighborhood_ClearCr</th>       <td> 2.364e+04</td> <td>    1e+04</td> <td>    2.358</td> <td> 0.019</td> <td> 3962.923</td> <td> 4.33e+04</td>\n",
       "</tr>\n",
       "<tr>\n",
       "  <th>Neighborhood_CollgCr</th>       <td> 7053.2378</td> <td> 5314.162</td> <td>    1.327</td> <td> 0.185</td> <td>-3376.019</td> <td> 1.75e+04</td>\n",
       "</tr>\n",
       "<tr>\n",
       "  <th>Neighborhood_Crawfor</th>       <td> 2.916e+04</td> <td> 7495.598</td> <td>    3.891</td> <td> 0.000</td> <td> 1.45e+04</td> <td> 4.39e+04</td>\n",
       "</tr>\n",
       "<tr>\n",
       "  <th>Neighborhood_Edwards</th>       <td>-1.544e+04</td> <td> 5651.577</td> <td>   -2.732</td> <td> 0.006</td> <td>-2.65e+04</td> <td>-4351.281</td>\n",
       "</tr>\n",
       "<tr>\n",
       "  <th>Neighborhood_Gilbert</th>       <td>-1.085e+04</td> <td> 6808.271</td> <td>   -1.594</td> <td> 0.111</td> <td>-2.42e+04</td> <td> 2508.755</td>\n",
       "</tr>\n",
       "<tr>\n",
       "  <th>Neighborhood_IDOTRR</th>        <td>-2.601e+04</td> <td> 7862.242</td> <td>   -3.308</td> <td> 0.001</td> <td>-4.14e+04</td> <td>-1.06e+04</td>\n",
       "</tr>\n",
       "<tr>\n",
       "  <th>Neighborhood_MeadowV</th>       <td>-3.092e+04</td> <td> 1.33e+04</td> <td>   -2.333</td> <td> 0.020</td> <td>-5.69e+04</td> <td>-4907.410</td>\n",
       "</tr>\n",
       "<tr>\n",
       "  <th>Neighborhood_Mitchel</th>       <td>-5740.6036</td> <td> 7338.451</td> <td>   -0.782</td> <td> 0.434</td> <td>-2.01e+04</td> <td> 8661.402</td>\n",
       "</tr>\n",
       "<tr>\n",
       "  <th>Neighborhood_NPkVill</th>       <td> 5.367e+04</td> <td> 2.19e+04</td> <td>    2.456</td> <td> 0.014</td> <td> 1.08e+04</td> <td> 9.66e+04</td>\n",
       "</tr>\n",
       "<tr>\n",
       "  <th>Neighborhood_NWAmes</th>        <td> 1.587e+04</td> <td> 6178.830</td> <td>    2.568</td> <td> 0.010</td> <td> 3744.003</td> <td>  2.8e+04</td>\n",
       "</tr>\n",
       "<tr>\n",
       "  <th>Neighborhood_NoRidge</th>       <td> 7.966e+04</td> <td> 8358.652</td> <td>    9.530</td> <td> 0.000</td> <td> 6.33e+04</td> <td> 9.61e+04</td>\n",
       "</tr>\n",
       "<tr>\n",
       "  <th>Neighborhood_NridgHt</th>       <td> 7.607e+04</td> <td> 6484.752</td> <td>   11.731</td> <td> 0.000</td> <td> 6.33e+04</td> <td> 8.88e+04</td>\n",
       "</tr>\n",
       "<tr>\n",
       "  <th>Neighborhood_OldTown</th>       <td>-1.834e+04</td> <td> 6225.158</td> <td>   -2.946</td> <td> 0.003</td> <td>-3.06e+04</td> <td>-6119.879</td>\n",
       "</tr>\n",
       "<tr>\n",
       "  <th>Neighborhood_SWISU</th>         <td>-1383.6459</td> <td> 1.03e+04</td> <td>   -0.135</td> <td> 0.893</td> <td>-2.16e+04</td> <td> 1.88e+04</td>\n",
       "</tr>\n",
       "<tr>\n",
       "  <th>Neighborhood_Sawyer</th>        <td>-3791.9448</td> <td> 5910.951</td> <td>   -0.642</td> <td> 0.521</td> <td>-1.54e+04</td> <td> 7808.535</td>\n",
       "</tr>\n",
       "<tr>\n",
       "  <th>Neighborhood_SawyerW</th>       <td> 1.743e+04</td> <td> 7148.474</td> <td>    2.438</td> <td> 0.015</td> <td> 3399.428</td> <td> 3.15e+04</td>\n",
       "</tr>\n",
       "<tr>\n",
       "  <th>Neighborhood_StoneBr</th>       <td> 1.007e+05</td> <td>  1.1e+04</td> <td>    9.187</td> <td> 0.000</td> <td> 7.92e+04</td> <td> 1.22e+05</td>\n",
       "</tr>\n",
       "<tr>\n",
       "  <th>Neighborhood_Timber</th>        <td> 1.889e+04</td> <td> 8193.247</td> <td>    2.306</td> <td> 0.021</td> <td> 2811.383</td> <td>  3.5e+04</td>\n",
       "</tr>\n",
       "<tr>\n",
       "  <th>Neighborhood_Veenker</th>       <td> 3.334e+04</td> <td> 1.38e+04</td> <td>    2.421</td> <td> 0.016</td> <td> 6315.771</td> <td> 6.04e+04</td>\n",
       "</tr>\n",
       "<tr>\n",
       "  <th>Condition1_Feedr</th>           <td>-1.125e+04</td> <td> 5209.473</td> <td>   -2.160</td> <td> 0.031</td> <td>-2.15e+04</td> <td>-1026.159</td>\n",
       "</tr>\n",
       "<tr>\n",
       "  <th>Condition1_NoRMD</th>           <td> 1.913e-09</td> <td> 1.54e-09</td> <td>    1.246</td> <td> 0.213</td> <td> -1.1e-09</td> <td> 4.93e-09</td>\n",
       "</tr>\n",
       "<tr>\n",
       "  <th>Condition1_PosA</th>            <td> 2.973e+04</td> <td>  1.4e+04</td> <td>    2.126</td> <td> 0.034</td> <td> 2290.335</td> <td> 5.72e+04</td>\n",
       "</tr>\n",
       "<tr>\n",
       "  <th>Condition1_PosN</th>            <td>  599.2864</td> <td> 1.14e+04</td> <td>    0.053</td> <td> 0.958</td> <td>-2.18e+04</td> <td>  2.3e+04</td>\n",
       "</tr>\n",
       "<tr>\n",
       "  <th>Condition1_RRAe</th>            <td> -2.22e+04</td> <td> 1.44e+04</td> <td>   -1.543</td> <td> 0.123</td> <td>-5.04e+04</td> <td> 6042.208</td>\n",
       "</tr>\n",
       "<tr>\n",
       "  <th>Condition1_RRAn</th>            <td>-1.399e+04</td> <td> 8939.863</td> <td>   -1.565</td> <td> 0.118</td> <td>-3.15e+04</td> <td> 3554.132</td>\n",
       "</tr>\n",
       "<tr>\n",
       "  <th>Condition1_RRNe</th>            <td>-2.185e+04</td> <td> 2.59e+04</td> <td>   -0.842</td> <td> 0.400</td> <td>-7.28e+04</td> <td> 2.91e+04</td>\n",
       "</tr>\n",
       "<tr>\n",
       "  <th>Condition1_RRNn</th>            <td> 1.705e+04</td> <td> 1.76e+04</td> <td>    0.968</td> <td> 0.333</td> <td>-1.75e+04</td> <td> 5.16e+04</td>\n",
       "</tr>\n",
       "<tr>\n",
       "  <th>Condition2_NoRMD</th>           <td> 1.589e-10</td> <td> 1.45e-10</td> <td>    1.096</td> <td> 0.273</td> <td>-1.26e-10</td> <td> 4.43e-10</td>\n",
       "</tr>\n",
       "<tr>\n",
       "  <th>Condition2_PosA</th>            <td> 1.974e+05</td> <td> 4.11e+04</td> <td>    4.806</td> <td> 0.000</td> <td> 1.17e+05</td> <td> 2.78e+05</td>\n",
       "</tr>\n",
       "<tr>\n",
       "  <th>Condition2_PosN</th>            <td>-1.923e+05</td> <td> 3.81e+04</td> <td>   -5.042</td> <td> 0.000</td> <td>-2.67e+05</td> <td>-1.17e+05</td>\n",
       "</tr>\n",
       "<tr>\n",
       "  <th>Condition2_RRAe</th>            <td>-6.986e-11</td> <td> 2.73e-10</td> <td>   -0.255</td> <td> 0.798</td> <td>-6.07e-10</td> <td> 4.67e-10</td>\n",
       "</tr>\n",
       "<tr>\n",
       "  <th>Condition2_RRAn</th>            <td> 9285.5928</td> <td> 3.68e+04</td> <td>    0.253</td> <td> 0.801</td> <td>-6.29e+04</td> <td> 8.14e+04</td>\n",
       "</tr>\n",
       "<tr>\n",
       "  <th>Condition2_RRNn</th>            <td>-2.986e+04</td> <td> 3.68e+04</td> <td>   -0.811</td> <td> 0.418</td> <td>-1.02e+05</td> <td> 4.24e+04</td>\n",
       "</tr>\n",
       "<tr>\n",
       "  <th>House_Type_2fmCon</th>          <td>-8579.7703</td> <td> 8653.682</td> <td>   -0.991</td> <td> 0.322</td> <td>-2.56e+04</td> <td> 8403.430</td>\n",
       "</tr>\n",
       "<tr>\n",
       "  <th>House_Type_Duplex</th>          <td> -295.9808</td> <td> 7500.513</td> <td>   -0.039</td> <td> 0.969</td> <td> -1.5e+04</td> <td> 1.44e+04</td>\n",
       "</tr>\n",
       "<tr>\n",
       "  <th>House_Type_Twnhs</th>           <td>-5.585e+04</td> <td> 8693.717</td> <td>   -6.424</td> <td> 0.000</td> <td>-7.29e+04</td> <td>-3.88e+04</td>\n",
       "</tr>\n",
       "<tr>\n",
       "  <th>House_Type_TwnhsE</th>          <td>-4.882e+04</td> <td> 5231.073</td> <td>   -9.332</td> <td> 0.000</td> <td>-5.91e+04</td> <td>-3.86e+04</td>\n",
       "</tr>\n",
       "<tr>\n",
       "  <th>House_Design_1.5Unf</th>        <td>-1.001e+04</td> <td> 1.45e+04</td> <td>   -0.688</td> <td> 0.491</td> <td>-3.86e+04</td> <td> 1.85e+04</td>\n",
       "</tr>\n",
       "<tr>\n",
       "  <th>House_Design_2.5Fin</th>        <td> 5.073e+04</td> <td> 1.83e+04</td> <td>    2.780</td> <td> 0.006</td> <td> 1.49e+04</td> <td> 8.65e+04</td>\n",
       "</tr>\n",
       "<tr>\n",
       "  <th>House_Design_2.5Unf</th>        <td>-9955.1576</td> <td> 1.61e+04</td> <td>   -0.619</td> <td> 0.536</td> <td>-4.15e+04</td> <td> 2.16e+04</td>\n",
       "</tr>\n",
       "<tr>\n",
       "  <th>House_Design_2Story</th>        <td> 8980.1887</td> <td> 3694.130</td> <td>    2.431</td> <td> 0.015</td> <td> 1730.311</td> <td> 1.62e+04</td>\n",
       "</tr>\n",
       "<tr>\n",
       "  <th>House_Design_SFoyer</th>        <td>-1.536e+04</td> <td> 7168.370</td> <td>   -2.143</td> <td> 0.032</td> <td>-2.94e+04</td> <td>-1291.947</td>\n",
       "</tr>\n",
       "<tr>\n",
       "  <th>House_Design_SLvl</th>          <td>-9984.0360</td> <td> 6133.565</td> <td>   -1.628</td> <td> 0.104</td> <td> -2.2e+04</td> <td> 2053.333</td>\n",
       "</tr>\n",
       "<tr>\n",
       "  <th>Roof_Design_Gambrel</th>        <td>  1.51e+04</td> <td> 1.32e+04</td> <td>    1.143</td> <td> 0.253</td> <td>-1.08e+04</td> <td>  4.1e+04</td>\n",
       "</tr>\n",
       "<tr>\n",
       "  <th>Roof_Design_Hip</th>            <td> 1.657e+04</td> <td> 3171.532</td> <td>    5.224</td> <td> 0.000</td> <td> 1.03e+04</td> <td> 2.28e+04</td>\n",
       "</tr>\n",
       "<tr>\n",
       "  <th>Roof_Design_Mansard</th>        <td>-1.244e+04</td> <td> 2.04e+04</td> <td>   -0.609</td> <td> 0.542</td> <td>-5.25e+04</td> <td> 2.76e+04</td>\n",
       "</tr>\n",
       "<tr>\n",
       "  <th>Roof_Design_Shed</th>           <td> 2.887e+04</td> <td> 5.34e+04</td> <td>    0.541</td> <td> 0.589</td> <td>-7.59e+04</td> <td> 1.34e+05</td>\n",
       "</tr>\n",
       "<tr>\n",
       "  <th>Roof_Quality_M</th>             <td> 1084.4535</td> <td> 4.11e+04</td> <td>    0.026</td> <td> 0.979</td> <td>-7.96e+04</td> <td> 8.18e+04</td>\n",
       "</tr>\n",
       "<tr>\n",
       "  <th>Roof_Quality_ME</th>            <td>-3.514e+04</td> <td> 3.97e+04</td> <td>   -0.884</td> <td> 0.377</td> <td>-1.13e+05</td> <td> 4.28e+04</td>\n",
       "</tr>\n",
       "<tr>\n",
       "  <th>Roof_Quality_R</th>             <td>-1.306e+04</td> <td> 3.74e+04</td> <td>   -0.349</td> <td> 0.727</td> <td>-8.65e+04</td> <td> 6.04e+04</td>\n",
       "</tr>\n",
       "<tr>\n",
       "  <th>Roof_Quality_TG</th>            <td>-2.387e+04</td> <td> 1.68e+04</td> <td>   -1.422</td> <td> 0.155</td> <td>-5.68e+04</td> <td> 9070.347</td>\n",
       "</tr>\n",
       "<tr>\n",
       "  <th>Roof_Quality_WS</th>            <td> 1.741e+04</td> <td> 3.64e+04</td> <td>    0.479</td> <td> 0.632</td> <td> -5.4e+04</td> <td> 8.88e+04</td>\n",
       "</tr>\n",
       "<tr>\n",
       "  <th>Exterior1st_AsphShn</th>        <td>-1.778e+04</td> <td> 4.59e+04</td> <td>   -0.387</td> <td> 0.699</td> <td>-1.08e+05</td> <td> 7.24e+04</td>\n",
       "</tr>\n",
       "<tr>\n",
       "  <th>Exterior1st_BrkComm</th>        <td> 5.584e+04</td> <td> 5.41e+04</td> <td>    1.032</td> <td> 0.303</td> <td>-5.04e+04</td> <td> 1.62e+05</td>\n",
       "</tr>\n",
       "<tr>\n",
       "  <th>Exterior1st_BrkFace</th>        <td> 3.531e+04</td> <td> 8345.532</td> <td>    4.231</td> <td> 0.000</td> <td> 1.89e+04</td> <td> 5.17e+04</td>\n",
       "</tr>\n",
       "<tr>\n",
       "  <th>Exterior1st_CB</th>             <td>-1.694e-10</td> <td> 1.04e-10</td> <td>   -1.635</td> <td> 0.102</td> <td>-3.73e-10</td> <td> 3.39e-11</td>\n",
       "</tr>\n",
       "<tr>\n",
       "  <th>Exterior1st_CemntBd</th>        <td> 2.958e+04</td> <td> 6696.421</td> <td>    4.417</td> <td> 0.000</td> <td> 1.64e+04</td> <td> 4.27e+04</td>\n",
       "</tr>\n",
       "<tr>\n",
       "  <th>Exterior1st_ImStucc</th>        <td> 2928.9723</td> <td> 3.84e+04</td> <td>    0.076</td> <td> 0.939</td> <td>-7.25e+04</td> <td> 7.84e+04</td>\n",
       "</tr>\n",
       "<tr>\n",
       "  <th>Exterior1st_MetalSd</th>        <td>-4448.9445</td> <td> 4063.145</td> <td>   -1.095</td> <td> 0.274</td> <td>-1.24e+04</td> <td> 3525.142</td>\n",
       "</tr>\n",
       "<tr>\n",
       "  <th>Exterior1st_Plywood</th>        <td> 2.008e+04</td> <td> 7268.476</td> <td>    2.762</td> <td> 0.006</td> <td> 5813.568</td> <td> 3.43e+04</td>\n",
       "</tr>\n",
       "<tr>\n",
       "  <th>Exterior1st_Stone</th>          <td> 5.931e+04</td> <td> 4.72e+04</td> <td>    1.257</td> <td> 0.209</td> <td>-3.33e+04</td> <td> 1.52e+05</td>\n",
       "</tr>\n",
       "<tr>\n",
       "  <th>Exterior1st_Stucco</th>         <td> 1.944e+04</td> <td> 1.58e+04</td> <td>    1.227</td> <td> 0.220</td> <td>-1.17e+04</td> <td> 5.05e+04</td>\n",
       "</tr>\n",
       "<tr>\n",
       "  <th>Exterior1st_WdShing</th>        <td> 1.147e+04</td> <td> 1.05e+04</td> <td>    1.092</td> <td> 0.275</td> <td>-9142.123</td> <td> 3.21e+04</td>\n",
       "</tr>\n",
       "<tr>\n",
       "  <th>Exterior2nd_AsphShn</th>        <td>-1.068e+04</td> <td> 2.87e+04</td> <td>   -0.373</td> <td> 0.710</td> <td>-6.69e+04</td> <td> 4.56e+04</td>\n",
       "</tr>\n",
       "<tr>\n",
       "  <th>Exterior2nd_Brk Cmn</th>        <td>-2.791e+04</td> <td> 3.06e+04</td> <td>   -0.912</td> <td> 0.362</td> <td> -8.8e+04</td> <td> 3.22e+04</td>\n",
       "</tr>\n",
       "<tr>\n",
       "  <th>Exterior2nd_BrkFace</th>        <td>-2.736e+04</td> <td> 1.17e+04</td> <td>   -2.332</td> <td> 0.020</td> <td>-5.04e+04</td> <td>-4338.463</td>\n",
       "</tr>\n",
       "<tr>\n",
       "  <th>Exterior2nd_CBlock</th>         <td>-4772.5616</td> <td> 3.96e+04</td> <td>   -0.121</td> <td> 0.904</td> <td>-8.24e+04</td> <td> 7.29e+04</td>\n",
       "</tr>\n",
       "<tr>\n",
       "  <th>Exterior2nd_HdBoard</th>        <td>-1.082e+04</td> <td> 4260.577</td> <td>   -2.540</td> <td> 0.011</td> <td>-1.92e+04</td> <td>-2459.953</td>\n",
       "</tr>\n",
       "<tr>\n",
       "  <th>Exterior2nd_ImStucc</th>        <td> 2790.3412</td> <td> 1.42e+04</td> <td>    0.196</td> <td> 0.845</td> <td>-2.52e+04</td> <td> 3.07e+04</td>\n",
       "</tr>\n",
       "<tr>\n",
       "  <th>Exterior2nd_Other</th>          <td>  7.54e-11</td> <td> 6.31e-11</td> <td>    1.194</td> <td> 0.233</td> <td>-4.85e-11</td> <td> 1.99e-10</td>\n",
       "</tr>\n",
       "<tr>\n",
       "  <th>Exterior2nd_Plywood</th>        <td>-2.216e+04</td> <td> 6679.752</td> <td>   -3.317</td> <td> 0.001</td> <td>-3.53e+04</td> <td>-9050.648</td>\n",
       "</tr>\n",
       "<tr>\n",
       "  <th>Exterior2nd_Stone</th>          <td>-5.032e+04</td> <td>  2.9e+04</td> <td>   -1.734</td> <td> 0.083</td> <td>-1.07e+05</td> <td> 6633.984</td>\n",
       "</tr>\n",
       "<tr>\n",
       "  <th>Exterior2nd_Stucco</th>         <td>-5.762e+04</td> <td>  1.6e+04</td> <td>   -3.605</td> <td> 0.000</td> <td> -8.9e+04</td> <td>-2.63e+04</td>\n",
       "</tr>\n",
       "<tr>\n",
       "  <th>Exterior2nd_Wd Sdng</th>        <td>-1.306e+04</td> <td> 4284.911</td> <td>   -3.049</td> <td> 0.002</td> <td>-2.15e+04</td> <td>-4653.818</td>\n",
       "</tr>\n",
       "<tr>\n",
       "  <th>Exterior2nd_Wd Shng</th>        <td>-2.398e+04</td> <td> 8998.996</td> <td>   -2.664</td> <td> 0.008</td> <td>-4.16e+04</td> <td>-6314.847</td>\n",
       "</tr>\n",
       "<tr>\n",
       "  <th>Brick_Veneer_Type_BrkFace</th>  <td> 2584.4839</td> <td> 3671.459</td> <td>    0.704</td> <td> 0.482</td> <td>-4620.903</td> <td> 9789.871</td>\n",
       "</tr>\n",
       "<tr>\n",
       "  <th>Brick_Veneer_Type_Stone</th>    <td> 2.107e+04</td> <td> 5212.607</td> <td>    4.041</td> <td> 0.000</td> <td> 1.08e+04</td> <td> 3.13e+04</td>\n",
       "</tr>\n",
       "<tr>\n",
       "  <th>Exterior_Material_Fa</th>       <td>-1.329e+04</td> <td> 1.67e+04</td> <td>   -0.796</td> <td> 0.426</td> <td>-4.61e+04</td> <td> 1.95e+04</td>\n",
       "</tr>\n",
       "<tr>\n",
       "  <th>Exterior_Material_Gd</th>       <td> 3133.1022</td> <td> 3744.173</td> <td>    0.837</td> <td> 0.403</td> <td>-4214.988</td> <td> 1.05e+04</td>\n",
       "</tr>\n",
       "<tr>\n",
       "  <th>Exterior_Condition_Fa</th>      <td>-1.251e+04</td> <td> 1.04e+04</td> <td>   -1.202</td> <td> 0.230</td> <td>-3.29e+04</td> <td> 7913.484</td>\n",
       "</tr>\n",
       "<tr>\n",
       "  <th>Exterior_Condition_Gd</th>      <td>-3446.8335</td> <td> 3961.863</td> <td>   -0.870</td> <td> 0.385</td> <td>-1.12e+04</td> <td> 4328.482</td>\n",
       "</tr>\n",
       "<tr>\n",
       "  <th>Exterior_Condition_Po</th>      <td>-2.009e+04</td> <td> 3.71e+04</td> <td>   -0.542</td> <td> 0.588</td> <td>-9.29e+04</td> <td> 5.27e+04</td>\n",
       "</tr>\n",
       "<tr>\n",
       "  <th>Foundation_Type_CB</th>         <td>-1.493e+04</td> <td> 3587.435</td> <td>   -4.162</td> <td> 0.000</td> <td> -2.2e+04</td> <td>-7890.126</td>\n",
       "</tr>\n",
       "<tr>\n",
       "  <th>Foundation_Type_S</th>          <td>-7176.1522</td> <td>  1.8e+04</td> <td>   -0.398</td> <td> 0.691</td> <td>-4.26e+04</td> <td> 2.82e+04</td>\n",
       "</tr>\n",
       "<tr>\n",
       "  <th>Foundation_Type_SL</th>         <td>-2.881e+04</td> <td> 1.04e+04</td> <td>   -2.765</td> <td> 0.006</td> <td>-4.93e+04</td> <td>-8364.093</td>\n",
       "</tr>\n",
       "<tr>\n",
       "  <th>Foundation_Type_W</th>          <td>-7.627e+04</td> <td> 3.77e+04</td> <td>   -2.021</td> <td> 0.044</td> <td> -1.5e+05</td> <td>-2215.270</td>\n",
       "</tr>\n",
       "<tr>\n",
       "  <th>Basement_Height_Fa</th>         <td>-1134.6932</td> <td> 8718.909</td> <td>   -0.130</td> <td> 0.896</td> <td>-1.82e+04</td> <td>  1.6e+04</td>\n",
       "</tr>\n",
       "<tr>\n",
       "  <th>Basement_Height_Gd</th>         <td>-5160.7644</td> <td> 3288.940</td> <td>   -1.569</td> <td> 0.117</td> <td>-1.16e+04</td> <td> 1293.912</td>\n",
       "</tr>\n",
       "<tr>\n",
       "  <th>Basement_Condition_Gd</th>      <td> 1.107e+04</td> <td> 5201.488</td> <td>    2.128</td> <td> 0.034</td> <td>  863.071</td> <td> 2.13e+04</td>\n",
       "</tr>\n",
       "<tr>\n",
       "  <th>Basement_Condition_Po</th>      <td>-6.348e+04</td> <td> 4.52e+04</td> <td>   -1.405</td> <td> 0.160</td> <td>-1.52e+05</td> <td> 2.52e+04</td>\n",
       "</tr>\n",
       "<tr>\n",
       "  <th>Exposure_Level_Gd</th>          <td> 3.426e+04</td> <td> 4452.873</td> <td>    7.694</td> <td> 0.000</td> <td> 2.55e+04</td> <td>  4.3e+04</td>\n",
       "</tr>\n",
       "<tr>\n",
       "  <th>Exposure_Level_Mn</th>          <td>  -97.4424</td> <td> 4311.960</td> <td>   -0.023</td> <td> 0.982</td> <td>-8559.838</td> <td> 8364.953</td>\n",
       "</tr>\n",
       "<tr>\n",
       "  <th>BsmtFinType1_BLQ</th>           <td>-1985.8348</td> <td> 4790.557</td> <td>   -0.415</td> <td> 0.679</td> <td>-1.14e+04</td> <td> 7415.827</td>\n",
       "</tr>\n",
       "<tr>\n",
       "  <th>BsmtFinType1_GLQ</th>           <td> 1.787e+04</td> <td> 4299.089</td> <td>    4.156</td> <td> 0.000</td> <td> 9429.817</td> <td> 2.63e+04</td>\n",
       "</tr>\n",
       "<tr>\n",
       "  <th>BsmtFinType1_LwQ</th>           <td> -655.3467</td> <td> 6513.797</td> <td>   -0.101</td> <td> 0.920</td> <td>-1.34e+04</td> <td> 1.21e+04</td>\n",
       "</tr>\n",
       "<tr>\n",
       "  <th>BsmtFinType1_Rec</th>           <td>-5963.8741</td> <td> 5146.148</td> <td>   -1.159</td> <td> 0.247</td> <td>-1.61e+04</td> <td> 4135.648</td>\n",
       "</tr>\n",
       "<tr>\n",
       "  <th>BsmtFinType1_Unf</th>           <td>-2891.3645</td> <td> 4375.976</td> <td>   -0.661</td> <td> 0.509</td> <td>-1.15e+04</td> <td> 5696.664</td>\n",
       "</tr>\n",
       "<tr>\n",
       "  <th>BsmtFinType2_BLQ</th>           <td>  321.1440</td> <td> 8057.885</td> <td>    0.040</td> <td> 0.968</td> <td>-1.55e+04</td> <td> 1.61e+04</td>\n",
       "</tr>\n",
       "<tr>\n",
       "  <th>BsmtFinType2_GLQ</th>           <td> 1.136e+04</td> <td> 1.32e+04</td> <td>    0.858</td> <td> 0.391</td> <td>-1.46e+04</td> <td> 3.74e+04</td>\n",
       "</tr>\n",
       "<tr>\n",
       "  <th>BsmtFinType2_LwQ</th>           <td>-4422.9721</td> <td> 7053.312</td> <td>   -0.627</td> <td> 0.531</td> <td>-1.83e+04</td> <td> 9419.438</td>\n",
       "</tr>\n",
       "<tr>\n",
       "  <th>BsmtFinType2_Rec</th>           <td>-1.059e+04</td> <td> 7570.515</td> <td>   -1.399</td> <td> 0.162</td> <td>-2.55e+04</td> <td> 4263.040</td>\n",
       "</tr>\n",
       "<tr>\n",
       "  <th>Heating_Type_GasW</th>          <td>  3.08e+04</td> <td> 1.21e+04</td> <td>    2.536</td> <td> 0.011</td> <td> 6962.911</td> <td> 5.46e+04</td>\n",
       "</tr>\n",
       "<tr>\n",
       "  <th>Heating_Type_OthW</th>          <td> 1.514e+04</td> <td> 2.79e+04</td> <td>    0.543</td> <td> 0.587</td> <td>-3.96e+04</td> <td> 6.99e+04</td>\n",
       "</tr>\n",
       "<tr>\n",
       "  <th>Heating_Type_Wall</th>          <td> 1.268e+04</td> <td> 2.29e+04</td> <td>    0.554</td> <td> 0.580</td> <td>-3.22e+04</td> <td> 5.76e+04</td>\n",
       "</tr>\n",
       "<tr>\n",
       "  <th>Heating_Quality_Fa</th>         <td>-2.132e+04</td> <td> 7474.089</td> <td>   -2.853</td> <td> 0.004</td> <td> -3.6e+04</td> <td>-6654.571</td>\n",
       "</tr>\n",
       "<tr>\n",
       "  <th>Heating_Quality_Gd</th>         <td>-1.097e+04</td> <td> 3594.593</td> <td>   -3.053</td> <td> 0.002</td> <td> -1.8e+04</td> <td>-3919.706</td>\n",
       "</tr>\n",
       "<tr>\n",
       "  <th>Heating_Quality_Po</th>         <td>-2.865e-12</td> <td> 3.05e-11</td> <td>   -0.094</td> <td> 0.925</td> <td>-6.27e-11</td> <td>  5.7e-11</td>\n",
       "</tr>\n",
       "<tr>\n",
       "  <th>Heating_Quality_TA</th>         <td>  -1.4e+04</td> <td> 3543.536</td> <td>   -3.951</td> <td> 0.000</td> <td> -2.1e+04</td> <td>-7046.182</td>\n",
       "</tr>\n",
       "<tr>\n",
       "  <th>Electrical_System_FuseF</th>    <td>-1.281e+04</td> <td> 9483.221</td> <td>   -1.351</td> <td> 0.177</td> <td>-3.14e+04</td> <td> 5798.590</td>\n",
       "</tr>\n",
       "<tr>\n",
       "  <th>Electrical_System_FuseP</th>    <td>  2.72e+04</td> <td> 3.46e+04</td> <td>    0.785</td> <td> 0.433</td> <td>-4.08e+04</td> <td> 9.52e+04</td>\n",
       "</tr>\n",
       "<tr>\n",
       "  <th>Electrical_System_Mix</th>      <td> 9.827e+04</td> <td> 6.72e+04</td> <td>    1.463</td> <td> 0.144</td> <td>-3.36e+04</td> <td>  2.3e+05</td>\n",
       "</tr>\n",
       "<tr>\n",
       "  <th>Kitchen_Quality_Fa</th>         <td>-8272.6603</td> <td> 8378.369</td> <td>   -0.987</td> <td> 0.324</td> <td>-2.47e+04</td> <td> 8170.227</td>\n",
       "</tr>\n",
       "<tr>\n",
       "  <th>Kitchen_Quality_Gd</th>         <td>-1442.2949</td> <td> 3170.148</td> <td>   -0.455</td> <td> 0.649</td> <td>-7663.839</td> <td> 4779.249</td>\n",
       "</tr>\n",
       "<tr>\n",
       "  <th>Functional_Rate_MD1</th>        <td>-1638.4780</td> <td> 7897.908</td> <td>   -0.207</td> <td> 0.836</td> <td>-1.71e+04</td> <td> 1.39e+04</td>\n",
       "</tr>\n",
       "<tr>\n",
       "  <th>Functional_Rate_MD2</th>        <td>-4853.3996</td> <td> 7695.940</td> <td>   -0.631</td> <td> 0.528</td> <td>   -2e+04</td> <td> 1.03e+04</td>\n",
       "</tr>\n",
       "<tr>\n",
       "  <th>Functional_Rate_MS</th>         <td>-6.257e-12</td> <td> 1.58e-11</td> <td>   -0.397</td> <td> 0.692</td> <td>-3.72e-11</td> <td> 2.47e-11</td>\n",
       "</tr>\n",
       "<tr>\n",
       "  <th>Functional_Rate_MajD1</th>      <td> 2.521e+04</td> <td> 1.27e+04</td> <td>    1.990</td> <td> 0.047</td> <td>  349.861</td> <td> 5.01e+04</td>\n",
       "</tr>\n",
       "<tr>\n",
       "  <th>Functional_Rate_MajD2</th>      <td>-4.412e+04</td> <td> 1.87e+04</td> <td>   -2.354</td> <td> 0.019</td> <td>-8.09e+04</td> <td>-7329.773</td>\n",
       "</tr>\n",
       "<tr>\n",
       "  <th>Functional_Rate_Mod</th>        <td> 1.108e-11</td> <td> 1.74e-11</td> <td>    0.638</td> <td> 0.524</td> <td> -2.3e-11</td> <td> 4.52e-11</td>\n",
       "</tr>\n",
       "<tr>\n",
       "  <th>Functional_Rate_SD</th>         <td>-1.935e-11</td> <td> 1.67e-11</td> <td>   -1.160</td> <td> 0.246</td> <td>-5.21e-11</td> <td> 1.34e-11</td>\n",
       "</tr>\n",
       "<tr>\n",
       "  <th>Functional_Rate_Sev</th>        <td> 9.089e-12</td> <td> 3.31e-11</td> <td>    0.275</td> <td> 0.784</td> <td>-5.59e-11</td> <td> 7.41e-11</td>\n",
       "</tr>\n",
       "<tr>\n",
       "  <th>Fireplace_Quality_Fa</th>       <td>-1.594e+04</td> <td> 7680.064</td> <td>   -2.075</td> <td> 0.038</td> <td> -3.1e+04</td> <td> -863.345</td>\n",
       "</tr>\n",
       "<tr>\n",
       "  <th>Fireplace_Quality_Po</th>       <td>-1.777e+04</td> <td> 9954.894</td> <td>   -1.785</td> <td> 0.075</td> <td>-3.73e+04</td> <td> 1767.791</td>\n",
       "</tr>\n",
       "<tr>\n",
       "  <th>Fireplace_Quality_TA</th>       <td>-1934.5726</td> <td> 3589.219</td> <td>   -0.539</td> <td> 0.590</td> <td>-8978.560</td> <td> 5109.415</td>\n",
       "</tr>\n",
       "<tr>\n",
       "  <th>Garage_2Types</th>              <td> -680.0497</td> <td> 4.08e+04</td> <td>   -0.017</td> <td> 0.987</td> <td>-8.08e+04</td> <td> 7.94e+04</td>\n",
       "</tr>\n",
       "<tr>\n",
       "  <th>Garage_Basment</th>             <td> 5268.5981</td> <td> 1.33e+04</td> <td>    0.397</td> <td> 0.691</td> <td>-2.08e+04</td> <td> 3.13e+04</td>\n",
       "</tr>\n",
       "<tr>\n",
       "  <th>Garage_BuiltIn</th>             <td> 1.407e+04</td> <td> 5057.283</td> <td>    2.782</td> <td> 0.006</td> <td> 4145.484</td> <td>  2.4e+04</td>\n",
       "</tr>\n",
       "<tr>\n",
       "  <th>Garage_CarPort</th>             <td>-2.185e+04</td> <td> 1.79e+04</td> <td>   -1.222</td> <td> 0.222</td> <td>-5.69e+04</td> <td> 1.32e+04</td>\n",
       "</tr>\n",
       "<tr>\n",
       "  <th>Garage_Detchd</th>              <td>-6866.0672</td> <td> 3403.275</td> <td>   -2.017</td> <td> 0.044</td> <td>-1.35e+04</td> <td> -187.004</td>\n",
       "</tr>\n",
       "<tr>\n",
       "  <th>Garage_Finish_Year_RFn</th>     <td>-2558.1571</td> <td> 2796.059</td> <td>   -0.915</td> <td> 0.360</td> <td>-8045.536</td> <td> 2929.222</td>\n",
       "</tr>\n",
       "<tr>\n",
       "  <th>Garage_Quality_Gd</th>          <td>  656.9314</td> <td> 1.54e+04</td> <td>    0.043</td> <td> 0.966</td> <td>-2.95e+04</td> <td> 3.08e+04</td>\n",
       "</tr>\n",
       "<tr>\n",
       "  <th>Garage_Quality_Po</th>          <td>-7675.7808</td> <td> 3.26e+04</td> <td>   -0.236</td> <td> 0.814</td> <td>-7.16e+04</td> <td> 5.62e+04</td>\n",
       "</tr>\n",
       "<tr>\n",
       "  <th>Garage_Condition_Fa</th>        <td>-1.112e+04</td> <td> 8558.384</td> <td>   -1.299</td> <td> 0.194</td> <td>-2.79e+04</td> <td> 5679.518</td>\n",
       "</tr>\n",
       "<tr>\n",
       "  <th>Garage_Condition_Gd</th>        <td>-5189.1280</td> <td> 1.53e+04</td> <td>   -0.339</td> <td> 0.734</td> <td>-3.52e+04</td> <td> 2.48e+04</td>\n",
       "</tr>\n",
       "<tr>\n",
       "  <th>Pavedd_Drive_P</th>             <td>-4285.6562</td> <td> 7591.871</td> <td>   -0.565</td> <td> 0.573</td> <td>-1.92e+04</td> <td> 1.06e+04</td>\n",
       "</tr>\n",
       "<tr>\n",
       "  <th>Pool_Quality_Fa</th>            <td>-2.749e+05</td> <td> 4.07e+04</td> <td>   -6.751</td> <td> 0.000</td> <td>-3.55e+05</td> <td>-1.95e+05</td>\n",
       "</tr>\n",
       "<tr>\n",
       "  <th>Pool_Quality_Gd</th>            <td> -2.14e+05</td> <td> 4.46e+04</td> <td>   -4.800</td> <td> 0.000</td> <td>-3.02e+05</td> <td>-1.27e+05</td>\n",
       "</tr>\n",
       "<tr>\n",
       "  <th>Fence_Quality_GdWo</th>         <td>-7844.8052</td> <td> 5984.876</td> <td>   -1.311</td> <td> 0.190</td> <td>-1.96e+04</td> <td> 3900.756</td>\n",
       "</tr>\n",
       "<tr>\n",
       "  <th>Fence_Quality_MnWw</th>         <td>-3143.0595</td> <td> 1.49e+04</td> <td>   -0.210</td> <td> 0.834</td> <td>-3.25e+04</td> <td> 2.62e+04</td>\n",
       "</tr>\n",
       "<tr>\n",
       "  <th>Miscellaneous_Feature_Othr</th> <td>-3270.2627</td> <td> 2.88e+04</td> <td>   -0.114</td> <td> 0.910</td> <td>-5.98e+04</td> <td> 5.32e+04</td>\n",
       "</tr>\n",
       "<tr>\n",
       "  <th>Sale_Type_CWD</th>              <td> 1.979e+04</td> <td> 2.64e+04</td> <td>    0.750</td> <td> 0.454</td> <td> -3.2e+04</td> <td> 7.16e+04</td>\n",
       "</tr>\n",
       "<tr>\n",
       "  <th>Sale_Type_Con</th>              <td>         0</td> <td>        0</td> <td>      nan</td> <td>   nan</td> <td>        0</td> <td>        0</td>\n",
       "</tr>\n",
       "<tr>\n",
       "  <th>Sale_Type_ConLD</th>            <td> 1.452e+04</td> <td> 1.42e+04</td> <td>    1.020</td> <td> 0.308</td> <td>-1.34e+04</td> <td> 4.25e+04</td>\n",
       "</tr>\n",
       "<tr>\n",
       "  <th>Sale_Type_ConLI</th>            <td> 1.768e+04</td> <td> 1.63e+04</td> <td>    1.088</td> <td> 0.277</td> <td>-1.42e+04</td> <td> 4.96e+04</td>\n",
       "</tr>\n",
       "<tr>\n",
       "  <th>Sale_Type_ConLw</th>            <td> -3.31e+04</td> <td>  1.9e+04</td> <td>   -1.739</td> <td> 0.082</td> <td>-7.05e+04</td> <td> 4250.866</td>\n",
       "</tr>\n",
       "<tr>\n",
       "  <th>Sale_Type_New</th>              <td> 2.728e+04</td> <td> 4607.106</td> <td>    5.922</td> <td> 0.000</td> <td> 1.82e+04</td> <td> 3.63e+04</td>\n",
       "</tr>\n",
       "<tr>\n",
       "  <th>Sale_Type_Oth</th>              <td>-9335.8436</td> <td>  2.1e+04</td> <td>   -0.444</td> <td> 0.657</td> <td>-5.06e+04</td> <td> 3.19e+04</td>\n",
       "</tr>\n",
       "<tr>\n",
       "  <th>Sale_Condition_Abnorml</th>     <td>-1.308e+04</td> <td> 4894.783</td> <td>   -2.673</td> <td> 0.008</td> <td>-2.27e+04</td> <td>-3477.374</td>\n",
       "</tr>\n",
       "<tr>\n",
       "  <th>Sale_Condition_AdjLand</th>     <td>-2.108e+04</td> <td> 2.19e+04</td> <td>   -0.964</td> <td> 0.335</td> <td> -6.4e+04</td> <td> 2.18e+04</td>\n",
       "</tr>\n",
       "<tr>\n",
       "  <th>Sale_Condition_Alloca</th>      <td> -102.4920</td> <td> 1.26e+04</td> <td>   -0.008</td> <td> 0.993</td> <td>-2.48e+04</td> <td> 2.46e+04</td>\n",
       "</tr>\n",
       "<tr>\n",
       "  <th>Sale_Condition_Family</th>      <td>-9255.2671</td> <td> 8793.437</td> <td>   -1.053</td> <td> 0.293</td> <td>-2.65e+04</td> <td> 8002.207</td>\n",
       "</tr>\n",
       "<tr>\n",
       "  <th>Sale_Condition_NoRMDal</th>     <td>         0</td> <td>        0</td> <td>      nan</td> <td>   nan</td> <td>        0</td> <td>        0</td>\n",
       "</tr>\n",
       "</table>\n",
       "<table class=\"simpletable\">\n",
       "<tr>\n",
       "  <th>Omnibus:</th>       <td>177.250</td> <th>  Durbin-Watson:     </th> <td>   2.028</td> \n",
       "</tr>\n",
       "<tr>\n",
       "  <th>Prob(Omnibus):</th> <td> 0.000</td>  <th>  Jarque-Bera (JB):  </th> <td> 657.432</td> \n",
       "</tr>\n",
       "<tr>\n",
       "  <th>Skew:</th>          <td> 0.744</td>  <th>  Prob(JB):          </th> <td>1.74e-143</td>\n",
       "</tr>\n",
       "<tr>\n",
       "  <th>Kurtosis:</th>      <td> 6.494</td>  <th>  Cond. No.          </th> <td>2.51e+18</td> \n",
       "</tr>\n",
       "</table><br/><br/>Notes:<br/>[1] Standard Errors assume that the covariance matrix of the errors is correctly specified.<br/>[2] The smallest eigenvalue is 8.63e-30. This might indicate that there are<br/>strong multicollinearity problems or that the design matrix is singular."
      ],
      "text/plain": [
       "<class 'statsmodels.iolib.summary.Summary'>\n",
       "\"\"\"\n",
       "                            OLS Regression Results                            \n",
       "==============================================================================\n",
       "Dep. Variable:             Sale_Price   R-squared:                       0.832\n",
       "Model:                            OLS   Adj. R-squared:                  0.801\n",
       "Method:                 Least Squares   F-statistic:                     26.71\n",
       "Date:                Wed, 13 Jul 2022   Prob (F-statistic):          7.83e-264\n",
       "Time:                        20:07:38   Log-Likelihood:                -12880.\n",
       "No. Observations:                1094   AIC:                         2.610e+04\n",
       "Df Residuals:                     922   BIC:                         2.696e+04\n",
       "Df Model:                         171                                         \n",
       "Covariance Type:            nonrobust                                         \n",
       "==============================================================================================\n",
       "                                 coef    std err          t      P>|t|      [0.025      0.975]\n",
       "----------------------------------------------------------------------------------------------\n",
       "const                       1.601e+05   6955.941     23.011      0.000    1.46e+05    1.74e+05\n",
       "Brick_Veneer_Area             38.9405      9.603      4.055      0.000      20.095      57.786\n",
       "BsmtFinSF2                    18.3042     10.325      1.773      0.077      -1.958      38.567\n",
       "LowQualFinSF                 -55.0019     32.929     -1.670      0.095    -119.626       9.623\n",
       "Underground_Full_Bathroom   2946.2442   3001.562      0.982      0.327   -2944.442    8836.930\n",
       "Underground_Half_Bathroom  -1118.4452   5115.925     -0.219      0.827   -1.12e+04    8921.764\n",
       "Half_Bathroom_Above_Grade   1.189e+04   3175.850      3.745      0.000    5660.048    1.81e+04\n",
       "Fireplaces                  1.874e+04   2434.424      7.700      0.000     1.4e+04    2.35e+04\n",
       "W_Deck_Area                    7.8051      8.998      0.867      0.386      -9.854      25.464\n",
       "Open_Lobby_Area              -17.8244     16.735     -1.065      0.287     -50.668      15.019\n",
       "Enclosed_Lobby_Area           30.4854     18.188      1.676      0.094      -5.210      66.181\n",
       "Three_Season_Lobby_Area       93.2162     37.922      2.458      0.014      18.793     167.640\n",
       "Screen_Lobby_Area             32.2010     21.708      1.483      0.138     -10.401      74.803\n",
       "Pool_Area                    505.0782     52.001      9.713      0.000     403.023     607.133\n",
       "Miscellaneous_Value            8.6789      6.534      1.328      0.184      -4.144      21.502\n",
       "Zoning_Class_FVR            2.567e+04   7711.391      3.329      0.001    1.05e+04    4.08e+04\n",
       "Zoning_Class_RHD            3188.7225   1.14e+04      0.281      0.779   -1.91e+04    2.55e+04\n",
       "Lane_Type_Paved             2774.1687   8592.997      0.323      0.747   -1.41e+04    1.96e+04\n",
       "Property_Shape_IR2          9274.8849   7838.030      1.183      0.237   -6107.565    2.47e+04\n",
       "Property_Shape_IR3          1.436e+04   1.42e+04      1.013      0.311   -1.35e+04    4.22e+04\n",
       "Property_Shape_Reg          -987.7025   2790.838     -0.354      0.723   -6464.835    4489.430\n",
       "Land_Outline_HLS            1.075e+04   7119.379      1.510      0.131   -3222.501    2.47e+04\n",
       "Land_Outline_Low             921.3965   1.01e+04      0.091      0.927   -1.89e+04    2.07e+04\n",
       "Utility_Type_NoSeWa        -5.628e+04   3.98e+04     -1.415      0.157   -1.34e+05    2.18e+04\n",
       "Lot_Configuration_CulDSac   1.293e+04   5125.257      2.523      0.012    2870.121     2.3e+04\n",
       "Lot_Configuration_FR2P     -1.011e+04   5914.433     -1.710      0.088   -2.17e+04    1495.387\n",
       "Lot_Configuration_FR3P     -1.897e+04   2.15e+04     -0.881      0.379   -6.12e+04    2.33e+04\n",
       "Property_Slope_MS            236.3213   6878.369      0.034      0.973   -1.33e+04    1.37e+04\n",
       "Property_Slope_SS          -3.921e+04   1.71e+04     -2.289      0.022   -7.28e+04   -5599.017\n",
       "Neighborhood_Blueste        2.261e+04   2.65e+04      0.853      0.394   -2.94e+04    7.46e+04\n",
       "Neighborhood_BrDale         3895.3595   1.41e+04      0.276      0.783   -2.38e+04    3.16e+04\n",
       "Neighborhood_BrkSide       -1.195e+04   7321.703     -1.632      0.103   -2.63e+04    2419.101\n",
       "Neighborhood_ClearCr        2.364e+04      1e+04      2.358      0.019    3962.923    4.33e+04\n",
       "Neighborhood_CollgCr        7053.2378   5314.162      1.327      0.185   -3376.019    1.75e+04\n",
       "Neighborhood_Crawfor        2.916e+04   7495.598      3.891      0.000    1.45e+04    4.39e+04\n",
       "Neighborhood_Edwards       -1.544e+04   5651.577     -2.732      0.006   -2.65e+04   -4351.281\n",
       "Neighborhood_Gilbert       -1.085e+04   6808.271     -1.594      0.111   -2.42e+04    2508.755\n",
       "Neighborhood_IDOTRR        -2.601e+04   7862.242     -3.308      0.001   -4.14e+04   -1.06e+04\n",
       "Neighborhood_MeadowV       -3.092e+04   1.33e+04     -2.333      0.020   -5.69e+04   -4907.410\n",
       "Neighborhood_Mitchel       -5740.6036   7338.451     -0.782      0.434   -2.01e+04    8661.402\n",
       "Neighborhood_NPkVill        5.367e+04   2.19e+04      2.456      0.014    1.08e+04    9.66e+04\n",
       "Neighborhood_NWAmes         1.587e+04   6178.830      2.568      0.010    3744.003     2.8e+04\n",
       "Neighborhood_NoRidge        7.966e+04   8358.652      9.530      0.000    6.33e+04    9.61e+04\n",
       "Neighborhood_NridgHt        7.607e+04   6484.752     11.731      0.000    6.33e+04    8.88e+04\n",
       "Neighborhood_OldTown       -1.834e+04   6225.158     -2.946      0.003   -3.06e+04   -6119.879\n",
       "Neighborhood_SWISU         -1383.6459   1.03e+04     -0.135      0.893   -2.16e+04    1.88e+04\n",
       "Neighborhood_Sawyer        -3791.9448   5910.951     -0.642      0.521   -1.54e+04    7808.535\n",
       "Neighborhood_SawyerW        1.743e+04   7148.474      2.438      0.015    3399.428    3.15e+04\n",
       "Neighborhood_StoneBr        1.007e+05    1.1e+04      9.187      0.000    7.92e+04    1.22e+05\n",
       "Neighborhood_Timber         1.889e+04   8193.247      2.306      0.021    2811.383     3.5e+04\n",
       "Neighborhood_Veenker        3.334e+04   1.38e+04      2.421      0.016    6315.771    6.04e+04\n",
       "Condition1_Feedr           -1.125e+04   5209.473     -2.160      0.031   -2.15e+04   -1026.159\n",
       "Condition1_NoRMD            1.913e-09   1.54e-09      1.246      0.213    -1.1e-09    4.93e-09\n",
       "Condition1_PosA             2.973e+04    1.4e+04      2.126      0.034    2290.335    5.72e+04\n",
       "Condition1_PosN              599.2864   1.14e+04      0.053      0.958   -2.18e+04     2.3e+04\n",
       "Condition1_RRAe             -2.22e+04   1.44e+04     -1.543      0.123   -5.04e+04    6042.208\n",
       "Condition1_RRAn            -1.399e+04   8939.863     -1.565      0.118   -3.15e+04    3554.132\n",
       "Condition1_RRNe            -2.185e+04   2.59e+04     -0.842      0.400   -7.28e+04    2.91e+04\n",
       "Condition1_RRNn             1.705e+04   1.76e+04      0.968      0.333   -1.75e+04    5.16e+04\n",
       "Condition2_NoRMD            1.589e-10   1.45e-10      1.096      0.273   -1.26e-10    4.43e-10\n",
       "Condition2_PosA             1.974e+05   4.11e+04      4.806      0.000    1.17e+05    2.78e+05\n",
       "Condition2_PosN            -1.923e+05   3.81e+04     -5.042      0.000   -2.67e+05   -1.17e+05\n",
       "Condition2_RRAe            -6.986e-11   2.73e-10     -0.255      0.798   -6.07e-10    4.67e-10\n",
       "Condition2_RRAn             9285.5928   3.68e+04      0.253      0.801   -6.29e+04    8.14e+04\n",
       "Condition2_RRNn            -2.986e+04   3.68e+04     -0.811      0.418   -1.02e+05    4.24e+04\n",
       "House_Type_2fmCon          -8579.7703   8653.682     -0.991      0.322   -2.56e+04    8403.430\n",
       "House_Type_Duplex           -295.9808   7500.513     -0.039      0.969    -1.5e+04    1.44e+04\n",
       "House_Type_Twnhs           -5.585e+04   8693.717     -6.424      0.000   -7.29e+04   -3.88e+04\n",
       "House_Type_TwnhsE          -4.882e+04   5231.073     -9.332      0.000   -5.91e+04   -3.86e+04\n",
       "House_Design_1.5Unf        -1.001e+04   1.45e+04     -0.688      0.491   -3.86e+04    1.85e+04\n",
       "House_Design_2.5Fin         5.073e+04   1.83e+04      2.780      0.006    1.49e+04    8.65e+04\n",
       "House_Design_2.5Unf        -9955.1576   1.61e+04     -0.619      0.536   -4.15e+04    2.16e+04\n",
       "House_Design_2Story         8980.1887   3694.130      2.431      0.015    1730.311    1.62e+04\n",
       "House_Design_SFoyer        -1.536e+04   7168.370     -2.143      0.032   -2.94e+04   -1291.947\n",
       "House_Design_SLvl          -9984.0360   6133.565     -1.628      0.104    -2.2e+04    2053.333\n",
       "Roof_Design_Gambrel          1.51e+04   1.32e+04      1.143      0.253   -1.08e+04     4.1e+04\n",
       "Roof_Design_Hip             1.657e+04   3171.532      5.224      0.000    1.03e+04    2.28e+04\n",
       "Roof_Design_Mansard        -1.244e+04   2.04e+04     -0.609      0.542   -5.25e+04    2.76e+04\n",
       "Roof_Design_Shed            2.887e+04   5.34e+04      0.541      0.589   -7.59e+04    1.34e+05\n",
       "Roof_Quality_M              1084.4535   4.11e+04      0.026      0.979   -7.96e+04    8.18e+04\n",
       "Roof_Quality_ME            -3.514e+04   3.97e+04     -0.884      0.377   -1.13e+05    4.28e+04\n",
       "Roof_Quality_R             -1.306e+04   3.74e+04     -0.349      0.727   -8.65e+04    6.04e+04\n",
       "Roof_Quality_TG            -2.387e+04   1.68e+04     -1.422      0.155   -5.68e+04    9070.347\n",
       "Roof_Quality_WS             1.741e+04   3.64e+04      0.479      0.632    -5.4e+04    8.88e+04\n",
       "Exterior1st_AsphShn        -1.778e+04   4.59e+04     -0.387      0.699   -1.08e+05    7.24e+04\n",
       "Exterior1st_BrkComm         5.584e+04   5.41e+04      1.032      0.303   -5.04e+04    1.62e+05\n",
       "Exterior1st_BrkFace         3.531e+04   8345.532      4.231      0.000    1.89e+04    5.17e+04\n",
       "Exterior1st_CB             -1.694e-10   1.04e-10     -1.635      0.102   -3.73e-10    3.39e-11\n",
       "Exterior1st_CemntBd         2.958e+04   6696.421      4.417      0.000    1.64e+04    4.27e+04\n",
       "Exterior1st_ImStucc         2928.9723   3.84e+04      0.076      0.939   -7.25e+04    7.84e+04\n",
       "Exterior1st_MetalSd        -4448.9445   4063.145     -1.095      0.274   -1.24e+04    3525.142\n",
       "Exterior1st_Plywood         2.008e+04   7268.476      2.762      0.006    5813.568    3.43e+04\n",
       "Exterior1st_Stone           5.931e+04   4.72e+04      1.257      0.209   -3.33e+04    1.52e+05\n",
       "Exterior1st_Stucco          1.944e+04   1.58e+04      1.227      0.220   -1.17e+04    5.05e+04\n",
       "Exterior1st_WdShing         1.147e+04   1.05e+04      1.092      0.275   -9142.123    3.21e+04\n",
       "Exterior2nd_AsphShn        -1.068e+04   2.87e+04     -0.373      0.710   -6.69e+04    4.56e+04\n",
       "Exterior2nd_Brk Cmn        -2.791e+04   3.06e+04     -0.912      0.362    -8.8e+04    3.22e+04\n",
       "Exterior2nd_BrkFace        -2.736e+04   1.17e+04     -2.332      0.020   -5.04e+04   -4338.463\n",
       "Exterior2nd_CBlock         -4772.5616   3.96e+04     -0.121      0.904   -8.24e+04    7.29e+04\n",
       "Exterior2nd_HdBoard        -1.082e+04   4260.577     -2.540      0.011   -1.92e+04   -2459.953\n",
       "Exterior2nd_ImStucc         2790.3412   1.42e+04      0.196      0.845   -2.52e+04    3.07e+04\n",
       "Exterior2nd_Other            7.54e-11   6.31e-11      1.194      0.233   -4.85e-11    1.99e-10\n",
       "Exterior2nd_Plywood        -2.216e+04   6679.752     -3.317      0.001   -3.53e+04   -9050.648\n",
       "Exterior2nd_Stone          -5.032e+04    2.9e+04     -1.734      0.083   -1.07e+05    6633.984\n",
       "Exterior2nd_Stucco         -5.762e+04    1.6e+04     -3.605      0.000    -8.9e+04   -2.63e+04\n",
       "Exterior2nd_Wd Sdng        -1.306e+04   4284.911     -3.049      0.002   -2.15e+04   -4653.818\n",
       "Exterior2nd_Wd Shng        -2.398e+04   8998.996     -2.664      0.008   -4.16e+04   -6314.847\n",
       "Brick_Veneer_Type_BrkFace   2584.4839   3671.459      0.704      0.482   -4620.903    9789.871\n",
       "Brick_Veneer_Type_Stone     2.107e+04   5212.607      4.041      0.000    1.08e+04    3.13e+04\n",
       "Exterior_Material_Fa       -1.329e+04   1.67e+04     -0.796      0.426   -4.61e+04    1.95e+04\n",
       "Exterior_Material_Gd        3133.1022   3744.173      0.837      0.403   -4214.988    1.05e+04\n",
       "Exterior_Condition_Fa      -1.251e+04   1.04e+04     -1.202      0.230   -3.29e+04    7913.484\n",
       "Exterior_Condition_Gd      -3446.8335   3961.863     -0.870      0.385   -1.12e+04    4328.482\n",
       "Exterior_Condition_Po      -2.009e+04   3.71e+04     -0.542      0.588   -9.29e+04    5.27e+04\n",
       "Foundation_Type_CB         -1.493e+04   3587.435     -4.162      0.000    -2.2e+04   -7890.126\n",
       "Foundation_Type_S          -7176.1522    1.8e+04     -0.398      0.691   -4.26e+04    2.82e+04\n",
       "Foundation_Type_SL         -2.881e+04   1.04e+04     -2.765      0.006   -4.93e+04   -8364.093\n",
       "Foundation_Type_W          -7.627e+04   3.77e+04     -2.021      0.044    -1.5e+05   -2215.270\n",
       "Basement_Height_Fa         -1134.6932   8718.909     -0.130      0.896   -1.82e+04     1.6e+04\n",
       "Basement_Height_Gd         -5160.7644   3288.940     -1.569      0.117   -1.16e+04    1293.912\n",
       "Basement_Condition_Gd       1.107e+04   5201.488      2.128      0.034     863.071    2.13e+04\n",
       "Basement_Condition_Po      -6.348e+04   4.52e+04     -1.405      0.160   -1.52e+05    2.52e+04\n",
       "Exposure_Level_Gd           3.426e+04   4452.873      7.694      0.000    2.55e+04     4.3e+04\n",
       "Exposure_Level_Mn            -97.4424   4311.960     -0.023      0.982   -8559.838    8364.953\n",
       "BsmtFinType1_BLQ           -1985.8348   4790.557     -0.415      0.679   -1.14e+04    7415.827\n",
       "BsmtFinType1_GLQ            1.787e+04   4299.089      4.156      0.000    9429.817    2.63e+04\n",
       "BsmtFinType1_LwQ            -655.3467   6513.797     -0.101      0.920   -1.34e+04    1.21e+04\n",
       "BsmtFinType1_Rec           -5963.8741   5146.148     -1.159      0.247   -1.61e+04    4135.648\n",
       "BsmtFinType1_Unf           -2891.3645   4375.976     -0.661      0.509   -1.15e+04    5696.664\n",
       "BsmtFinType2_BLQ             321.1440   8057.885      0.040      0.968   -1.55e+04    1.61e+04\n",
       "BsmtFinType2_GLQ            1.136e+04   1.32e+04      0.858      0.391   -1.46e+04    3.74e+04\n",
       "BsmtFinType2_LwQ           -4422.9721   7053.312     -0.627      0.531   -1.83e+04    9419.438\n",
       "BsmtFinType2_Rec           -1.059e+04   7570.515     -1.399      0.162   -2.55e+04    4263.040\n",
       "Heating_Type_GasW            3.08e+04   1.21e+04      2.536      0.011    6962.911    5.46e+04\n",
       "Heating_Type_OthW           1.514e+04   2.79e+04      0.543      0.587   -3.96e+04    6.99e+04\n",
       "Heating_Type_Wall           1.268e+04   2.29e+04      0.554      0.580   -3.22e+04    5.76e+04\n",
       "Heating_Quality_Fa         -2.132e+04   7474.089     -2.853      0.004    -3.6e+04   -6654.571\n",
       "Heating_Quality_Gd         -1.097e+04   3594.593     -3.053      0.002    -1.8e+04   -3919.706\n",
       "Heating_Quality_Po         -2.865e-12   3.05e-11     -0.094      0.925   -6.27e-11     5.7e-11\n",
       "Heating_Quality_TA           -1.4e+04   3543.536     -3.951      0.000    -2.1e+04   -7046.182\n",
       "Electrical_System_FuseF    -1.281e+04   9483.221     -1.351      0.177   -3.14e+04    5798.590\n",
       "Electrical_System_FuseP      2.72e+04   3.46e+04      0.785      0.433   -4.08e+04    9.52e+04\n",
       "Electrical_System_Mix       9.827e+04   6.72e+04      1.463      0.144   -3.36e+04     2.3e+05\n",
       "Kitchen_Quality_Fa         -8272.6603   8378.369     -0.987      0.324   -2.47e+04    8170.227\n",
       "Kitchen_Quality_Gd         -1442.2949   3170.148     -0.455      0.649   -7663.839    4779.249\n",
       "Functional_Rate_MD1        -1638.4780   7897.908     -0.207      0.836   -1.71e+04    1.39e+04\n",
       "Functional_Rate_MD2        -4853.3996   7695.940     -0.631      0.528      -2e+04    1.03e+04\n",
       "Functional_Rate_MS         -6.257e-12   1.58e-11     -0.397      0.692   -3.72e-11    2.47e-11\n",
       "Functional_Rate_MajD1       2.521e+04   1.27e+04      1.990      0.047     349.861    5.01e+04\n",
       "Functional_Rate_MajD2      -4.412e+04   1.87e+04     -2.354      0.019   -8.09e+04   -7329.773\n",
       "Functional_Rate_Mod         1.108e-11   1.74e-11      0.638      0.524    -2.3e-11    4.52e-11\n",
       "Functional_Rate_SD         -1.935e-11   1.67e-11     -1.160      0.246   -5.21e-11    1.34e-11\n",
       "Functional_Rate_Sev         9.089e-12   3.31e-11      0.275      0.784   -5.59e-11    7.41e-11\n",
       "Fireplace_Quality_Fa       -1.594e+04   7680.064     -2.075      0.038    -3.1e+04    -863.345\n",
       "Fireplace_Quality_Po       -1.777e+04   9954.894     -1.785      0.075   -3.73e+04    1767.791\n",
       "Fireplace_Quality_TA       -1934.5726   3589.219     -0.539      0.590   -8978.560    5109.415\n",
       "Garage_2Types               -680.0497   4.08e+04     -0.017      0.987   -8.08e+04    7.94e+04\n",
       "Garage_Basment              5268.5981   1.33e+04      0.397      0.691   -2.08e+04    3.13e+04\n",
       "Garage_BuiltIn              1.407e+04   5057.283      2.782      0.006    4145.484     2.4e+04\n",
       "Garage_CarPort             -2.185e+04   1.79e+04     -1.222      0.222   -5.69e+04    1.32e+04\n",
       "Garage_Detchd              -6866.0672   3403.275     -2.017      0.044   -1.35e+04    -187.004\n",
       "Garage_Finish_Year_RFn     -2558.1571   2796.059     -0.915      0.360   -8045.536    2929.222\n",
       "Garage_Quality_Gd            656.9314   1.54e+04      0.043      0.966   -2.95e+04    3.08e+04\n",
       "Garage_Quality_Po          -7675.7808   3.26e+04     -0.236      0.814   -7.16e+04    5.62e+04\n",
       "Garage_Condition_Fa        -1.112e+04   8558.384     -1.299      0.194   -2.79e+04    5679.518\n",
       "Garage_Condition_Gd        -5189.1280   1.53e+04     -0.339      0.734   -3.52e+04    2.48e+04\n",
       "Pavedd_Drive_P             -4285.6562   7591.871     -0.565      0.573   -1.92e+04    1.06e+04\n",
       "Pool_Quality_Fa            -2.749e+05   4.07e+04     -6.751      0.000   -3.55e+05   -1.95e+05\n",
       "Pool_Quality_Gd             -2.14e+05   4.46e+04     -4.800      0.000   -3.02e+05   -1.27e+05\n",
       "Fence_Quality_GdWo         -7844.8052   5984.876     -1.311      0.190   -1.96e+04    3900.756\n",
       "Fence_Quality_MnWw         -3143.0595   1.49e+04     -0.210      0.834   -3.25e+04    2.62e+04\n",
       "Miscellaneous_Feature_Othr -3270.2627   2.88e+04     -0.114      0.910   -5.98e+04    5.32e+04\n",
       "Sale_Type_CWD               1.979e+04   2.64e+04      0.750      0.454    -3.2e+04    7.16e+04\n",
       "Sale_Type_Con                       0          0        nan        nan           0           0\n",
       "Sale_Type_ConLD             1.452e+04   1.42e+04      1.020      0.308   -1.34e+04    4.25e+04\n",
       "Sale_Type_ConLI             1.768e+04   1.63e+04      1.088      0.277   -1.42e+04    4.96e+04\n",
       "Sale_Type_ConLw             -3.31e+04    1.9e+04     -1.739      0.082   -7.05e+04    4250.866\n",
       "Sale_Type_New               2.728e+04   4607.106      5.922      0.000    1.82e+04    3.63e+04\n",
       "Sale_Type_Oth              -9335.8436    2.1e+04     -0.444      0.657   -5.06e+04    3.19e+04\n",
       "Sale_Condition_Abnorml     -1.308e+04   4894.783     -2.673      0.008   -2.27e+04   -3477.374\n",
       "Sale_Condition_AdjLand     -2.108e+04   2.19e+04     -0.964      0.335    -6.4e+04    2.18e+04\n",
       "Sale_Condition_Alloca       -102.4920   1.26e+04     -0.008      0.993   -2.48e+04    2.46e+04\n",
       "Sale_Condition_Family      -9255.2671   8793.437     -1.053      0.293   -2.65e+04    8002.207\n",
       "Sale_Condition_NoRMDal              0          0        nan        nan           0           0\n",
       "==============================================================================\n",
       "Omnibus:                      177.250   Durbin-Watson:                   2.028\n",
       "Prob(Omnibus):                  0.000   Jarque-Bera (JB):              657.432\n",
       "Skew:                           0.744   Prob(JB):                    1.74e-143\n",
       "Kurtosis:                       6.494   Cond. No.                     2.51e+18\n",
       "==============================================================================\n",
       "\n",
       "Notes:\n",
       "[1] Standard Errors assume that the covariance matrix of the errors is correctly specified.\n",
       "[2] The smallest eigenvalue is 8.63e-30. This might indicate that there are\n",
       "strong multicollinearity problems or that the design matrix is singular.\n",
       "\"\"\""
      ]
     },
     "execution_count": 38,
     "metadata": {},
     "output_type": "execute_result"
    }
   ],
   "source": [
    "m1ModelDef = OLS(trainY, trainX) # (Dep_Var, Indep_Vars) # This is model definition\n",
    "m1ModelBuild = m1ModelDef.fit() # This is model building\n",
    "m1ModelBuild.summary() "
   ]
  },
  {
   "cell_type": "code",
   "execution_count": 39,
   "id": "4ec6b404",
   "metadata": {},
   "outputs": [
    {
     "data": {
      "text/plain": [
       "const                         6.026547e-93\n",
       "Brick_Veneer_Area             5.434206e-05\n",
       "BsmtFinSF2                    7.658309e-02\n",
       "LowQualFinSF                  9.519581e-02\n",
       "Underground_Full_Bathroom     3.265690e-01\n",
       "Underground_Half_Bathroom     8.269942e-01\n",
       "Half_Bathroom_Above_Grade     1.917671e-04\n",
       "Fireplaces                    3.502456e-14\n",
       "W_Deck_Area                   3.859404e-01\n",
       "Open_Lobby_Area               2.871168e-01\n",
       "Enclosed_Lobby_Area           9.406064e-02\n",
       "Three_Season_Lobby_Area       1.415032e-02\n",
       "Screen_Lobby_Area             1.383118e-01\n",
       "Pool_Area                     2.676219e-21\n",
       "Miscellaneous_Value           1.844079e-01\n",
       "Zoning_Class_FVR              9.047264e-04\n",
       "Zoning_Class_RHD              7.790971e-01\n",
       "Lane_Type_Paved               7.468891e-01\n",
       "Property_Shape_IR2            2.369880e-01\n",
       "Property_Shape_IR3            3.113716e-01\n",
       "Property_Shape_Reg            7.234881e-01\n",
       "Land_Outline_HLS              1.314109e-01\n",
       "Land_Outline_Low              9.273137e-01\n",
       "Utility_Type_NoSeWa           1.573531e-01\n",
       "Lot_Configuration_CulDSac     1.181851e-02\n",
       "Lot_Configuration_FR2P        8.765721e-02\n",
       "Lot_Configuration_FR3P        3.785887e-01\n",
       "Property_Slope_MS             9.725998e-01\n",
       "Property_Slope_SS             2.227970e-02\n",
       "Neighborhood_Blueste          3.938793e-01\n",
       "Neighborhood_BrDale           7.827094e-01\n",
       "Neighborhood_BrkSide          1.029917e-01\n",
       "Neighborhood_ClearCr          1.859103e-02\n",
       "Neighborhood_CollgCr          1.847536e-01\n",
       "Neighborhood_Crawfor          1.071246e-04\n",
       "Neighborhood_Edwards          6.406483e-03\n",
       "Neighborhood_Gilbert          1.112667e-01\n",
       "Neighborhood_IDOTRR           9.751420e-04\n",
       "Neighborhood_MeadowV          1.987315e-02\n",
       "Neighborhood_Mitchel          4.342605e-01\n",
       "Neighborhood_NPkVill          1.423114e-02\n",
       "Neighborhood_NWAmes           1.037095e-02\n",
       "Neighborhood_NoRidge          1.346998e-20\n",
       "Neighborhood_NridgHt          1.013039e-29\n",
       "Neighborhood_OldTown          3.304039e-03\n",
       "Neighborhood_SWISU            8.929653e-01\n",
       "Neighborhood_Sawyer           5.213497e-01\n",
       "Neighborhood_SawyerW          1.495319e-02\n",
       "Neighborhood_StoneBr          2.616721e-19\n",
       "Neighborhood_Timber           2.134999e-02\n",
       "Neighborhood_Veenker          1.566271e-02\n",
       "Condition1_Feedr              3.106711e-02\n",
       "Condition1_NoRMD              2.132422e-01\n",
       "Condition1_PosA               3.373826e-02\n",
       "Condition1_PosN               9.581043e-01\n",
       "Condition1_RRAe               1.232520e-01\n",
       "Condition1_RRAn               1.179307e-01\n",
       "Condition1_RRNe               4.000007e-01\n",
       "Condition1_RRNn               3.334799e-01\n",
       "Condition2_NoRMD              2.732674e-01\n",
       "Condition2_PosA               1.800106e-06\n",
       "Condition2_PosN               5.556636e-07\n",
       "Condition2_RRAe               7.984037e-01\n",
       "Condition2_RRAn               8.006136e-01\n",
       "Condition2_RRNn               4.178315e-01\n",
       "House_Type_2fmCon             3.217217e-01\n",
       "House_Type_Duplex             9.685311e-01\n",
       "House_Type_Twnhs              2.125083e-10\n",
       "House_Type_TwnhsE             7.509871e-20\n",
       "House_Design_1.5Unf           4.914217e-01\n",
       "House_Design_2.5Fin           5.553436e-03\n",
       "House_Design_2.5Unf           5.361921e-01\n",
       "House_Design_2Story           1.524964e-02\n",
       "House_Design_SFoyer           3.239289e-02\n",
       "House_Design_SLvl             1.039152e-01\n",
       "Roof_Design_Gambrel           2.534741e-01\n",
       "Roof_Design_Hip               2.169969e-07\n",
       "Roof_Design_Mansard           5.424142e-01\n",
       "Roof_Design_Shed              5.886531e-01\n",
       "Roof_Quality_M                9.789582e-01\n",
       "Roof_Quality_ME               3.766906e-01\n",
       "Roof_Quality_R                7.272516e-01\n",
       "Roof_Quality_TG               1.553460e-01\n",
       "Roof_Quality_WS               6.322670e-01\n",
       "Exterior1st_AsphShn           6.988152e-01\n",
       "Exterior1st_BrkComm           3.025161e-01\n",
       "Exterior1st_BrkFace           2.556822e-05\n",
       "Exterior1st_CB                1.023696e-01\n",
       "Exterior1st_CemntBd           1.118033e-05\n",
       "Exterior1st_ImStucc           9.392901e-01\n",
       "Exterior1st_MetalSd           2.738241e-01\n",
       "Exterior1st_Plywood           5.852436e-03\n",
       "Exterior1st_Stone             2.090841e-01\n",
       "Exterior1st_Stucco            2.201468e-01\n",
       "Exterior1st_WdShing           2.750164e-01\n",
       "Exterior2nd_AsphShn           7.095119e-01\n",
       "Exterior2nd_Brk Cmn           3.622185e-01\n",
       "Exterior2nd_BrkFace           1.989628e-02\n",
       "Exterior2nd_CBlock            9.040381e-01\n",
       "Exterior2nd_HdBoard           1.125107e-02\n",
       "Exterior2nd_ImStucc           8.446668e-01\n",
       "Exterior2nd_Other             2.326573e-01\n",
       "Exterior2nd_Plywood           9.438656e-04\n",
       "Exterior2nd_Stone             8.326068e-02\n",
       "Exterior2nd_Stucco            3.288264e-04\n",
       "Exterior2nd_Wd Sdng           2.364449e-03\n",
       "Exterior2nd_Wd Shng           7.850308e-03\n",
       "Brick_Veneer_Type_BrkFace     4.816484e-01\n",
       "Brick_Veneer_Type_Stone       5.757548e-05\n",
       "Exterior_Material_Fa          4.262906e-01\n",
       "Exterior_Material_Gd          4.029251e-01\n",
       "Exterior_Condition_Fa         2.296507e-01\n",
       "Exterior_Condition_Gd         3.845251e-01\n",
       "Exterior_Condition_Po         5.879566e-01\n",
       "Foundation_Type_CB            3.451226e-05\n",
       "Foundation_Type_S             6.909428e-01\n",
       "Foundation_Type_SL            5.797654e-03\n",
       "Foundation_Type_W             4.354242e-02\n",
       "Basement_Height_Fa            8.964827e-01\n",
       "Basement_Height_Gd            1.169614e-01\n",
       "Basement_Condition_Gd         3.356290e-02\n",
       "Basement_Condition_Po         1.604599e-01\n",
       "Exposure_Level_Gd             3.647198e-14\n",
       "Exposure_Level_Mn             9.819757e-01\n",
       "BsmtFinType1_BLQ              6.785816e-01\n",
       "BsmtFinType1_GLQ              3.540330e-05\n",
       "BsmtFinType1_LwQ              9.198827e-01\n",
       "BsmtFinType1_Rec              2.467967e-01\n",
       "BsmtFinType1_Unf              5.089467e-01\n",
       "BsmtFinType2_BLQ              9.682177e-01\n",
       "BsmtFinType2_GLQ              3.911732e-01\n",
       "BsmtFinType2_LwQ              5.307638e-01\n",
       "BsmtFinType2_Rec              1.620206e-01\n",
       "Heating_Type_GasW             1.138525e-02\n",
       "Heating_Type_OthW             5.874264e-01\n",
       "Heating_Type_Wall             5.796879e-01\n",
       "Heating_Quality_Fa            4.429234e-03\n",
       "Heating_Quality_Gd            2.330780e-03\n",
       "Heating_Quality_Po            9.251822e-01\n",
       "Heating_Quality_TA            8.376528e-05\n",
       "Electrical_System_FuseF       1.770005e-01\n",
       "Electrical_System_FuseP       4.325235e-01\n",
       "Electrical_System_Mix         1.439303e-01\n",
       "Kitchen_Quality_Fa            3.237139e-01\n",
       "Kitchen_Quality_Gd            6.492442e-01\n",
       "Functional_Rate_MD1           8.356986e-01\n",
       "Functional_Rate_MD2           5.284295e-01\n",
       "Functional_Rate_MS            6.915558e-01\n",
       "Functional_Rate_MajD1         4.686773e-02\n",
       "Functional_Rate_MajD2         1.880572e-02\n",
       "Functional_Rate_Mod           5.238226e-01\n",
       "Functional_Rate_SD            2.462250e-01\n",
       "Functional_Rate_Sev           7.837403e-01\n",
       "Fireplace_Quality_Fa          3.826766e-02\n",
       "Fireplace_Quality_Po          7.459646e-02\n",
       "Fireplace_Quality_TA          5.900202e-01\n",
       "Garage_2Types                 9.867091e-01\n",
       "Garage_Basment                6.913712e-01\n",
       "Garage_BuiltIn                5.508632e-03\n",
       "Garage_CarPort                2.218946e-01\n",
       "Garage_Detchd                 4.393389e-02\n",
       "Garage_Finish_Year_RFn        3.604754e-01\n",
       "Garage_Quality_Gd             9.658906e-01\n",
       "Garage_Quality_Po             8.136434e-01\n",
       "Garage_Condition_Fa           1.942962e-01\n",
       "Garage_Condition_Gd           7.344297e-01\n",
       "Pavedd_Drive_P                5.725472e-01\n",
       "Pool_Quality_Fa               2.596020e-11\n",
       "Pool_Quality_Gd               1.846470e-06\n",
       "Fence_Quality_GdWo            1.902614e-01\n",
       "Fence_Quality_MnWw            8.335084e-01\n",
       "Miscellaneous_Feature_Othr    9.095956e-01\n",
       "Sale_Type_CWD                 4.535584e-01\n",
       "Sale_Type_Con                          NaN\n",
       "Sale_Type_ConLD               3.079374e-01\n",
       "Sale_Type_ConLI               2.770267e-01\n",
       "Sale_Type_ConLw               8.233163e-02\n",
       "Sale_Type_New                 4.494142e-09\n",
       "Sale_Type_Oth                 6.572391e-01\n",
       "Sale_Condition_Abnorml        7.651227e-03\n",
       "Sale_Condition_AdjLand        3.352620e-01\n",
       "Sale_Condition_Alloca         9.934958e-01\n",
       "Sale_Condition_Family         2.928369e-01\n",
       "Sale_Condition_NoRMDal                 NaN\n",
       "dtype: float64"
      ]
     },
     "execution_count": 39,
     "metadata": {},
     "output_type": "execute_result"
    }
   ],
   "source": [
    "dir(m1ModelBuild)\n",
    "m1ModelBuild.pvalues"
   ]
  },
  {
   "cell_type": "markdown",
   "id": "fd26cfa1",
   "metadata": {},
   "source": [
    "### Model-optimisation\n",
    "Unlike linear regression in R, we dont have a \"step()\" function.We will use a for loop and discard indep variables based on \"p-value\". The concept of the for loop will remain very similar to VIF loop."
   ]
  },
  {
   "cell_type": "code",
   "execution_count": 40,
   "id": "5a482acd",
   "metadata": {},
   "outputs": [
    {
     "name": "stdout",
     "output_type": "stream",
     "text": [
      "1\n",
      "Sale_Condition_Alloca 0.9934957912086755\n",
      "2\n",
      "Garage_2Types 0.9866075354643273\n",
      "3\n",
      "Exposure_Level_Mn 0.9819909280645873\n",
      "4\n",
      "Roof_Quality_M 0.979481446620472\n",
      "5\n",
      "Property_Slope_MS 0.973054011715911\n",
      "6\n",
      "BsmtFinType2_BLQ 0.9692465512618259\n",
      "7\n",
      "Garage_Quality_Gd 0.9653499156649796\n",
      "8\n",
      "House_Type_Duplex 0.9632739577471631\n",
      "9\n",
      "Condition1_PosN 0.9544441228207058\n",
      "10\n",
      "Exterior1st_ImStucc 0.9389040320455568\n",
      "11\n",
      "BsmtFinType1_LwQ 0.9121809214619581\n",
      "12\n",
      "Miscellaneous_Feature_Othr 0.9081600792934789\n",
      "13\n",
      "Exterior2nd_CBlock 0.9083609811427967\n",
      "14\n",
      "Land_Outline_Low 0.9040815491539531\n",
      "15\n",
      "Basement_Height_Fa 0.893411644078981\n",
      "16\n",
      "Neighborhood_SWISU 0.8924355222252589\n",
      "17\n",
      "Fence_Quality_MnWw 0.8387971461067643\n",
      "18\n",
      "Heating_Quality_Po 0.9368173993235768\n",
      "19\n",
      "Functional_Rate_MD1 0.8384964697624187\n",
      "20\n",
      "Functional_Rate_Mod 0.8795080052711174\n",
      "21\n",
      "Functional_Rate_Sev 0.9871068896161045\n",
      "22\n",
      "Exterior2nd_ImStucc 0.8084260457199842\n",
      "23\n",
      "Exterior1st_CB 0.8464903769349961\n",
      "24\n",
      "Condition2_RRAn 0.8048064672861247\n",
      "25\n",
      "Underground_Half_Bathroom 0.7950881640352561\n",
      "26\n",
      "Exterior2nd_Other 0.8251104566600265\n",
      "27\n",
      "Garage_Quality_Po 0.7917514640440929\n",
      "28\n",
      "Zoning_Class_RHD 0.7708103049925934\n",
      "29\n",
      "Functional_Rate_MS 0.8818994662833475\n",
      "30\n",
      "Neighborhood_BrDale 0.7621622398153867\n",
      "31\n",
      "Lane_Type_Paved 0.7541523611427119\n",
      "32\n",
      "Property_Shape_Reg 0.7066510488801919\n",
      "33\n",
      "Garage_Condition_Gd 0.7113264196686032\n",
      "34\n",
      "Exterior1st_AsphShn 0.6936343613225991\n",
      "35\n",
      "Sale_Type_Con 0.8991576624921821\n",
      "36\n",
      "Roof_Quality_R 0.6915585266637512\n",
      "37\n",
      "Foundation_Type_S 0.6811836846211377\n",
      "38\n",
      "BsmtFinType1_BLQ 0.6811539856646698\n",
      "39\n",
      "Garage_Basment 0.6764640269642025\n",
      "40\n",
      "Condition2_RRAe 0.8839261399354226\n",
      "41\n",
      "Kitchen_Quality_Gd 0.6477347357521841\n",
      "42\n",
      "Sale_Type_Oth 0.6327977038402579\n",
      "43\n",
      "Roof_Design_Shed 0.6154870444917016\n",
      "44\n",
      "Condition2_NoRMD 0.9099511379623093\n",
      "45\n",
      "Exterior_Condition_Po 0.59543587502486\n",
      "46\n",
      "Heating_Type_Wall 0.5673967805201386\n",
      "47\n",
      "Neighborhood_Sawyer 0.5634782418810054\n",
      "48\n",
      "Roof_Design_Mansard 0.5396011958566469\n",
      "49\n",
      "Functional_Rate_SD 0.9215955606609985\n",
      "50\n",
      "Fireplace_Quality_TA 0.5405950549202924\n",
      "51\n",
      "House_Design_2.5Unf 0.5488514924378338\n",
      "52\n",
      "Heating_Type_OthW 0.6144966923495403\n",
      "53\n",
      "Pavedd_Drive_P 0.5645536973174454\n",
      "54\n",
      "BsmtFinType2_LwQ 0.5261518232414485\n",
      "55\n",
      "Functional_Rate_MD2 0.4927718207777685\n",
      "56\n",
      "BsmtFinType1_Unf 0.4863734014218041\n",
      "57\n",
      "Electrical_System_FuseP 0.4650393130775744\n",
      "58\n",
      "Sale_Condition_AdjLand 0.46104355946991027\n",
      "59\n",
      "House_Design_1.5Unf 0.43578513256104023\n",
      "60\n",
      "Exterior_Material_Gd 0.437865060990587\n",
      "61\n",
      "Condition1_RRNe 0.4500543919407918\n",
      "62\n",
      "Condition2_RRNn 0.44226856569701645\n",
      "63\n",
      "Sale_Type_CWD 0.4343251142263903\n",
      "64\n",
      "Exterior_Condition_Gd 0.4497715124618503\n",
      "65\n",
      "Neighborhood_Blueste 0.43407786583495944\n",
      "66\n",
      "Exterior_Material_Fa 0.409996831059363\n",
      "67\n",
      "Condition1_NoRMD 0.7582642410758074\n",
      "68\n",
      "W_Deck_Area 0.42090340570203943\n",
      "69\n",
      "Neighborhood_Mitchel 0.3833564029403269\n",
      "70\n",
      "Brick_Veneer_Type_BrkFace 0.34803195519756225\n",
      "71\n",
      "Exterior2nd_AsphShn 0.33703213614731886\n",
      "72\n",
      "Garage_Finish_Year_RFn 0.34085918894777856\n",
      "73\n",
      "Exterior2nd_Brk Cmn 0.33578088536681183\n",
      "74\n",
      "Exterior1st_BrkComm 0.4664606637558034\n",
      "75\n",
      "Miscellaneous_Value 0.3435677312875116\n",
      "76\n",
      "House_Type_2fmCon 0.34846853203191064\n",
      "77\n",
      "Roof_Quality_ME 0.34068136467646437\n",
      "78\n",
      "Sale_Condition_Family 0.3303944208277595\n",
      "79\n",
      "Exterior1st_WdShing 0.318764322385303\n",
      "80\n",
      "Lot_Configuration_FR3P 0.32204311439934125\n",
      "81\n",
      "Condition1_RRNn 0.40263087168360545\n",
      "82\n",
      "Sale_Type_ConLD 0.2892889881037989\n",
      "83\n",
      "Property_Shape_IR3 0.28100726589757036\n",
      "84\n",
      "Roof_Design_Gambrel 0.27647603610834354\n",
      "85\n",
      "Fence_Quality_GdWo 0.24442592840814187\n",
      "86\n",
      "Open_Lobby_Area 0.2640156315962571\n",
      "87\n",
      "Sale_Type_ConLI 0.22991794605237456\n",
      "88\n",
      "BsmtFinType1_Rec 0.22801186200791573\n",
      "89\n",
      "Exterior1st_Stucco 0.2391918788998868\n",
      "90\n",
      "Exterior_Condition_Fa 0.21135564566344928\n",
      "91\n",
      "Exterior1st_Stone 0.21156723368946145\n",
      "92\n",
      "Exterior2nd_Stone 0.2256408564458287\n",
      "93\n",
      "Underground_Full_Bathroom 0.19887171798736417\n",
      "94\n",
      "Property_Shape_IR2 0.19534560583389257\n",
      "95\n",
      "Roof_Quality_WS 0.20374762612843136\n",
      "96\n",
      "Exterior1st_MetalSd 0.1794626003082329\n",
      "97\n",
      "Condition1_RRAn 0.1936900574288312\n",
      "98\n",
      "Basement_Height_Gd 0.18724982126499534\n",
      "99\n",
      "BsmtFinType2_Rec 0.1811906424949138\n",
      "100\n",
      "Garage_Condition_Fa 0.18088708319555977\n",
      "101\n",
      "Lot_Configuration_FR2P 0.16865123064887352\n",
      "102\n",
      "Garage_CarPort 0.14114562379388493\n",
      "103\n",
      "Condition1_RRAe 0.14504555688569878\n",
      "104\n",
      "Functional_Rate_MajD1 0.13303687743399745\n",
      "105\n",
      "Electrical_System_Mix 0.19301603342311394\n",
      "106\n",
      "Basement_Condition_Po 0.45414936555526053\n",
      "107\n",
      "Electrical_System_FuseF 0.12483865280668202\n",
      "108\n",
      "Fireplace_Quality_Po 0.12370750799178501\n",
      "109\n",
      "Enclosed_Lobby_Area 0.11163607797891661\n",
      "110\n"
     ]
    },
    {
     "data": {
      "text/plain": [
       "['Sale_Condition_Alloca',\n",
       " 'Garage_2Types',\n",
       " 'Exposure_Level_Mn',\n",
       " 'Roof_Quality_M',\n",
       " 'Property_Slope_MS',\n",
       " 'BsmtFinType2_BLQ',\n",
       " 'Garage_Quality_Gd',\n",
       " 'House_Type_Duplex',\n",
       " 'Condition1_PosN',\n",
       " 'Exterior1st_ImStucc',\n",
       " 'BsmtFinType1_LwQ',\n",
       " 'Miscellaneous_Feature_Othr',\n",
       " 'Exterior2nd_CBlock',\n",
       " 'Land_Outline_Low',\n",
       " 'Basement_Height_Fa',\n",
       " 'Neighborhood_SWISU',\n",
       " 'Fence_Quality_MnWw',\n",
       " 'Heating_Quality_Po',\n",
       " 'Functional_Rate_MD1',\n",
       " 'Functional_Rate_Mod',\n",
       " 'Functional_Rate_Sev',\n",
       " 'Exterior2nd_ImStucc',\n",
       " 'Exterior1st_CB',\n",
       " 'Condition2_RRAn',\n",
       " 'Underground_Half_Bathroom',\n",
       " 'Exterior2nd_Other',\n",
       " 'Garage_Quality_Po',\n",
       " 'Zoning_Class_RHD',\n",
       " 'Functional_Rate_MS',\n",
       " 'Neighborhood_BrDale',\n",
       " 'Lane_Type_Paved',\n",
       " 'Property_Shape_Reg',\n",
       " 'Garage_Condition_Gd',\n",
       " 'Exterior1st_AsphShn',\n",
       " 'Sale_Type_Con',\n",
       " 'Roof_Quality_R',\n",
       " 'Foundation_Type_S',\n",
       " 'BsmtFinType1_BLQ',\n",
       " 'Garage_Basment',\n",
       " 'Condition2_RRAe',\n",
       " 'Kitchen_Quality_Gd',\n",
       " 'Sale_Type_Oth',\n",
       " 'Roof_Design_Shed',\n",
       " 'Condition2_NoRMD',\n",
       " 'Exterior_Condition_Po',\n",
       " 'Heating_Type_Wall',\n",
       " 'Neighborhood_Sawyer',\n",
       " 'Roof_Design_Mansard',\n",
       " 'Functional_Rate_SD',\n",
       " 'Fireplace_Quality_TA',\n",
       " 'House_Design_2.5Unf',\n",
       " 'Heating_Type_OthW',\n",
       " 'Pavedd_Drive_P',\n",
       " 'BsmtFinType2_LwQ',\n",
       " 'Functional_Rate_MD2',\n",
       " 'BsmtFinType1_Unf',\n",
       " 'Electrical_System_FuseP',\n",
       " 'Sale_Condition_AdjLand',\n",
       " 'House_Design_1.5Unf',\n",
       " 'Exterior_Material_Gd',\n",
       " 'Condition1_RRNe',\n",
       " 'Condition2_RRNn',\n",
       " 'Sale_Type_CWD',\n",
       " 'Exterior_Condition_Gd',\n",
       " 'Neighborhood_Blueste',\n",
       " 'Exterior_Material_Fa',\n",
       " 'Condition1_NoRMD',\n",
       " 'W_Deck_Area',\n",
       " 'Neighborhood_Mitchel',\n",
       " 'Brick_Veneer_Type_BrkFace',\n",
       " 'Exterior2nd_AsphShn',\n",
       " 'Garage_Finish_Year_RFn',\n",
       " 'Exterior2nd_Brk Cmn',\n",
       " 'Exterior1st_BrkComm',\n",
       " 'Miscellaneous_Value',\n",
       " 'House_Type_2fmCon',\n",
       " 'Roof_Quality_ME',\n",
       " 'Sale_Condition_Family',\n",
       " 'Exterior1st_WdShing',\n",
       " 'Lot_Configuration_FR3P',\n",
       " 'Condition1_RRNn',\n",
       " 'Sale_Type_ConLD',\n",
       " 'Property_Shape_IR3',\n",
       " 'Roof_Design_Gambrel',\n",
       " 'Fence_Quality_GdWo',\n",
       " 'Open_Lobby_Area',\n",
       " 'Sale_Type_ConLI',\n",
       " 'BsmtFinType1_Rec',\n",
       " 'Exterior1st_Stucco',\n",
       " 'Exterior_Condition_Fa',\n",
       " 'Exterior1st_Stone',\n",
       " 'Exterior2nd_Stone',\n",
       " 'Underground_Full_Bathroom',\n",
       " 'Property_Shape_IR2',\n",
       " 'Roof_Quality_WS',\n",
       " 'Exterior1st_MetalSd',\n",
       " 'Condition1_RRAn',\n",
       " 'Basement_Height_Gd',\n",
       " 'BsmtFinType2_Rec',\n",
       " 'Garage_Condition_Fa',\n",
       " 'Lot_Configuration_FR2P',\n",
       " 'Garage_CarPort',\n",
       " 'Condition1_RRAe',\n",
       " 'Functional_Rate_MajD1',\n",
       " 'Electrical_System_Mix',\n",
       " 'Basement_Condition_Po',\n",
       " 'Electrical_System_FuseF',\n",
       " 'Fireplace_Quality_Po',\n",
       " 'Enclosed_Lobby_Area']"
      ]
     },
     "execution_count": 40,
     "metadata": {},
     "output_type": "execute_result"
    }
   ],
   "source": [
    "tempMaxPValue = 0.1\n",
    "maxPValueCutoff = 0.1\n",
    "trainXCopy = trainX.copy()\n",
    "counter = 1\n",
    "highPValueColumnNames = []\n",
    "\n",
    "\n",
    "while (tempMaxPValue >= maxPValueCutoff):\n",
    "    \n",
    "    print(counter)    \n",
    "    \n",
    "    tempModelDf = pd.DataFrame()    \n",
    "    Model = OLS(trainY, trainXCopy).fit()\n",
    "    tempModelDf['PValue'] = Model.pvalues\n",
    "    tempModelDf['Column_Name'] = trainXCopy.columns\n",
    "    tempModelDf.dropna(inplace=True) # If there is some calculation error resulting in NAs\n",
    "    tempColumnName = tempModelDf.sort_values([\"PValue\"], ascending = False).iloc[0,1]\n",
    "    tempMaxPValue = tempModelDf.sort_values([\"PValue\"], ascending = False).iloc[0,0]\n",
    "    \n",
    "    if (tempMaxPValue >= maxPValueCutoff): # This condition will ensure that ONLY columns having p-value lower than 0.1 are NOT dropped\n",
    "        print(tempColumnName, tempMaxPValue)    \n",
    "        trainXCopy = trainXCopy.drop(tempColumnName, axis = 1)    \n",
    "        highPValueColumnNames.append(tempColumnName)\n",
    "    \n",
    "    counter = counter + 1\n",
    "\n",
    "highPValueColumnNames "
   ]
  },
  {
   "cell_type": "code",
   "execution_count": 41,
   "id": "7aac7904",
   "metadata": {},
   "outputs": [],
   "source": [
    "# Check final model summary\n",
    "Model.summary()\n",
    "trainX = trainX.drop(highPValueColumnNames, axis = 1)\n",
    "testX = testX.drop(highPValueColumnNames, axis = 1)\n",
    "predictionDf = predictionDf.drop(highPValueColumnNames, axis = 1)"
   ]
  },
  {
   "cell_type": "code",
   "execution_count": 52,
   "id": "d822623e",
   "metadata": {},
   "outputs": [
    {
     "data": {
      "text/plain": [
       "(1094, 75)"
      ]
     },
     "execution_count": 52,
     "metadata": {},
     "output_type": "execute_result"
    }
   ],
   "source": [
    "trainX.shape"
   ]
  },
  {
   "cell_type": "code",
   "execution_count": 53,
   "id": "6f05ca47",
   "metadata": {},
   "outputs": [
    {
     "data": {
      "text/plain": [
       "(365, 75)"
      ]
     },
     "execution_count": 53,
     "metadata": {},
     "output_type": "execute_result"
    }
   ],
   "source": [
    "testX.shape"
   ]
  },
  {
   "cell_type": "code",
   "execution_count": 43,
   "id": "4a13714c",
   "metadata": {},
   "outputs": [
    {
     "data": {
      "text/html": [
       "<table class=\"simpletable\">\n",
       "<caption>OLS Regression Results</caption>\n",
       "<tr>\n",
       "  <th>Dep. Variable:</th>       <td>Sale_Price</td>    <th>  R-squared:         </th> <td>   0.820</td> \n",
       "</tr>\n",
       "<tr>\n",
       "  <th>Model:</th>                   <td>OLS</td>       <th>  Adj. R-squared:    </th> <td>   0.807</td> \n",
       "</tr>\n",
       "<tr>\n",
       "  <th>Method:</th>             <td>Least Squares</td>  <th>  F-statistic:       </th> <td>   63.49</td> \n",
       "</tr>\n",
       "<tr>\n",
       "  <th>Date:</th>             <td>Wed, 13 Jul 2022</td> <th>  Prob (F-statistic):</th>  <td>  0.00</td>  \n",
       "</tr>\n",
       "<tr>\n",
       "  <th>Time:</th>                 <td>20:07:41</td>     <th>  Log-Likelihood:    </th> <td> -12919.</td> \n",
       "</tr>\n",
       "<tr>\n",
       "  <th>No. Observations:</th>      <td>  1094</td>      <th>  AIC:               </th> <td>2.599e+04</td>\n",
       "</tr>\n",
       "<tr>\n",
       "  <th>Df Residuals:</th>          <td>  1020</td>      <th>  BIC:               </th> <td>2.636e+04</td>\n",
       "</tr>\n",
       "<tr>\n",
       "  <th>Df Model:</th>              <td>    73</td>      <th>                     </th>     <td> </td>    \n",
       "</tr>\n",
       "<tr>\n",
       "  <th>Covariance Type:</th>      <td>nonrobust</td>    <th>                     </th>     <td> </td>    \n",
       "</tr>\n",
       "</table>\n",
       "<table class=\"simpletable\">\n",
       "<tr>\n",
       "              <td></td>                 <th>coef</th>     <th>std err</th>      <th>t</th>      <th>P>|t|</th>  <th>[0.025</th>    <th>0.975]</th>  \n",
       "</tr>\n",
       "<tr>\n",
       "  <th>const</th>                     <td> 1.495e+05</td> <td> 3821.507</td> <td>   39.122</td> <td> 0.000</td> <td> 1.42e+05</td> <td> 1.57e+05</td>\n",
       "</tr>\n",
       "<tr>\n",
       "  <th>Brick_Veneer_Area</th>         <td>   46.0238</td> <td>    7.356</td> <td>    6.256</td> <td> 0.000</td> <td>   31.588</td> <td>   60.459</td>\n",
       "</tr>\n",
       "<tr>\n",
       "  <th>BsmtFinSF2</th>                <td>   15.6401</td> <td>    7.436</td> <td>    2.103</td> <td> 0.036</td> <td>    1.049</td> <td>   30.231</td>\n",
       "</tr>\n",
       "<tr>\n",
       "  <th>LowQualFinSF</th>              <td>  -52.0810</td> <td>   28.679</td> <td>   -1.816</td> <td> 0.070</td> <td> -108.357</td> <td>    4.195</td>\n",
       "</tr>\n",
       "<tr>\n",
       "  <th>Half_Bathroom_Above_Grade</th> <td> 1.095e+04</td> <td> 2873.383</td> <td>    3.810</td> <td> 0.000</td> <td> 5308.772</td> <td> 1.66e+04</td>\n",
       "</tr>\n",
       "<tr>\n",
       "  <th>Fireplaces</th>                <td>     2e+04</td> <td> 1963.375</td> <td>   10.184</td> <td> 0.000</td> <td> 1.61e+04</td> <td> 2.38e+04</td>\n",
       "</tr>\n",
       "<tr>\n",
       "  <th>Three_Season_Lobby_Area</th>   <td>   90.0213</td> <td>   35.029</td> <td>    2.570</td> <td> 0.010</td> <td>   21.285</td> <td>  158.758</td>\n",
       "</tr>\n",
       "<tr>\n",
       "  <th>Screen_Lobby_Area</th>         <td>   34.7724</td> <td>   20.548</td> <td>    1.692</td> <td> 0.091</td> <td>   -5.549</td> <td>   75.094</td>\n",
       "</tr>\n",
       "<tr>\n",
       "  <th>Pool_Area</th>                 <td>  524.2110</td> <td>   47.222</td> <td>   11.101</td> <td> 0.000</td> <td>  431.547</td> <td>  616.875</td>\n",
       "</tr>\n",
       "<tr>\n",
       "  <th>Zoning_Class_FVR</th>          <td> 2.413e+04</td> <td> 6241.307</td> <td>    3.866</td> <td> 0.000</td> <td> 1.19e+04</td> <td> 3.64e+04</td>\n",
       "</tr>\n",
       "<tr>\n",
       "  <th>Land_Outline_HLS</th>          <td> 1.104e+04</td> <td> 6451.491</td> <td>    1.711</td> <td> 0.087</td> <td>-1624.049</td> <td> 2.37e+04</td>\n",
       "</tr>\n",
       "<tr>\n",
       "  <th>Utility_Type_NoSeWa</th>       <td>-6.862e+04</td> <td> 3.59e+04</td> <td>   -1.912</td> <td> 0.056</td> <td>-1.39e+05</td> <td> 1812.742</td>\n",
       "</tr>\n",
       "<tr>\n",
       "  <th>Lot_Configuration_CulDSac</th> <td> 1.314e+04</td> <td> 4533.451</td> <td>    2.898</td> <td> 0.004</td> <td> 4240.904</td> <td>  2.2e+04</td>\n",
       "</tr>\n",
       "<tr>\n",
       "  <th>Property_Slope_SS</th>         <td>-4.347e+04</td> <td> 1.27e+04</td> <td>   -3.418</td> <td> 0.001</td> <td>-6.84e+04</td> <td>-1.85e+04</td>\n",
       "</tr>\n",
       "<tr>\n",
       "  <th>Neighborhood_BrkSide</th>      <td>  -1.4e+04</td> <td> 6233.301</td> <td>   -2.247</td> <td> 0.025</td> <td>-2.62e+04</td> <td>-1772.294</td>\n",
       "</tr>\n",
       "<tr>\n",
       "  <th>Neighborhood_ClearCr</th>      <td> 3.005e+04</td> <td> 8749.952</td> <td>    3.435</td> <td> 0.001</td> <td> 1.29e+04</td> <td> 4.72e+04</td>\n",
       "</tr>\n",
       "<tr>\n",
       "  <th>Neighborhood_CollgCr</th>      <td> 9680.8161</td> <td> 4333.719</td> <td>    2.234</td> <td> 0.026</td> <td> 1176.792</td> <td> 1.82e+04</td>\n",
       "</tr>\n",
       "<tr>\n",
       "  <th>Neighborhood_Crawfor</th>      <td> 2.843e+04</td> <td> 6415.277</td> <td>    4.432</td> <td> 0.000</td> <td> 1.58e+04</td> <td>  4.1e+04</td>\n",
       "</tr>\n",
       "<tr>\n",
       "  <th>Neighborhood_Edwards</th>      <td>-1.388e+04</td> <td> 4609.856</td> <td>   -3.010</td> <td> 0.003</td> <td>-2.29e+04</td> <td>-4831.729</td>\n",
       "</tr>\n",
       "<tr>\n",
       "  <th>Neighborhood_Gilbert</th>      <td>-9558.2062</td> <td> 5669.020</td> <td>   -1.686</td> <td> 0.092</td> <td>-2.07e+04</td> <td> 1566.068</td>\n",
       "</tr>\n",
       "<tr>\n",
       "  <th>Neighborhood_IDOTRR</th>       <td>-2.833e+04</td> <td> 6745.955</td> <td>   -4.200</td> <td> 0.000</td> <td>-4.16e+04</td> <td>-1.51e+04</td>\n",
       "</tr>\n",
       "<tr>\n",
       "  <th>Neighborhood_MeadowV</th>      <td>-3.383e+04</td> <td> 1.19e+04</td> <td>   -2.840</td> <td> 0.005</td> <td>-5.72e+04</td> <td>-1.05e+04</td>\n",
       "</tr>\n",
       "<tr>\n",
       "  <th>Neighborhood_NPkVill</th>      <td> 3.704e+04</td> <td> 1.55e+04</td> <td>    2.385</td> <td> 0.017</td> <td> 6560.906</td> <td> 6.75e+04</td>\n",
       "</tr>\n",
       "<tr>\n",
       "  <th>Neighborhood_NWAmes</th>       <td> 1.497e+04</td> <td> 5191.223</td> <td>    2.884</td> <td> 0.004</td> <td> 4783.539</td> <td> 2.52e+04</td>\n",
       "</tr>\n",
       "<tr>\n",
       "  <th>Neighborhood_NoRidge</th>      <td> 8.052e+04</td> <td> 7226.716</td> <td>   11.142</td> <td> 0.000</td> <td> 6.63e+04</td> <td> 9.47e+04</td>\n",
       "</tr>\n",
       "<tr>\n",
       "  <th>Neighborhood_NridgHt</th>      <td> 7.683e+04</td> <td> 5879.627</td> <td>   13.066</td> <td> 0.000</td> <td> 6.53e+04</td> <td> 8.84e+04</td>\n",
       "</tr>\n",
       "<tr>\n",
       "  <th>Neighborhood_OldTown</th>      <td>-1.935e+04</td> <td> 5056.755</td> <td>   -3.826</td> <td> 0.000</td> <td>-2.93e+04</td> <td>-9425.730</td>\n",
       "</tr>\n",
       "<tr>\n",
       "  <th>Neighborhood_SawyerW</th>      <td> 1.547e+04</td> <td> 5941.989</td> <td>    2.604</td> <td> 0.009</td> <td> 3814.872</td> <td> 2.71e+04</td>\n",
       "</tr>\n",
       "<tr>\n",
       "  <th>Neighborhood_StoneBr</th>      <td> 1.036e+05</td> <td> 1.02e+04</td> <td>   10.140</td> <td> 0.000</td> <td> 8.35e+04</td> <td> 1.24e+05</td>\n",
       "</tr>\n",
       "<tr>\n",
       "  <th>Neighborhood_Timber</th>       <td> 2.341e+04</td> <td> 7396.135</td> <td>    3.166</td> <td> 0.002</td> <td> 8899.151</td> <td> 3.79e+04</td>\n",
       "</tr>\n",
       "<tr>\n",
       "  <th>Neighborhood_Veenker</th>      <td> 2.966e+04</td> <td> 1.29e+04</td> <td>    2.307</td> <td> 0.021</td> <td> 4427.196</td> <td> 5.49e+04</td>\n",
       "</tr>\n",
       "<tr>\n",
       "  <th>Condition1_Feedr</th>          <td>-1.352e+04</td> <td> 4659.628</td> <td>   -2.902</td> <td> 0.004</td> <td>-2.27e+04</td> <td>-4380.752</td>\n",
       "</tr>\n",
       "<tr>\n",
       "  <th>Condition1_PosA</th>           <td>  3.41e+04</td> <td> 1.34e+04</td> <td>    2.543</td> <td> 0.011</td> <td> 7791.687</td> <td> 6.04e+04</td>\n",
       "</tr>\n",
       "<tr>\n",
       "  <th>Condition2_PosA</th>           <td> 1.915e+05</td> <td> 3.43e+04</td> <td>    5.588</td> <td> 0.000</td> <td> 1.24e+05</td> <td> 2.59e+05</td>\n",
       "</tr>\n",
       "<tr>\n",
       "  <th>Condition2_PosN</th>           <td>-1.987e+05</td> <td> 3.54e+04</td> <td>   -5.613</td> <td> 0.000</td> <td>-2.68e+05</td> <td>-1.29e+05</td>\n",
       "</tr>\n",
       "<tr>\n",
       "  <th>House_Type_Twnhs</th>          <td>-5.367e+04</td> <td> 6945.059</td> <td>   -7.728</td> <td> 0.000</td> <td>-6.73e+04</td> <td>   -4e+04</td>\n",
       "</tr>\n",
       "<tr>\n",
       "  <th>House_Type_TwnhsE</th>         <td>-4.658e+04</td> <td> 4499.459</td> <td>  -10.352</td> <td> 0.000</td> <td>-5.54e+04</td> <td>-3.78e+04</td>\n",
       "</tr>\n",
       "<tr>\n",
       "  <th>House_Design_2.5Fin</th>       <td> 5.337e+04</td> <td> 1.67e+04</td> <td>    3.189</td> <td> 0.001</td> <td> 2.05e+04</td> <td> 8.62e+04</td>\n",
       "</tr>\n",
       "<tr>\n",
       "  <th>House_Design_2Story</th>       <td> 9693.1431</td> <td> 3297.611</td> <td>    2.939</td> <td> 0.003</td> <td> 3222.266</td> <td> 1.62e+04</td>\n",
       "</tr>\n",
       "<tr>\n",
       "  <th>House_Design_SFoyer</th>       <td> -1.79e+04</td> <td> 6495.528</td> <td>   -2.755</td> <td> 0.006</td> <td>-3.06e+04</td> <td>-5148.900</td>\n",
       "</tr>\n",
       "<tr>\n",
       "  <th>House_Design_SLvl</th>         <td>-1.204e+04</td> <td> 5595.560</td> <td>   -2.151</td> <td> 0.032</td> <td> -2.3e+04</td> <td>-1058.490</td>\n",
       "</tr>\n",
       "<tr>\n",
       "  <th>Roof_Design_Hip</th>           <td> 1.643e+04</td> <td> 2887.334</td> <td>    5.690</td> <td> 0.000</td> <td> 1.08e+04</td> <td> 2.21e+04</td>\n",
       "</tr>\n",
       "<tr>\n",
       "  <th>Roof_Quality_TG</th>           <td>-2.365e+04</td> <td> 1.37e+04</td> <td>   -1.726</td> <td> 0.085</td> <td>-5.05e+04</td> <td> 3242.912</td>\n",
       "</tr>\n",
       "<tr>\n",
       "  <th>Exterior1st_BrkFace</th>       <td> 3.258e+04</td> <td> 7731.901</td> <td>    4.213</td> <td> 0.000</td> <td> 1.74e+04</td> <td> 4.77e+04</td>\n",
       "</tr>\n",
       "<tr>\n",
       "  <th>Exterior1st_CemntBd</th>       <td> 3.392e+04</td> <td> 6282.978</td> <td>    5.399</td> <td> 0.000</td> <td> 2.16e+04</td> <td> 4.63e+04</td>\n",
       "</tr>\n",
       "<tr>\n",
       "  <th>Exterior1st_Plywood</th>       <td> 1.813e+04</td> <td> 6549.544</td> <td>    2.768</td> <td> 0.006</td> <td> 5276.085</td> <td>  3.1e+04</td>\n",
       "</tr>\n",
       "<tr>\n",
       "  <th>Exterior2nd_BrkFace</th>       <td>-1.896e+04</td> <td> 1.09e+04</td> <td>   -1.739</td> <td> 0.082</td> <td>-4.04e+04</td> <td> 2429.002</td>\n",
       "</tr>\n",
       "<tr>\n",
       "  <th>Exterior2nd_HdBoard</th>       <td>-9460.1261</td> <td> 3602.970</td> <td>   -2.626</td> <td> 0.009</td> <td>-1.65e+04</td> <td>-2390.045</td>\n",
       "</tr>\n",
       "<tr>\n",
       "  <th>Exterior2nd_Plywood</th>       <td>-1.707e+04</td> <td> 5689.265</td> <td>   -3.000</td> <td> 0.003</td> <td>-2.82e+04</td> <td>-5901.437</td>\n",
       "</tr>\n",
       "<tr>\n",
       "  <th>Exterior2nd_Stucco</th>        <td>-4.035e+04</td> <td> 9628.590</td> <td>   -4.191</td> <td> 0.000</td> <td>-5.92e+04</td> <td>-2.15e+04</td>\n",
       "</tr>\n",
       "<tr>\n",
       "  <th>Exterior2nd_Wd Sdng</th>       <td>-1.035e+04</td> <td> 3562.655</td> <td>   -2.904</td> <td> 0.004</td> <td>-1.73e+04</td> <td>-3355.232</td>\n",
       "</tr>\n",
       "<tr>\n",
       "  <th>Exterior2nd_Wd Shng</th>       <td>-1.744e+04</td> <td> 6884.998</td> <td>   -2.533</td> <td> 0.011</td> <td> -3.1e+04</td> <td>-3929.949</td>\n",
       "</tr>\n",
       "<tr>\n",
       "  <th>Brick_Veneer_Type_Stone</th>   <td>  2.13e+04</td> <td> 4303.642</td> <td>    4.948</td> <td> 0.000</td> <td> 1.29e+04</td> <td> 2.97e+04</td>\n",
       "</tr>\n",
       "<tr>\n",
       "  <th>Foundation_Type_CB</th>        <td>-1.478e+04</td> <td> 2978.959</td> <td>   -4.963</td> <td> 0.000</td> <td>-2.06e+04</td> <td>-8938.693</td>\n",
       "</tr>\n",
       "<tr>\n",
       "  <th>Foundation_Type_SL</th>        <td>-2.854e+04</td> <td> 8136.363</td> <td>   -3.508</td> <td> 0.000</td> <td>-4.45e+04</td> <td>-1.26e+04</td>\n",
       "</tr>\n",
       "<tr>\n",
       "  <th>Foundation_Type_W</th>         <td>-6.786e+04</td> <td> 3.58e+04</td> <td>   -1.893</td> <td> 0.059</td> <td>-1.38e+05</td> <td> 2479.550</td>\n",
       "</tr>\n",
       "<tr>\n",
       "  <th>Basement_Condition_Gd</th>     <td> 1.256e+04</td> <td> 4866.113</td> <td>    2.580</td> <td> 0.010</td> <td> 3006.543</td> <td> 2.21e+04</td>\n",
       "</tr>\n",
       "<tr>\n",
       "  <th>Exposure_Level_Gd</th>         <td> 3.423e+04</td> <td> 4080.648</td> <td>    8.389</td> <td> 0.000</td> <td> 2.62e+04</td> <td> 4.22e+04</td>\n",
       "</tr>\n",
       "<tr>\n",
       "  <th>BsmtFinType1_GLQ</th>          <td> 2.161e+04</td> <td> 2882.789</td> <td>    7.495</td> <td> 0.000</td> <td> 1.59e+04</td> <td> 2.73e+04</td>\n",
       "</tr>\n",
       "<tr>\n",
       "  <th>BsmtFinType2_GLQ</th>          <td> 2.058e+04</td> <td> 1.08e+04</td> <td>    1.909</td> <td> 0.057</td> <td> -578.778</td> <td> 4.17e+04</td>\n",
       "</tr>\n",
       "<tr>\n",
       "  <th>Heating_Type_GasW</th>         <td> 2.881e+04</td> <td> 1.01e+04</td> <td>    2.847</td> <td> 0.005</td> <td> 8951.018</td> <td> 4.87e+04</td>\n",
       "</tr>\n",
       "<tr>\n",
       "  <th>Heating_Quality_Fa</th>        <td>-2.517e+04</td> <td> 6144.958</td> <td>   -4.096</td> <td> 0.000</td> <td>-3.72e+04</td> <td>-1.31e+04</td>\n",
       "</tr>\n",
       "<tr>\n",
       "  <th>Heating_Quality_Gd</th>        <td>-1.182e+04</td> <td> 3330.720</td> <td>   -3.548</td> <td> 0.000</td> <td>-1.84e+04</td> <td>-5280.318</td>\n",
       "</tr>\n",
       "<tr>\n",
       "  <th>Heating_Quality_TA</th>        <td>-1.464e+04</td> <td> 3137.338</td> <td>   -4.665</td> <td> 0.000</td> <td>-2.08e+04</td> <td>-8478.937</td>\n",
       "</tr>\n",
       "<tr>\n",
       "  <th>Kitchen_Quality_Fa</th>        <td> -1.38e+04</td> <td> 6703.251</td> <td>   -2.058</td> <td> 0.040</td> <td> -2.7e+04</td> <td> -643.713</td>\n",
       "</tr>\n",
       "<tr>\n",
       "  <th>Functional_Rate_MajD2</th>     <td>-3.851e+04</td> <td> 1.57e+04</td> <td>   -2.454</td> <td> 0.014</td> <td>-6.93e+04</td> <td>-7716.888</td>\n",
       "</tr>\n",
       "<tr>\n",
       "  <th>Fireplace_Quality_Fa</th>      <td>-1.315e+04</td> <td> 6933.109</td> <td>   -1.896</td> <td> 0.058</td> <td>-2.68e+04</td> <td>  457.616</td>\n",
       "</tr>\n",
       "<tr>\n",
       "  <th>Garage_BuiltIn</th>            <td> 1.509e+04</td> <td> 4750.144</td> <td>    3.178</td> <td> 0.002</td> <td> 5773.145</td> <td> 2.44e+04</td>\n",
       "</tr>\n",
       "<tr>\n",
       "  <th>Garage_Detchd</th>             <td>-5396.5734</td> <td> 2873.543</td> <td>   -1.878</td> <td> 0.061</td> <td> -1.1e+04</td> <td>  242.158</td>\n",
       "</tr>\n",
       "<tr>\n",
       "  <th>Pool_Quality_Fa</th>           <td>-2.842e+05</td> <td> 3.74e+04</td> <td>   -7.602</td> <td> 0.000</td> <td>-3.58e+05</td> <td>-2.11e+05</td>\n",
       "</tr>\n",
       "<tr>\n",
       "  <th>Pool_Quality_Gd</th>           <td>-2.383e+05</td> <td> 4.02e+04</td> <td>   -5.926</td> <td> 0.000</td> <td>-3.17e+05</td> <td>-1.59e+05</td>\n",
       "</tr>\n",
       "<tr>\n",
       "  <th>Sale_Type_ConLw</th>           <td>-3.298e+04</td> <td> 1.73e+04</td> <td>   -1.903</td> <td> 0.057</td> <td> -6.7e+04</td> <td> 1036.226</td>\n",
       "</tr>\n",
       "<tr>\n",
       "  <th>Sale_Type_New</th>             <td> 2.959e+04</td> <td> 4365.369</td> <td>    6.778</td> <td> 0.000</td> <td>  2.1e+04</td> <td> 3.82e+04</td>\n",
       "</tr>\n",
       "<tr>\n",
       "  <th>Sale_Condition_Abnorml</th>    <td>-1.197e+04</td> <td> 4427.901</td> <td>   -2.703</td> <td> 0.007</td> <td>-2.07e+04</td> <td>-3281.775</td>\n",
       "</tr>\n",
       "<tr>\n",
       "  <th>Sale_Condition_NoRMDal</th>    <td>         0</td> <td>        0</td> <td>      nan</td> <td>   nan</td> <td>        0</td> <td>        0</td>\n",
       "</tr>\n",
       "</table>\n",
       "<table class=\"simpletable\">\n",
       "<tr>\n",
       "  <th>Omnibus:</th>       <td>164.977</td> <th>  Durbin-Watson:     </th> <td>   2.058</td> \n",
       "</tr>\n",
       "<tr>\n",
       "  <th>Prob(Omnibus):</th> <td> 0.000</td>  <th>  Jarque-Bera (JB):  </th> <td> 557.134</td> \n",
       "</tr>\n",
       "<tr>\n",
       "  <th>Skew:</th>          <td> 0.719</td>  <th>  Prob(JB):          </th> <td>1.05e-121</td>\n",
       "</tr>\n",
       "<tr>\n",
       "  <th>Kurtosis:</th>      <td> 6.187</td>  <th>  Cond. No.          </th> <td>1.22e+16</td> \n",
       "</tr>\n",
       "</table><br/><br/>Notes:<br/>[1] Standard Errors assume that the covariance matrix of the errors is correctly specified.<br/>[2] The smallest eigenvalue is 3.1e-25. This might indicate that there are<br/>strong multicollinearity problems or that the design matrix is singular."
      ],
      "text/plain": [
       "<class 'statsmodels.iolib.summary.Summary'>\n",
       "\"\"\"\n",
       "                            OLS Regression Results                            \n",
       "==============================================================================\n",
       "Dep. Variable:             Sale_Price   R-squared:                       0.820\n",
       "Model:                            OLS   Adj. R-squared:                  0.807\n",
       "Method:                 Least Squares   F-statistic:                     63.49\n",
       "Date:                Wed, 13 Jul 2022   Prob (F-statistic):               0.00\n",
       "Time:                        20:07:41   Log-Likelihood:                -12919.\n",
       "No. Observations:                1094   AIC:                         2.599e+04\n",
       "Df Residuals:                    1020   BIC:                         2.636e+04\n",
       "Df Model:                          73                                         \n",
       "Covariance Type:            nonrobust                                         \n",
       "=============================================================================================\n",
       "                                coef    std err          t      P>|t|      [0.025      0.975]\n",
       "---------------------------------------------------------------------------------------------\n",
       "const                      1.495e+05   3821.507     39.122      0.000    1.42e+05    1.57e+05\n",
       "Brick_Veneer_Area            46.0238      7.356      6.256      0.000      31.588      60.459\n",
       "BsmtFinSF2                   15.6401      7.436      2.103      0.036       1.049      30.231\n",
       "LowQualFinSF                -52.0810     28.679     -1.816      0.070    -108.357       4.195\n",
       "Half_Bathroom_Above_Grade  1.095e+04   2873.383      3.810      0.000    5308.772    1.66e+04\n",
       "Fireplaces                     2e+04   1963.375     10.184      0.000    1.61e+04    2.38e+04\n",
       "Three_Season_Lobby_Area      90.0213     35.029      2.570      0.010      21.285     158.758\n",
       "Screen_Lobby_Area            34.7724     20.548      1.692      0.091      -5.549      75.094\n",
       "Pool_Area                   524.2110     47.222     11.101      0.000     431.547     616.875\n",
       "Zoning_Class_FVR           2.413e+04   6241.307      3.866      0.000    1.19e+04    3.64e+04\n",
       "Land_Outline_HLS           1.104e+04   6451.491      1.711      0.087   -1624.049    2.37e+04\n",
       "Utility_Type_NoSeWa       -6.862e+04   3.59e+04     -1.912      0.056   -1.39e+05    1812.742\n",
       "Lot_Configuration_CulDSac  1.314e+04   4533.451      2.898      0.004    4240.904     2.2e+04\n",
       "Property_Slope_SS         -4.347e+04   1.27e+04     -3.418      0.001   -6.84e+04   -1.85e+04\n",
       "Neighborhood_BrkSide        -1.4e+04   6233.301     -2.247      0.025   -2.62e+04   -1772.294\n",
       "Neighborhood_ClearCr       3.005e+04   8749.952      3.435      0.001    1.29e+04    4.72e+04\n",
       "Neighborhood_CollgCr       9680.8161   4333.719      2.234      0.026    1176.792    1.82e+04\n",
       "Neighborhood_Crawfor       2.843e+04   6415.277      4.432      0.000    1.58e+04     4.1e+04\n",
       "Neighborhood_Edwards      -1.388e+04   4609.856     -3.010      0.003   -2.29e+04   -4831.729\n",
       "Neighborhood_Gilbert      -9558.2062   5669.020     -1.686      0.092   -2.07e+04    1566.068\n",
       "Neighborhood_IDOTRR       -2.833e+04   6745.955     -4.200      0.000   -4.16e+04   -1.51e+04\n",
       "Neighborhood_MeadowV      -3.383e+04   1.19e+04     -2.840      0.005   -5.72e+04   -1.05e+04\n",
       "Neighborhood_NPkVill       3.704e+04   1.55e+04      2.385      0.017    6560.906    6.75e+04\n",
       "Neighborhood_NWAmes        1.497e+04   5191.223      2.884      0.004    4783.539    2.52e+04\n",
       "Neighborhood_NoRidge       8.052e+04   7226.716     11.142      0.000    6.63e+04    9.47e+04\n",
       "Neighborhood_NridgHt       7.683e+04   5879.627     13.066      0.000    6.53e+04    8.84e+04\n",
       "Neighborhood_OldTown      -1.935e+04   5056.755     -3.826      0.000   -2.93e+04   -9425.730\n",
       "Neighborhood_SawyerW       1.547e+04   5941.989      2.604      0.009    3814.872    2.71e+04\n",
       "Neighborhood_StoneBr       1.036e+05   1.02e+04     10.140      0.000    8.35e+04    1.24e+05\n",
       "Neighborhood_Timber        2.341e+04   7396.135      3.166      0.002    8899.151    3.79e+04\n",
       "Neighborhood_Veenker       2.966e+04   1.29e+04      2.307      0.021    4427.196    5.49e+04\n",
       "Condition1_Feedr          -1.352e+04   4659.628     -2.902      0.004   -2.27e+04   -4380.752\n",
       "Condition1_PosA             3.41e+04   1.34e+04      2.543      0.011    7791.687    6.04e+04\n",
       "Condition2_PosA            1.915e+05   3.43e+04      5.588      0.000    1.24e+05    2.59e+05\n",
       "Condition2_PosN           -1.987e+05   3.54e+04     -5.613      0.000   -2.68e+05   -1.29e+05\n",
       "House_Type_Twnhs          -5.367e+04   6945.059     -7.728      0.000   -6.73e+04      -4e+04\n",
       "House_Type_TwnhsE         -4.658e+04   4499.459    -10.352      0.000   -5.54e+04   -3.78e+04\n",
       "House_Design_2.5Fin        5.337e+04   1.67e+04      3.189      0.001    2.05e+04    8.62e+04\n",
       "House_Design_2Story        9693.1431   3297.611      2.939      0.003    3222.266    1.62e+04\n",
       "House_Design_SFoyer        -1.79e+04   6495.528     -2.755      0.006   -3.06e+04   -5148.900\n",
       "House_Design_SLvl         -1.204e+04   5595.560     -2.151      0.032    -2.3e+04   -1058.490\n",
       "Roof_Design_Hip            1.643e+04   2887.334      5.690      0.000    1.08e+04    2.21e+04\n",
       "Roof_Quality_TG           -2.365e+04   1.37e+04     -1.726      0.085   -5.05e+04    3242.912\n",
       "Exterior1st_BrkFace        3.258e+04   7731.901      4.213      0.000    1.74e+04    4.77e+04\n",
       "Exterior1st_CemntBd        3.392e+04   6282.978      5.399      0.000    2.16e+04    4.63e+04\n",
       "Exterior1st_Plywood        1.813e+04   6549.544      2.768      0.006    5276.085     3.1e+04\n",
       "Exterior2nd_BrkFace       -1.896e+04   1.09e+04     -1.739      0.082   -4.04e+04    2429.002\n",
       "Exterior2nd_HdBoard       -9460.1261   3602.970     -2.626      0.009   -1.65e+04   -2390.045\n",
       "Exterior2nd_Plywood       -1.707e+04   5689.265     -3.000      0.003   -2.82e+04   -5901.437\n",
       "Exterior2nd_Stucco        -4.035e+04   9628.590     -4.191      0.000   -5.92e+04   -2.15e+04\n",
       "Exterior2nd_Wd Sdng       -1.035e+04   3562.655     -2.904      0.004   -1.73e+04   -3355.232\n",
       "Exterior2nd_Wd Shng       -1.744e+04   6884.998     -2.533      0.011    -3.1e+04   -3929.949\n",
       "Brick_Veneer_Type_Stone     2.13e+04   4303.642      4.948      0.000    1.29e+04    2.97e+04\n",
       "Foundation_Type_CB        -1.478e+04   2978.959     -4.963      0.000   -2.06e+04   -8938.693\n",
       "Foundation_Type_SL        -2.854e+04   8136.363     -3.508      0.000   -4.45e+04   -1.26e+04\n",
       "Foundation_Type_W         -6.786e+04   3.58e+04     -1.893      0.059   -1.38e+05    2479.550\n",
       "Basement_Condition_Gd      1.256e+04   4866.113      2.580      0.010    3006.543    2.21e+04\n",
       "Exposure_Level_Gd          3.423e+04   4080.648      8.389      0.000    2.62e+04    4.22e+04\n",
       "BsmtFinType1_GLQ           2.161e+04   2882.789      7.495      0.000    1.59e+04    2.73e+04\n",
       "BsmtFinType2_GLQ           2.058e+04   1.08e+04      1.909      0.057    -578.778    4.17e+04\n",
       "Heating_Type_GasW          2.881e+04   1.01e+04      2.847      0.005    8951.018    4.87e+04\n",
       "Heating_Quality_Fa        -2.517e+04   6144.958     -4.096      0.000   -3.72e+04   -1.31e+04\n",
       "Heating_Quality_Gd        -1.182e+04   3330.720     -3.548      0.000   -1.84e+04   -5280.318\n",
       "Heating_Quality_TA        -1.464e+04   3137.338     -4.665      0.000   -2.08e+04   -8478.937\n",
       "Kitchen_Quality_Fa         -1.38e+04   6703.251     -2.058      0.040    -2.7e+04    -643.713\n",
       "Functional_Rate_MajD2     -3.851e+04   1.57e+04     -2.454      0.014   -6.93e+04   -7716.888\n",
       "Fireplace_Quality_Fa      -1.315e+04   6933.109     -1.896      0.058   -2.68e+04     457.616\n",
       "Garage_BuiltIn             1.509e+04   4750.144      3.178      0.002    5773.145    2.44e+04\n",
       "Garage_Detchd             -5396.5734   2873.543     -1.878      0.061    -1.1e+04     242.158\n",
       "Pool_Quality_Fa           -2.842e+05   3.74e+04     -7.602      0.000   -3.58e+05   -2.11e+05\n",
       "Pool_Quality_Gd           -2.383e+05   4.02e+04     -5.926      0.000   -3.17e+05   -1.59e+05\n",
       "Sale_Type_ConLw           -3.298e+04   1.73e+04     -1.903      0.057    -6.7e+04    1036.226\n",
       "Sale_Type_New              2.959e+04   4365.369      6.778      0.000     2.1e+04    3.82e+04\n",
       "Sale_Condition_Abnorml    -1.197e+04   4427.901     -2.703      0.007   -2.07e+04   -3281.775\n",
       "Sale_Condition_NoRMDal             0          0        nan        nan           0           0\n",
       "==============================================================================\n",
       "Omnibus:                      164.977   Durbin-Watson:                   2.058\n",
       "Prob(Omnibus):                  0.000   Jarque-Bera (JB):              557.134\n",
       "Skew:                           0.719   Prob(JB):                    1.05e-121\n",
       "Kurtosis:                       6.187   Cond. No.                     1.22e+16\n",
       "==============================================================================\n",
       "\n",
       "Notes:\n",
       "[1] Standard Errors assume that the covariance matrix of the errors is correctly specified.\n",
       "[2] The smallest eigenvalue is 3.1e-25. This might indicate that there are\n",
       "strong multicollinearity problems or that the design matrix is singular.\n",
       "\"\"\""
      ]
     },
     "execution_count": 43,
     "metadata": {},
     "output_type": "execute_result"
    }
   ],
   "source": [
    "# Build model on trainX, trainY (after removing insignificant columns)\n",
    "Model = OLS(trainY, trainX).fit()\n",
    "Model.summary()"
   ]
  },
  {
   "cell_type": "markdown",
   "id": "62cd2037",
   "metadata": {},
   "source": [
    "Model prediction"
   ]
  },
  {
   "cell_type": "code",
   "execution_count": 44,
   "id": "432c36c7",
   "metadata": {},
   "outputs": [
    {
     "data": {
      "text/plain": [
       "409    339750.0\n",
       "369    162000.0\n",
       "708    179540.0\n",
       "754    156000.0\n",
       "146    105000.0\n",
       "275    205000.0\n",
       "Name: Sale_Price, dtype: float64"
      ]
     },
     "execution_count": 44,
     "metadata": {},
     "output_type": "execute_result"
    }
   ],
   "source": [
    "Test_Pred = Model.predict(testX)\n",
    "Test_Pred[0:6]\n",
    "testY[:6]"
   ]
  },
  {
   "cell_type": "markdown",
   "id": "94de0339",
   "metadata": {},
   "source": [
    "Model Diagnostic Plots (Validating the assumptions)"
   ]
  },
  {
   "cell_type": "code",
   "execution_count": 45,
   "id": "9fb7068a",
   "metadata": {},
   "outputs": [],
   "source": [
    "import seaborn as sns"
   ]
  },
  {
   "cell_type": "code",
   "execution_count": 46,
   "id": "9f9e702b",
   "metadata": {},
   "outputs": [
    {
     "name": "stderr",
     "output_type": "stream",
     "text": [
      "/Users/sheeba/opt/anaconda3/lib/python3.8/site-packages/seaborn/_decorators.py:36: FutureWarning: Pass the following variables as keyword args: x, y. From version 0.12, the only valid positional argument will be `data`, and passing other arguments without an explicit keyword will result in an error or misinterpretation.\n",
      "  warnings.warn(\n"
     ]
    },
    {
     "data": {
      "text/plain": [
       "<AxesSubplot:>"
      ]
     },
     "execution_count": 46,
     "metadata": {},
     "output_type": "execute_result"
    },
    {
     "data": {
      "image/png": "[encoded data removed]",
      "text/plain": [
       "<Figure size 432x288 with 1 Axes>"
      ]
     },
     "metadata": {
      "needs_background": "light"
     },
     "output_type": "display_data"
    }
   ],
   "source": [
    "# Homoskedasticity check\n",
    "sns.scatterplot(Model.fittedvalues, Model.resid) # Should not show prominent non-constant variance (heteroskadastic) of errors against fitted values"
   ]
  },
  {
   "cell_type": "code",
   "execution_count": 47,
   "id": "f75332ff",
   "metadata": {},
   "outputs": [
    {
     "name": "stderr",
     "output_type": "stream",
     "text": [
      "/Users/sheeba/opt/anaconda3/lib/python3.8/site-packages/seaborn/distributions.py:2557: FutureWarning: `distplot` is a deprecated function and will be removed in a future version. Please adapt your code to use either `displot` (a figure-level function with similar flexibility) or `histplot` (an axes-level function for histograms).\n",
      "  warnings.warn(msg, FutureWarning)\n"
     ]
    },
    {
     "data": {
      "text/plain": [
       "<AxesSubplot:ylabel='Density'>"
      ]
     },
     "execution_count": 47,
     "metadata": {},
     "output_type": "execute_result"
    },
    {
     "data": {
      "image/png": "[encoded data removed]",
      "text/plain": [
       "<Figure size 432x288 with 1 Axes>"
      ]
     },
     "metadata": {
      "needs_background": "light"
     },
     "output_type": "display_data"
    }
   ],
   "source": [
    "# Normality of errors check\n",
    "sns.distplot(Model.resid) # Should be somewhat close to normal distribution"
   ]
  },
  {
   "cell_type": "code",
   "execution_count": 48,
   "id": "484cb138",
   "metadata": {},
   "outputs": [],
   "source": [
    "# ## In case you would like the plots in different windows, you need to\n",
    "# ## open a new window first using figure() method from matplotlib library\n",
    "# ## figure() in python is equivalent to windows() in R\n",
    "# from matplotlib.pyplot import figure\n",
    "# figure()\n",
    "# sns.scatterplot(Model.fittedvalues, Model.resid)\n",
    "# figure()\n",
    "# sns.distplot(Model.resid)"
   ]
  },
  {
   "cell_type": "markdown",
   "id": "d90b445a",
   "metadata": {},
   "source": [
    "### Model Evaluation"
   ]
  },
  {
   "cell_type": "code",
   "execution_count": 49,
   "id": "88124d89",
   "metadata": {},
   "outputs": [
    {
     "data": {
      "text/plain": [
       "49760.395413539205"
      ]
     },
     "execution_count": 49,
     "metadata": {},
     "output_type": "execute_result"
    }
   ],
   "source": [
    "# RMSE\n",
    "import numpy as np\n",
    "np.sqrt(np.mean((testY - Test_Pred)**2))\n",
    "# This means on an \"average\", the house price prediction would have +/- error of about 56140"
   ]
  },
  {
   "cell_type": "markdown",
   "id": "8cf6eab4",
   "metadata": {},
   "source": [
    "Now, is this a good model? Probably an \"Average\" model. If I told you your house was going to sell for dollar 300,000 and then it actually only sold for dollar244,000 (Roughly dollar 56,000 error), you would be pretty mad. dollar56,000 is a reasonable difference when you're buying/selling a home. If the prediction is dollar 300,000, then the house would be cold somewhere between dollar 244,000 and dollar 356,000. But what if I told you that I could predict GDP (Gross Domestic Product) of the US with only an average error of dollar56000? Well, since the GDPs are usually around dollar 20 trillion, that difference (of dollar56,000) wouldn't be so big. So, an RMSE of dollar 56,000 would be acceptable in a GDP model but not in Property prediction model like ours! So, there is a bit of relativity involved in RMSE values."
   ]
  },
  {
   "cell_type": "code",
   "execution_count": 50,
   "id": "d8efc128",
   "metadata": {},
   "outputs": [
    {
     "data": {
      "text/plain": [
       "17.256439908590835"
      ]
     },
     "execution_count": 50,
     "metadata": {},
     "output_type": "execute_result"
    }
   ],
   "source": [
    "# MAPE (Mean Absolute Percentage Error)\n",
    "(np.mean(np.abs(((testY - Test_Pred)/testY))))*100\n",
    "# This means on an \"average\", the house price prediction would have +/- error of 20%\n",
    "# Generally, MAPE under 10% is considered very good, and anything under 20% is reasonable.\n",
    "# MAPE over 20% is usually not considered great.\n"
   ]
  }
 ],
 "metadata": {
  "kernelspec": {
   "display_name": "Python 3",
   "language": "python",
   "name": "python3"
  },
  "language_info": {
   "codemirror_mode": {
    "name": "ipython",
    "version": 3
   },
   "file_extension": ".py",
   "mimetype": "text/x-python",
   "name": "python",
   "nbconvert_exporter": "python",
   "pygments_lexer": "ipython3",
   "version": "3.8.8"
  }
 },
 "nbformat": 4,
 "nbformat_minor": 5
}
